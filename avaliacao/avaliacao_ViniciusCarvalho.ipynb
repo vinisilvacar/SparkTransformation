{
 "cells": [
  {
   "cell_type": "markdown",
   "id": "e4a0250a-e645-41d3-b81d-c7ed99073313",
   "metadata": {},
   "source": [
    "# Avaliação de Conhecimentos - Curso de Spark"
   ]
  },
  {
   "cell_type": "markdown",
   "id": "dad13816-63b3-4727-8b89-21a89318ef3a",
   "metadata": {},
   "source": [
    "## Importações básicas"
   ]
  },
  {
   "cell_type": "code",
   "execution_count": 1,
   "id": "797792f9-bc64-43e6-94d1-09c0cde388a3",
   "metadata": {},
   "outputs": [
    {
     "data": {
      "text/html": [
       "<style>pre { white-space: pre !important; }</style>"
      ],
      "text/plain": [
       "<IPython.core.display.HTML object>"
      ]
     },
     "metadata": {},
     "output_type": "display_data"
    }
   ],
   "source": [
    "from pyspark.sql import SparkSession\n",
    "import pyspark.sql.functions as F\n",
    "\n",
    "\n",
    "from IPython.core.display import HTML\n",
    "display(HTML(\"<style>pre { white-space: pre !important; }</style>\"))"
   ]
  },
  {
   "cell_type": "markdown",
   "id": "4098cec0-0c24-4870-a0b5-41ced72173b7",
   "metadata": {},
   "source": [
    "## Iniciar a sessão Spark"
   ]
  },
  {
   "cell_type": "code",
   "execution_count": 2,
   "id": "1dc73819-5885-40de-925b-74e93ab82355",
   "metadata": {},
   "outputs": [
    {
     "name": "stdout",
     "output_type": "stream",
     "text": [
      ":: loading settings :: url = jar:file:/home/aluno/.local/lib/python3.8/site-packages/pyspark/jars/ivy-2.5.0.jar!/org/apache/ivy/core/settings/ivysettings.xml\n"
     ]
    },
    {
     "name": "stderr",
     "output_type": "stream",
     "text": [
      "Ivy Default Cache set to: /home/aluno/.ivy2/cache\n",
      "The jars for the packages stored in: /home/aluno/.ivy2/jars\n",
      "org.postgresql#postgresql added as a dependency\n",
      ":: resolving dependencies :: org.apache.spark#spark-submit-parent-b718fb6b-5b4e-462b-ab8f-412c04f33322;1.0\n",
      "\tconfs: [default]\n",
      "\tfound org.postgresql#postgresql;42.3.4 in central\n",
      "\tfound org.checkerframework#checker-qual;3.5.0 in central\n",
      ":: resolution report :: resolve 381ms :: artifacts dl 7ms\n",
      "\t:: modules in use:\n",
      "\torg.checkerframework#checker-qual;3.5.0 from central in [default]\n",
      "\torg.postgresql#postgresql;42.3.4 from central in [default]\n",
      "\t---------------------------------------------------------------------\n",
      "\t|                  |            modules            ||   artifacts   |\n",
      "\t|       conf       | number| search|dwnlded|evicted|| number|dwnlded|\n",
      "\t---------------------------------------------------------------------\n",
      "\t|      default     |   2   |   0   |   0   |   0   ||   2   |   0   |\n",
      "\t---------------------------------------------------------------------\n",
      ":: retrieving :: org.apache.spark#spark-submit-parent-b718fb6b-5b4e-462b-ab8f-412c04f33322\n",
      "\tconfs: [default]\n",
      "\t0 artifacts copied, 2 already retrieved (0kB/7ms)\n",
      "22/12/01 00:38:08 WARN NativeCodeLoader: Unable to load native-hadoop library for your platform... using builtin-java classes where applicable\n",
      "Using Spark's default log4j profile: org/apache/spark/log4j-defaults.properties\n",
      "Setting default log level to \"WARN\".\n",
      "To adjust logging level use sc.setLogLevel(newLevel). For SparkR, use setLogLevel(newLevel).\n"
     ]
    }
   ],
   "source": [
    "spark = SparkSession.builder\\\n",
    "                    .config(\"spark.master\",\"local[*]\")\\\n",
    "                    .config(\"spark.jars.packages\", \"org.postgresql:postgresql:42.3.4\")\\\n",
    "                    .appName(\"Tranformações - Aula x\")\\\n",
    "                    .getOrCreate()\n",
    "\n",
    "spark.sparkContext.setLogLevel(\"ERROR\")"
   ]
  },
  {
   "cell_type": "markdown",
   "id": "64b97498-6b3b-40b7-beca-061e5c76dcfe",
   "metadata": {},
   "source": [
    "## Carga de Arquivos - Compras Públicas"
   ]
  },
  {
   "cell_type": "code",
   "execution_count": 4,
   "id": "9f307daf-b693-4867-a914-af26ff33b75c",
   "metadata": {},
   "outputs": [],
   "source": [
    "# importe dos tipos de dados para criação do esquema manual\n",
    "from pyspark.sql.types import StructField, StructType, StringType, IntegerType, LongType, DateType, DoubleType, DecimalType\n",
    "\n",
    "schemaCompra = StructType().add(StructField(\"nr_cont\", IntegerType()))\\\n",
    "                           .add(StructField(\"obj\", StringType()))\\\n",
    "                           .add(StructField(\"fund_leg\", StringType()))\\\n",
    "                           .add(StructField(\"mod_comp\", StringType()))\\\n",
    "                           .add(StructField(\"sit_cont\", StringType()))\\\n",
    "                           .add(StructField(\"cod_org_sup\", IntegerType()))\\\n",
    "                           .add(StructField(\"nm_org_sup\", StringType()))\\\n",
    "                           .add(StructField(\"cod_org\", IntegerType()))\\\n",
    "                           .add(StructField(\"nm_org\", StringType()))\\\n",
    "                           .add(StructField(\"cod_ug\", IntegerType()))\\\n",
    "                           .add(StructField(\"nm_ug\", StringType()))\\\n",
    "                           .add(StructField(\"dt_ass_cont\", DateType()))\\\n",
    "                           .add(StructField(\"dt_pub_dou\", DateType()))\\\n",
    "                           .add(StructField(\"dt_ini_vig\", DateType()))\\\n",
    "                           .add(StructField(\"dt_fim_vig\", DateType()))\\\n",
    "                           .add(StructField(\"cnpj_contrtd\", LongType()))\\\n",
    "                           .add(StructField(\"nm_contrtd\", StringType()))\\\n",
    "                           .add(StructField(\"vl_ini_comp\", StringType()))\\\n",
    "                           .add(StructField(\"vl_fim_comp\", StringType()))"
   ]
  },
  {
   "cell_type": "code",
   "execution_count": 5,
   "id": "26007ddd-cb93-4c4d-b042-3360283882dc",
   "metadata": {},
   "outputs": [],
   "source": [
    "schemaTermoAditivo = StructType().add(StructField(\"nr_cont\", IntegerType()))\\\n",
    "                                 .add(StructField(\"cod_org_sup\", IntegerType()))\\\n",
    "                                 .add(StructField(\"nm_org_sup\", StringType()))\\\n",
    "                                 .add(StructField(\"cod_org\", IntegerType()))\\\n",
    "                                 .add(StructField(\"nm_org\", StringType()))\\\n",
    "                                 .add(StructField(\"cod_ug\", IntegerType()))\\\n",
    "                                 .add(StructField(\"nm_ug\", StringType()))\\\n",
    "                                 .add(StructField(\"nr_term_adit\", IntegerType()))\\\n",
    "                                 .add(StructField(\"dt_pub\", DateType()))\\\n",
    "                                 .add(StructField(\"obj\", StringType()))"
   ]
  },
  {
   "cell_type": "markdown",
   "id": "27aa3dc4-0c74-429c-8b55-eaff7ab746ef",
   "metadata": {},
   "source": [
    "## Carga dos Dataframes"
   ]
  },
  {
   "cell_type": "code",
   "execution_count": 11,
   "id": "05c504d4-47f9-41af-adf2-9323ff0a8cc6",
   "metadata": {},
   "outputs": [
    {
     "name": "stderr",
     "output_type": "stream",
     "text": [
      "                                                                                \r"
     ]
    },
    {
     "data": {
      "text/plain": [
       "12717"
      ]
     },
     "execution_count": 11,
     "metadata": {},
     "output_type": "execute_result"
    }
   ],
   "source": [
    "compraDF = spark.read\\\n",
    "                .format(\"csv\")\\\n",
    "                .option(\"sep\",\";\")\\\n",
    "                .option(\"header\",\"true\")\\\n",
    "                .option(\"charset\",\"iso-8859-1\")\\\n",
    "                .schema(schemaCompra)\\\n",
    "                .option(\"dateFormat\", \"dd/MM/yyyy\")\\\n",
    "                .load(\"/home/aluno/_spark/dados/originais/compras_publicas_federal/compras/\")\n",
    "\n",
    "compraDF.count()"
   ]
  },
  {
   "cell_type": "code",
   "execution_count": 12,
   "id": "7bfb9dbd-e457-4acf-a0bc-3a0aea81c8d1",
   "metadata": {},
   "outputs": [
    {
     "data": {
      "text/plain": [
       "2619"
      ]
     },
     "execution_count": 12,
     "metadata": {},
     "output_type": "execute_result"
    }
   ],
   "source": [
    "termoAditivoDF = spark.read\\\n",
    "                      .format(\"csv\")\\\n",
    "                      .option(\"sep\",\";\")\\\n",
    "                      .option(\"header\",\"true\")\\\n",
    "                      .option(\"charset\",\"iso-8859-1\")\\\n",
    "                      .schema(schemaTermoAditivo)\\\n",
    "                      .option(\"dateFormat\", \"dd/MM/yyyy\")\\\n",
    "                      .load(\"/home/aluno/_spark/dados/originais/compras_publicas_federal/temos_aditivo/\")\n",
    "\n",
    "termoAditivoDF.count()"
   ]
  },
  {
   "cell_type": "code",
   "execution_count": null,
   "id": "e2bd7c98-1f39-4dba-989d-78a0926e0f2e",
   "metadata": {},
   "outputs": [],
   "source": []
  }
 ],
 "metadata": {
  "kernelspec": {
   "display_name": "Python 3 (ipykernel)",
   "language": "python",
   "name": "python3"
  },
  "language_info": {
   "codemirror_mode": {
    "name": "ipython",
    "version": 3
   },
   "file_extension": ".py",
   "mimetype": "text/x-python",
   "name": "python",
   "nbconvert_exporter": "python",
   "pygments_lexer": "ipython3",
   "version": "3.8.13"
  }
 },
 "nbformat": 4,
 "nbformat_minor": 5
}
