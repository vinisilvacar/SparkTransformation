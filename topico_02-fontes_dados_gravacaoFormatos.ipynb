{
 "cells": [
  {
   "cell_type": "markdown",
   "id": "c153b765-1eae-4378-802e-3b38bfdd505f",
   "metadata": {
    "tags": []
   },
   "source": [
    "# Importações básicas"
   ]
  },
  {
   "cell_type": "code",
   "execution_count": 1,
   "id": "52fb6b0e-18f4-4ea4-a795-3a4b032fc8cb",
   "metadata": {},
   "outputs": [
    {
     "data": {
      "text/html": [
       "<style>pre { white-space: pre !important; }</style>"
      ],
      "text/plain": [
       "<IPython.core.display.HTML object>"
      ]
     },
     "metadata": {},
     "output_type": "display_data"
    }
   ],
   "source": [
    "from pyspark.sql import SparkSession\n",
    "import pyspark.sql.functions as F\n",
    "\n",
    "\n",
    "from IPython.core.display import HTML\n",
    "display(HTML(\"<style>pre { white-space: pre !important; }</style>\"))"
   ]
  },
  {
   "cell_type": "markdown",
   "id": "87b0d582-ab55-4f5d-8a00-41ef2d63f3d2",
   "metadata": {},
   "source": [
    "# Iniciar a sessão Spark"
   ]
  },
  {
   "cell_type": "code",
   "execution_count": 2,
   "id": "67d43286-7e9d-4e68-bf13-4cd7409c3c1e",
   "metadata": {
    "tags": []
   },
   "outputs": [
    {
     "name": "stdout",
     "output_type": "stream",
     "text": [
      ":: loading settings :: url = jar:file:/home/aluno/.local/lib/python3.8/site-packages/pyspark/jars/ivy-2.5.0.jar!/org/apache/ivy/core/settings/ivysettings.xml\n"
     ]
    },
    {
     "name": "stderr",
     "output_type": "stream",
     "text": [
      "Ivy Default Cache set to: /home/aluno/.ivy2/cache\n",
      "The jars for the packages stored in: /home/aluno/.ivy2/jars\n",
      "org.postgresql#postgresql added as a dependency\n",
      ":: resolving dependencies :: org.apache.spark#spark-submit-parent-006e6f76-c5d9-4dff-b94c-5ecb375d3c2a;1.0\n",
      "\tconfs: [default]\n",
      "\tfound org.postgresql#postgresql;42.3.4 in central\n",
      "\tfound org.checkerframework#checker-qual;3.5.0 in central\n",
      ":: resolution report :: resolve 273ms :: artifacts dl 11ms\n",
      "\t:: modules in use:\n",
      "\torg.checkerframework#checker-qual;3.5.0 from central in [default]\n",
      "\torg.postgresql#postgresql;42.3.4 from central in [default]\n",
      "\t---------------------------------------------------------------------\n",
      "\t|                  |            modules            ||   artifacts   |\n",
      "\t|       conf       | number| search|dwnlded|evicted|| number|dwnlded|\n",
      "\t---------------------------------------------------------------------\n",
      "\t|      default     |   2   |   0   |   0   |   0   ||   2   |   0   |\n",
      "\t---------------------------------------------------------------------\n",
      ":: retrieving :: org.apache.spark#spark-submit-parent-006e6f76-c5d9-4dff-b94c-5ecb375d3c2a\n",
      "\tconfs: [default]\n",
      "\t0 artifacts copied, 2 already retrieved (0kB/15ms)\n",
      "22/09/17 11:06:46 WARN NativeCodeLoader: Unable to load native-hadoop library for your platform... using builtin-java classes where applicable\n",
      "Using Spark's default log4j profile: org/apache/spark/log4j-defaults.properties\n",
      "Setting default log level to \"WARN\".\n",
      "To adjust logging level use sc.setLogLevel(newLevel). For SparkR, use setLogLevel(newLevel).\n"
     ]
    }
   ],
   "source": [
    "spark = SparkSession.builder\\\n",
    "                    .config(\"spark.master\",\"local[*]\")\\\n",
    "                    .config(\"spark.jars.packages\", \"org.postgresql:postgresql:42.3.4\")\\\n",
    "                    .appName(\"Tranformações - Aula x\")\\\n",
    "                    .getOrCreate()\n",
    "\n",
    "spark.sparkContext.setLogLevel(\"ERROR\")"
   ]
  },
  {
   "cell_type": "markdown",
   "id": "fb40cbfc-33f9-419b-900e-efe22ceba6f0",
   "metadata": {},
   "source": [
    "# Módulo(s) de Obtenção de Dados"
   ]
  },
  {
   "cell_type": "markdown",
   "id": "80c04971-33cb-4279-b5cf-0a8d272590c9",
   "metadata": {},
   "source": [
    "## Carga de Arquivos - Compras Públicas"
   ]
  },
  {
   "cell_type": "markdown",
   "id": "858a0226-bd35-433e-bca9-490047b7d1e4",
   "metadata": {},
   "source": [
    "- utilização de esquema **INFERIDO**"
   ]
  },
  {
   "cell_type": "code",
   "execution_count": 3,
   "id": "b161f155-ccb8-4ef7-af98-5869b8237f9c",
   "metadata": {},
   "outputs": [
    {
     "name": "stderr",
     "output_type": "stream",
     "text": [
      "                                                                                \r"
     ]
    }
   ],
   "source": [
    "compraInferSchemaDF = spark.read\\\n",
    "                            .format(\"csv\")\\\n",
    "                            .option(\"sep\", \";\")\\\n",
    "                            .option(\"header\",True)\\\n",
    "                            .option(\"charset\",\"iso-8859-1\")\\\n",
    "                            .option(\"inferSchema\",True)\\\n",
    "                            .load(\"/home/aluno/_spark/dados/originais/compras_publicas_federal/compras\")\n",
    "                            #.option(\"dateFormat\", \"dd/MM/yyyy\")\\ ## Esse não funciona no InferSchema\n",
    "                           "
   ]
  },
  {
   "cell_type": "code",
   "execution_count": 4,
   "id": "fdc6e7ab-8d68-439f-87cc-858761496fcd",
   "metadata": {
    "tags": []
   },
   "outputs": [
    {
     "name": "stdout",
     "output_type": "stream",
     "text": [
      "+------------------+--------------------+--------------------+--------------------+--------------------+---------------------+--------------------+------------+--------------------+---------+--------------------+------------------------+-------------------+--------------------+-----------------+---------------+--------------------+--------------------+------------------+----------------+-------------------+--------------------+----------------------------------+---------------------------+\n",
      "|Número do Contrato|              Objeto|    Fundamento Legal|   Modalidade Compra|   Situação Contrato|Código Órgão Superior| Nome Órgão Superior|Código Órgão|          Nome Órgão|Código UG|             Nome UG|Data Assinatura Contrato|Data Publicação DOU|Data Início Vigência|Data Fim Vigência|CNPJ Contratado|     Nome Contratado|Valor Inicial Compra|Valor Final Compra|Número Licitação|Código UG Licitação|   Nome UG Licitação|Código Modalidade Compra Licitação|Modalidade Compra Licitação|\n",
      "+------------------+--------------------+--------------------+--------------------+--------------------+---------------------+--------------------+------------+--------------------+---------+--------------------+------------------------+-------------------+--------------------+-----------------+---------------+--------------------+--------------------+------------------+----------------+-------------------+--------------------+----------------------------------+---------------------------+\n",
      "|             92019|Objeto: Aquisição...|Fundamento Legal:...|Dispensa de Licit...|           Publicado|                26000|Ministério da Edu...|       26429|Instituto Federal...|   158643|INST.FED.DE GOIAS...|              27/12/2019|         23/01/2020|          27/12/2019|       27/12/2020| 32415936000170|ASSOCIACAO DE PRO...|         230559,6000|       230559,6000|           52019|             158643|INST.FED.DE GOIAS...|                                 6|       Dispensa de Licit...|\n",
      "|             12020|Objeto: Contrataç...|Fundamento Legal:...|Pregão - Registro...|           Publicado|                52000|Ministério da Defesa|       52121| Comando do Exército|   160224|PARQUE REGIONAL D...|              07/01/2020|         10/01/2020|          07/01/2020|       07/01/2021| 09323193000196|JC LAVANDERIA IND...|           6000,0000|         6000,0000|          192019|             160223|HOSPITAL GERAL DE...|                               -99|       Pregão - Registro...|\n",
      "|             22020|Objeto: Serviços ...|Fundamento Legal:...|              Pregão|           Publicado|                26000|Ministério da Edu...|       26439|Instituto Federal...|   158526|IFSP - CAMPUS ITA...|              08/01/2020|         28/01/2020|          08/01/2020|       07/04/2020| 00014776000160|TRINIVOLT COMERCI...|          17000,0000|        17000,0000|        65262019|             158526|IFSP - CAMPUS ITA...|                                 5|                     Pregão|\n",
      "|           5012020|Objeto: Contrataç...|Fundamento Legal:...|Inexigibilidade d...|           Publicado|                52000|Ministério da Defesa|       52121| Comando do Exército|   160173|31º BATALHAO DE I...|              30/12/2019|         21/01/2020|          01/01/2020|       31/12/2020| 05238398000201|NORDESTE SERVICOS...|         200000,0000|       400000,0000|          232019|             160173|31º BATALHAO DE I...|                                 7|       Inexigibilidade d...|\n",
      "|            512020|Objeto: Prestação...|Fundamento Legal:...|              Pregão|           Publicado|                39000|Ministério da Inf...|       39252|Departamento Naci...|   393015|SUPERINTENDENCIA ...|              27/01/2020|         29/01/2020|          03/02/2020|       03/02/2021| 13500936000123|SERVCOM-BA SERVIC...|         416143,9100|       416143,9100|         3642019|             393015|SUPERINTENDENCIA ...|                                 5|                     Pregão|\n",
      "|             52019|Objeto: Contrataç...|Fundamento Legal:...|    Tomada de Preços|Rescindido - Publ...|                53000|Ministério do Des...|       22204|Departamento Naci...|   193001|DNOCS CEST/PI-TER...|              23/01/2020|         24/01/2020|          23/01/2020|       23/05/2020| 02528908000106|CONSTRUTORA SANTA...|         487018,6800|       487018,6800|           22019|             193001|DNOCS CEST/PI-TER...|                                 2|           Tomada de Preços|\n",
      "|            202019|Objeto: Aquisição...|Fundamento Legal:...|Dispensa de Licit...|           Publicado|                24000|Ministério da Ciê...|       24000|Ministério da Ciê...|   240105|INSTIT.NACIONAL D...|              29/11/2019|         24/01/2020|          29/11/2019|       28/11/2020| 05914165000192|CARBOXI - INDUSTR...|         119580,0000|       119580,0000|           72019|             240105|INSTIT.NACIONAL D...|                                 6|       Dispensa de Licit...|\n",
      "|            362019|Objeto: Contrataç...|Fundamento Legal:...|              Pregão|           Publicado|                25000|Ministério da Eco...|       30204|Instituto Naciona...|   183038|INSTITUTO NACIONA...|              30/12/2019|         10/01/2020|          30/12/2019|       30/06/2022| 58619404000814|SEAL TELECOM COME...|        6043946,0500|      6043946,0500|          182019|             183038|INSTITUTO NACIONA...|                                 5|                     Pregão|\n",
      "|             72019|Objeto: Contrataç...|Fundamento Legal:...|Pregão - Registro...|           Publicado|                52000|Ministério da Defesa|       52121| Comando do Exército|   160120|4. DEPOSITO DE SU...|              11/12/2019|         08/01/2020|          11/12/2019|       11/12/2020| 12591441000194|LAVANDERIA MORRO ...|          29463,0000|        29463,0000|           52019|             160116|17º BATALHAO LOGI...|                               -99|       Pregão - Registro...|\n",
      "|             12020|Objeto: Aquisição...|Fundamento Legal:...|Pregão - Registro...|           Publicado|                26000|Ministério da Edu...|       26443|Empresa Brasileir...|   155008|HOSPITAL UNIVERSI...|              14/01/2020|         15/01/2020|          14/01/2020|       14/01/2021| 58752460000407|SHIMADZU DO BRASI...|         560810,0000|       560810,0000|          922019|             155008|HOSPITAL UNIVERSI...|                               -99|       Pregão - Registro...|\n",
      "|             12020|Objeto: Execução ...|Fundamento Legal:...|Dispensa de Licit...|           Publicado|                26000|Ministério da Edu...|       26350|Fundação Universi...|   154502|FUNDACAO UNIVERSI...|              13/01/2020|         15/01/2020|          13/01/2020|       13/07/2021| 10482039000146|FUNDACAO DE APOIO...|         928425,0000|       928425,0000|          252019|             154502|FUNDACAO UNIVERSI...|                                 6|       Dispensa de Licit...|\n",
      "|             12020|Objeto: Aquisição...|Fundamento Legal:...|              Pregão|           Publicado|                26000|Ministério da Edu...|       26000|Ministério da Edu...|   152005|INSTITUTO NACIONA...|              06/01/2020|         28/01/2020|          01/04/2020|       16/05/2020| 12467682000126|MAXIMUM COMERCIAL...|         144839,8400|       144839,8400|          392019|             152005|INSTITUTO NACIONA...|                                 5|                     Pregão|\n",
      "|            792019|Objeto: Contrataç...|Fundamento Legal:...|Dispensa de Licit...|           Publicado|                26000|Ministério da Edu...|       26281|Fundação Universi...|   154050|FUNDACAO UNIVERSI...|              31/10/2019|         20/01/2020|          31/10/2019|       30/10/2020| 16772623000112|EDSON BATISTA SAN...|           7631,3600|         7631,3600|       900102019|             154050|FUNDACAO UNIVERSI...|                                 6|       Dispensa de Licit...|\n",
      "|            652019|Objeto: Contrataç...|Fundamento Legal:...|Inexigibilidade d...|           Publicado|                26000|Ministério da Edu...|       26443|Empresa Brasileir...|   155008|HOSPITAL UNIVERSI...|              30/12/2019|         24/01/2020|          30/12/2019|       30/12/2021| 58295213000178|PHILIPS MEDICAL S...|         735471,6000|       735471,6000|          202019|             155008|HOSPITAL UNIVERSI...|                                 7|       Inexigibilidade d...|\n",
      "|            102019|Objeto: Contrataç...|Fundamento Legal:...|    Tomada de Preços|           Publicado|                52000|Ministério da Defesa|       52131|  Comando da Marinha|   783602|ESCOLA DE APREND....|              21/11/2019|         14/01/2020|          21/11/2019|       21/11/2020| 14868122000109| L&S ENGENHARIA LTDA|         869691,9800|       869691,9800|           22019|             783602|ESCOLA DE APREND....|                                 2|           Tomada de Preços|\n",
      "|            472019|Objeto: Contrataç...|Fundamento Legal:...|              Pregão|           Publicado|                26000|Ministério da Edu...|       26256|Centro Federal de...|   153010|CENTRO FED.DE EDU...|              26/12/2019|         27/01/2020|          26/12/2019|       26/12/2020| 61074175000138|MAPFRE SEGUROS GE...|          17000,0000|        17000,0000|          542019|             153010|CENTRO FED.DE EDU...|                                 5|                     Pregão|\n",
      "|           1542019|Objeto: Aquisição...|Fundamento Legal:...|Pregão - Registro...|           Publicado|                26000|Ministério da Edu...|       26230|Fundação Universi...|   154421|FUND. UNIVERSIDAD...|              17/12/2019|         09/01/2020|          17/12/2019|       17/12/2020| 30401291000190|IDALBY CRISTINE M...|            847,6800|          847,6800|          122019|             154421|FUND. UNIVERSIDAD...|                               -99|       Pregão - Registro...|\n",
      "|           5092020|Objeto: Contrataç...|Fundamento Legal:...|Inexigibilidade d...|           Publicado|                52000|Ministério da Defesa|       52121| Comando do Exército|   160173|31º BATALHAO DE I...|              31/12/2019|         21/01/2020|          01/01/2020|       31/12/2020| 08834137000153|HOSPITAL ANTONIO ...|        2500000,0000|      5000000,0000|          232019|             160173|31º BATALHAO DE I...|                                 7|       Inexigibilidade d...|\n",
      "|             42019|Objeto: Vigilânci...|Fundamento Legal:...|Pregão - Registro...|           Publicado|                26000|Ministério da Edu...|       26432|Instituto Federal...|   154673|INST. FED. DO PAR...|              09/12/2019|         13/01/2020|          01/02/2020|       31/07/2022| 03229363000191|BETRON TECNOLOGIA...|         866417,1000|       866417,1000|          122019|             158009|INST. FED. DO PAR...|                               -99|       Pregão - Registro...|\n",
      "|           1192019|Objeto: Prestação...|Fundamento Legal:...|              Pregão|           Publicado|                26000|Ministério da Edu...|       26276|Fundação Universi...|   154045|FUNDACAO UNIVERSI...|              27/12/2019|         08/01/2020|          27/12/2019|       26/12/2020| 10398803000280|RONDAI SEGURANCA ...|         915160,6800|      1438835,9600|          292019|             154045|FUNDACAO UNIVERSI...|                                 5|                     Pregão|\n",
      "+------------------+--------------------+--------------------+--------------------+--------------------+---------------------+--------------------+------------+--------------------+---------+--------------------+------------------------+-------------------+--------------------+-----------------+---------------+--------------------+--------------------+------------------+----------------+-------------------+--------------------+----------------------------------+---------------------------+\n",
      "only showing top 20 rows\n",
      "\n"
     ]
    }
   ],
   "source": [
    "compraInferSchemaDF.show()"
   ]
  },
  {
   "cell_type": "code",
   "execution_count": 5,
   "id": "0ec636b9-d579-4dec-9bfb-5d2cf588568f",
   "metadata": {
    "tags": []
   },
   "outputs": [
    {
     "name": "stdout",
     "output_type": "stream",
     "text": [
      "root\n",
      " |-- Número do Contrato: integer (nullable = true)\n",
      " |-- Objeto: string (nullable = true)\n",
      " |-- Fundamento Legal: string (nullable = true)\n",
      " |-- Modalidade Compra: string (nullable = true)\n",
      " |-- Situação Contrato: string (nullable = true)\n",
      " |-- Código Órgão Superior: integer (nullable = true)\n",
      " |-- Nome Órgão Superior: string (nullable = true)\n",
      " |-- Código Órgão: integer (nullable = true)\n",
      " |-- Nome Órgão: string (nullable = true)\n",
      " |-- Código UG: integer (nullable = true)\n",
      " |-- Nome UG: string (nullable = true)\n",
      " |-- Data Assinatura Contrato: string (nullable = true)\n",
      " |-- Data Publicação DOU: string (nullable = true)\n",
      " |-- Data Início Vigência: string (nullable = true)\n",
      " |-- Data Fim Vigência: string (nullable = true)\n",
      " |-- CNPJ Contratado: string (nullable = true)\n",
      " |-- Nome Contratado: string (nullable = true)\n",
      " |-- Valor Inicial Compra: string (nullable = true)\n",
      " |-- Valor Final Compra: string (nullable = true)\n",
      " |-- Número Licitação: integer (nullable = true)\n",
      " |-- Código UG Licitação: integer (nullable = true)\n",
      " |-- Nome UG Licitação: string (nullable = true)\n",
      " |-- Código Modalidade Compra Licitação: integer (nullable = true)\n",
      " |-- Modalidade Compra Licitação: string (nullable = true)\n",
      "\n"
     ]
    }
   ],
   "source": [
    "compraInferSchemaDF.printSchema()"
   ]
  },
  {
   "cell_type": "code",
   "execution_count": 6,
   "id": "7c48701d-c553-4ca8-8c9c-649082f69899",
   "metadata": {
    "tags": []
   },
   "outputs": [
    {
     "name": "stdout",
     "output_type": "stream",
     "text": [
      "+-------+--------------------+--------------------+--------------------+--------------------+-----------+\n",
      "|nr_cont|                 obj|          fund_legal|          modld_comp|          sit_contrt|cod_org_sup|\n",
      "+-------+--------------------+--------------------+--------------------+--------------------+-----------+\n",
      "|  92019|Objeto: Aquisição...|Fundamento Legal:...|Dispensa de Licit...|           Publicado|      26000|\n",
      "|  12020|Objeto: Contrataç...|Fundamento Legal:...|Pregão - Registro...|           Publicado|      52000|\n",
      "|  22020|Objeto: Serviços ...|Fundamento Legal:...|              Pregão|           Publicado|      26000|\n",
      "|5012020|Objeto: Contrataç...|Fundamento Legal:...|Inexigibilidade d...|           Publicado|      52000|\n",
      "| 512020|Objeto: Prestação...|Fundamento Legal:...|              Pregão|           Publicado|      39000|\n",
      "|  52019|Objeto: Contrataç...|Fundamento Legal:...|    Tomada de Preços|Rescindido - Publ...|      53000|\n",
      "| 202019|Objeto: Aquisição...|Fundamento Legal:...|Dispensa de Licit...|           Publicado|      24000|\n",
      "| 362019|Objeto: Contrataç...|Fundamento Legal:...|              Pregão|           Publicado|      25000|\n",
      "|  72019|Objeto: Contrataç...|Fundamento Legal:...|Pregão - Registro...|           Publicado|      52000|\n",
      "|  12020|Objeto: Aquisição...|Fundamento Legal:...|Pregão - Registro...|           Publicado|      26000|\n",
      "|  12020|Objeto: Execução ...|Fundamento Legal:...|Dispensa de Licit...|           Publicado|      26000|\n",
      "|  12020|Objeto: Aquisição...|Fundamento Legal:...|              Pregão|           Publicado|      26000|\n",
      "| 792019|Objeto: Contrataç...|Fundamento Legal:...|Dispensa de Licit...|           Publicado|      26000|\n",
      "| 652019|Objeto: Contrataç...|Fundamento Legal:...|Inexigibilidade d...|           Publicado|      26000|\n",
      "| 102019|Objeto: Contrataç...|Fundamento Legal:...|    Tomada de Preços|           Publicado|      52000|\n",
      "| 472019|Objeto: Contrataç...|Fundamento Legal:...|              Pregão|           Publicado|      26000|\n",
      "|1542019|Objeto: Aquisição...|Fundamento Legal:...|Pregão - Registro...|           Publicado|      26000|\n",
      "|5092020|Objeto: Contrataç...|Fundamento Legal:...|Inexigibilidade d...|           Publicado|      52000|\n",
      "|  42019|Objeto: Vigilânci...|Fundamento Legal:...|Pregão - Registro...|           Publicado|      26000|\n",
      "|1192019|Objeto: Prestação...|Fundamento Legal:...|              Pregão|           Publicado|      26000|\n",
      "+-------+--------------------+--------------------+--------------------+--------------------+-----------+\n",
      "only showing top 20 rows\n",
      "\n"
     ]
    }
   ],
   "source": [
    "# Boa Prática - Nome das colunas sem acento e sem espaços.\n",
    "compraInferSchemaDF.select(\n",
    "                            F.col(\"Número do Contrato\").alias(\"nr_cont\"),\n",
    "                            F.col(\"Objeto\").alias(\"obj\"),\n",
    "                            F.col(\"Fundamento Legal\").alias(\"fund_legal\"),\n",
    "                            F.col(\"Modalidade Compra\").alias(\"modld_comp\"),\n",
    "                            F.col(\"Situação Contrato\").alias(\"sit_contrt\"),\n",
    "                            F.col(\"Código Órgão Superior\").alias(\"cod_org_sup\")\n",
    "                          ).show()"
   ]
  },
  {
   "cell_type": "markdown",
   "id": "39d1d7e9-ba1a-4097-9065-e753dfeff0ce",
   "metadata": {},
   "source": [
    "## Carga de Arquivos 02 - Compras Públicas"
   ]
  },
  {
   "cell_type": "markdown",
   "id": "28b433c6-96a0-4ab6-a480-e04288bf4834",
   "metadata": {},
   "source": [
    "- Utilização de esquema **MANUAL**"
   ]
  },
  {
   "cell_type": "markdown",
   "id": "aa3b5192-a337-4379-9db4-d2bfecf46ff5",
   "metadata": {},
   "source": [
    "### Criação do Esquema schemaCompras"
   ]
  },
  {
   "cell_type": "code",
   "execution_count": 7,
   "id": "618c386a-dc15-44da-8939-f61862726f64",
   "metadata": {},
   "outputs": [],
   "source": [
    "# importe dos tipos de dados para criação do esquema manual\n",
    "from pyspark.sql.types import StructField, StructType, StringType, IntegerType, LongType, DateType, DoubleType, DecimalType\n",
    "\n",
    "schemaCompra = StructType().add(StructField(\"nr_cont\", IntegerType()))\\\n",
    "                           .add(StructField(\"obj\", StringType()))\\\n",
    "                           .add(StructField(\"fund_leg\", StringType()))\\\n",
    "                           .add(StructField(\"mod_comp\", StringType()))\\\n",
    "                           .add(StructField(\"sit_cont\", StringType()))\\\n",
    "                           .add(StructField(\"cod_org_sup\", IntegerType()))\\\n",
    "                           .add(StructField(\"nm_org_sup\", StringType()))\\\n",
    "                           .add(StructField(\"cod_org\", IntegerType()))\\\n",
    "                           .add(StructField(\"nm_org\", StringType()))\\\n",
    "                           .add(StructField(\"cod_ug\", IntegerType()))\\\n",
    "                           .add(StructField(\"nm_ug\", StringType()))\\\n",
    "                           .add(StructField(\"dt_ass_cont\", DateType()))\\\n",
    "                           .add(StructField(\"dt_pub_dou\", DateType()))\\\n",
    "                           .add(StructField(\"dt_ini_vig\", DateType()))\\\n",
    "                           .add(StructField(\"dt_fim_vig\", DateType()))\\\n",
    "                           .add(StructField(\"cnpj_contrtd\", LongType()))\\\n",
    "                           .add(StructField(\"nm_contrtd\", StringType()))\\\n",
    "                           .add(StructField(\"vl_ini_comp\", StringType()))\\\n",
    "                           .add(StructField(\"vl_fim_comp\", StringType()))\\\n",
    "                           .add(StructField(\"nr_lic\", IntegerType()))\\\n",
    "                           .add(StructField(\"cod_ug_lic\", IntegerType()))\\\n",
    "                           .add(StructField(\"nm_ug_lic\", StringType()))\\\n",
    "                           .add(StructField(\"cod_mod_comp_lic\", IntegerType()))\\\n",
    "                           .add(StructField(\"desc_mod_comp_lic\", StringType()))\n",
    "# embora a natureza dos campos seja decimal, o spark não consegue converter o padrão separado por virgula\n",
    "# no momento da carga do dados, por isto os campos >>vl_ini_comp e vl_fim_comp<< foram configurados como string(texto)"
   ]
  },
  {
   "cell_type": "markdown",
   "id": "5e12c79b-9e0d-448b-b5fd-cf1f1f7fc6e0",
   "metadata": {},
   "source": [
    "### Carga do DataFrame"
   ]
  },
  {
   "cell_type": "code",
   "execution_count": 8,
   "id": "7259903e-4412-4b93-8880-7f084009e454",
   "metadata": {},
   "outputs": [],
   "source": [
    "compraEsquemaManualDF = spark.read\\\n",
    "                             .format(\"csv\")\\\n",
    "                             .option(\"sep\",\";\")\\\n",
    "                             .option(\"header\",\"true\")\\\n",
    "                             .option(\"charset\",\"iso-8859-1\")\\\n",
    "                             .schema(schemaCompra)\\\n",
    "                             .option(\"dateFormat\", \"dd/MM/yyyy\")\\\n",
    "                             .load(\"/home/aluno/_spark/dados/originais/compras_publicas_federal/compras/\")"
   ]
  },
  {
   "cell_type": "code",
   "execution_count": 9,
   "id": "266b982f-d408-4d97-984c-0609ec9a2419",
   "metadata": {},
   "outputs": [
    {
     "name": "stdout",
     "output_type": "stream",
     "text": [
      "+-------+--------------------+--------------------+--------------------+--------------------+-----------+--------------------+-------+--------------------+------+--------------------+-----------+----------+----------+----------+--------------+--------------------+------------+------------+---------+----------+--------------------+----------------+--------------------+\n",
      "|nr_cont|                 obj|            fund_leg|            mod_comp|            sit_cont|cod_org_sup|          nm_org_sup|cod_org|              nm_org|cod_ug|               nm_ug|dt_ass_cont|dt_pub_dou|dt_ini_vig|dt_fim_vig|  cnpj_contrtd|          nm_contrtd| vl_ini_comp| vl_fim_comp|   nr_lic|cod_ug_lic|           nm_ug_lic|cod_mod_comp_lic|   desc_mod_comp_lic|\n",
      "+-------+--------------------+--------------------+--------------------+--------------------+-----------+--------------------+-------+--------------------+------+--------------------+-----------+----------+----------+----------+--------------+--------------------+------------+------------+---------+----------+--------------------+----------------+--------------------+\n",
      "|  92019|Objeto: Aquisição...|Fundamento Legal:...|Dispensa de Licit...|           Publicado|      26000|Ministério da Edu...|  26429|Instituto Federal...|158643|INST.FED.DE GOIAS...| 2019-12-27|2020-01-23|2019-12-27|2020-12-27|32415936000170|ASSOCIACAO DE PRO...| 230559,6000| 230559,6000|    52019|    158643|INST.FED.DE GOIAS...|               6|Dispensa de Licit...|\n",
      "|  12020|Objeto: Contrataç...|Fundamento Legal:...|Pregão - Registro...|           Publicado|      52000|Ministério da Defesa|  52121| Comando do Exército|160224|PARQUE REGIONAL D...| 2020-01-07|2020-01-10|2020-01-07|2021-01-07| 9323193000196|JC LAVANDERIA IND...|   6000,0000|   6000,0000|   192019|    160223|HOSPITAL GERAL DE...|             -99|Pregão - Registro...|\n",
      "|  22020|Objeto: Serviços ...|Fundamento Legal:...|              Pregão|           Publicado|      26000|Ministério da Edu...|  26439|Instituto Federal...|158526|IFSP - CAMPUS ITA...| 2020-01-08|2020-01-28|2020-01-08|2020-04-07|   14776000160|TRINIVOLT COMERCI...|  17000,0000|  17000,0000| 65262019|    158526|IFSP - CAMPUS ITA...|               5|              Pregão|\n",
      "|5012020|Objeto: Contrataç...|Fundamento Legal:...|Inexigibilidade d...|           Publicado|      52000|Ministério da Defesa|  52121| Comando do Exército|160173|31º BATALHAO DE I...| 2019-12-30|2020-01-21|2020-01-01|2020-12-31| 5238398000201|NORDESTE SERVICOS...| 200000,0000| 400000,0000|   232019|    160173|31º BATALHAO DE I...|               7|Inexigibilidade d...|\n",
      "| 512020|Objeto: Prestação...|Fundamento Legal:...|              Pregão|           Publicado|      39000|Ministério da Inf...|  39252|Departamento Naci...|393015|SUPERINTENDENCIA ...| 2020-01-27|2020-01-29|2020-02-03|2021-02-03|13500936000123|SERVCOM-BA SERVIC...| 416143,9100| 416143,9100|  3642019|    393015|SUPERINTENDENCIA ...|               5|              Pregão|\n",
      "|  52019|Objeto: Contrataç...|Fundamento Legal:...|    Tomada de Preços|Rescindido - Publ...|      53000|Ministério do Des...|  22204|Departamento Naci...|193001|DNOCS CEST/PI-TER...| 2020-01-23|2020-01-24|2020-01-23|2020-05-23| 2528908000106|CONSTRUTORA SANTA...| 487018,6800| 487018,6800|    22019|    193001|DNOCS CEST/PI-TER...|               2|    Tomada de Preços|\n",
      "| 202019|Objeto: Aquisição...|Fundamento Legal:...|Dispensa de Licit...|           Publicado|      24000|Ministério da Ciê...|  24000|Ministério da Ciê...|240105|INSTIT.NACIONAL D...| 2019-11-29|2020-01-24|2019-11-29|2020-11-28| 5914165000192|CARBOXI - INDUSTR...| 119580,0000| 119580,0000|    72019|    240105|INSTIT.NACIONAL D...|               6|Dispensa de Licit...|\n",
      "| 362019|Objeto: Contrataç...|Fundamento Legal:...|              Pregão|           Publicado|      25000|Ministério da Eco...|  30204|Instituto Naciona...|183038|INSTITUTO NACIONA...| 2019-12-30|2020-01-10|2019-12-30|2022-06-30|58619404000814|SEAL TELECOM COME...|6043946,0500|6043946,0500|   182019|    183038|INSTITUTO NACIONA...|               5|              Pregão|\n",
      "|  72019|Objeto: Contrataç...|Fundamento Legal:...|Pregão - Registro...|           Publicado|      52000|Ministério da Defesa|  52121| Comando do Exército|160120|4. DEPOSITO DE SU...| 2019-12-11|2020-01-08|2019-12-11|2020-12-11|12591441000194|LAVANDERIA MORRO ...|  29463,0000|  29463,0000|    52019|    160116|17º BATALHAO LOGI...|             -99|Pregão - Registro...|\n",
      "|  12020|Objeto: Aquisição...|Fundamento Legal:...|Pregão - Registro...|           Publicado|      26000|Ministério da Edu...|  26443|Empresa Brasileir...|155008|HOSPITAL UNIVERSI...| 2020-01-14|2020-01-15|2020-01-14|2021-01-14|58752460000407|SHIMADZU DO BRASI...| 560810,0000| 560810,0000|   922019|    155008|HOSPITAL UNIVERSI...|             -99|Pregão - Registro...|\n",
      "|  12020|Objeto: Execução ...|Fundamento Legal:...|Dispensa de Licit...|           Publicado|      26000|Ministério da Edu...|  26350|Fundação Universi...|154502|FUNDACAO UNIVERSI...| 2020-01-13|2020-01-15|2020-01-13|2021-07-13|10482039000146|FUNDACAO DE APOIO...| 928425,0000| 928425,0000|   252019|    154502|FUNDACAO UNIVERSI...|               6|Dispensa de Licit...|\n",
      "|  12020|Objeto: Aquisição...|Fundamento Legal:...|              Pregão|           Publicado|      26000|Ministério da Edu...|  26000|Ministério da Edu...|152005|INSTITUTO NACIONA...| 2020-01-06|2020-01-28|2020-04-01|2020-05-16|12467682000126|MAXIMUM COMERCIAL...| 144839,8400| 144839,8400|   392019|    152005|INSTITUTO NACIONA...|               5|              Pregão|\n",
      "| 792019|Objeto: Contrataç...|Fundamento Legal:...|Dispensa de Licit...|           Publicado|      26000|Ministério da Edu...|  26281|Fundação Universi...|154050|FUNDACAO UNIVERSI...| 2019-10-31|2020-01-20|2019-10-31|2020-10-30|16772623000112|EDSON BATISTA SAN...|   7631,3600|   7631,3600|900102019|    154050|FUNDACAO UNIVERSI...|               6|Dispensa de Licit...|\n",
      "| 652019|Objeto: Contrataç...|Fundamento Legal:...|Inexigibilidade d...|           Publicado|      26000|Ministério da Edu...|  26443|Empresa Brasileir...|155008|HOSPITAL UNIVERSI...| 2019-12-30|2020-01-24|2019-12-30|2021-12-30|58295213000178|PHILIPS MEDICAL S...| 735471,6000| 735471,6000|   202019|    155008|HOSPITAL UNIVERSI...|               7|Inexigibilidade d...|\n",
      "| 102019|Objeto: Contrataç...|Fundamento Legal:...|    Tomada de Preços|           Publicado|      52000|Ministério da Defesa|  52131|  Comando da Marinha|783602|ESCOLA DE APREND....| 2019-11-21|2020-01-14|2019-11-21|2020-11-21|14868122000109| L&S ENGENHARIA LTDA| 869691,9800| 869691,9800|    22019|    783602|ESCOLA DE APREND....|               2|    Tomada de Preços|\n",
      "| 472019|Objeto: Contrataç...|Fundamento Legal:...|              Pregão|           Publicado|      26000|Ministério da Edu...|  26256|Centro Federal de...|153010|CENTRO FED.DE EDU...| 2019-12-26|2020-01-27|2019-12-26|2020-12-26|61074175000138|MAPFRE SEGUROS GE...|  17000,0000|  17000,0000|   542019|    153010|CENTRO FED.DE EDU...|               5|              Pregão|\n",
      "|1542019|Objeto: Aquisição...|Fundamento Legal:...|Pregão - Registro...|           Publicado|      26000|Ministério da Edu...|  26230|Fundação Universi...|154421|FUND. UNIVERSIDAD...| 2019-12-17|2020-01-09|2019-12-17|2020-12-17|30401291000190|IDALBY CRISTINE M...|    847,6800|    847,6800|   122019|    154421|FUND. UNIVERSIDAD...|             -99|Pregão - Registro...|\n",
      "|5092020|Objeto: Contrataç...|Fundamento Legal:...|Inexigibilidade d...|           Publicado|      52000|Ministério da Defesa|  52121| Comando do Exército|160173|31º BATALHAO DE I...| 2019-12-31|2020-01-21|2020-01-01|2020-12-31| 8834137000153|HOSPITAL ANTONIO ...|2500000,0000|5000000,0000|   232019|    160173|31º BATALHAO DE I...|               7|Inexigibilidade d...|\n",
      "|  42019|Objeto: Vigilânci...|Fundamento Legal:...|Pregão - Registro...|           Publicado|      26000|Ministério da Edu...|  26432|Instituto Federal...|154673|INST. FED. DO PAR...| 2019-12-09|2020-01-13|2020-02-01|2022-07-31| 3229363000191|BETRON TECNOLOGIA...| 866417,1000| 866417,1000|   122019|    158009|INST. FED. DO PAR...|             -99|Pregão - Registro...|\n",
      "|1192019|Objeto: Prestação...|Fundamento Legal:...|              Pregão|           Publicado|      26000|Ministério da Edu...|  26276|Fundação Universi...|154045|FUNDACAO UNIVERSI...| 2019-12-27|2020-01-08|2019-12-27|2020-12-26|10398803000280|RONDAI SEGURANCA ...| 915160,6800|1438835,9600|   292019|    154045|FUNDACAO UNIVERSI...|               5|              Pregão|\n",
      "+-------+--------------------+--------------------+--------------------+--------------------+-----------+--------------------+-------+--------------------+------+--------------------+-----------+----------+----------+----------+--------------+--------------------+------------+------------+---------+----------+--------------------+----------------+--------------------+\n",
      "only showing top 20 rows\n",
      "\n",
      "root\n",
      " |-- nr_cont: integer (nullable = true)\n",
      " |-- obj: string (nullable = true)\n",
      " |-- fund_leg: string (nullable = true)\n",
      " |-- mod_comp: string (nullable = true)\n",
      " |-- sit_cont: string (nullable = true)\n",
      " |-- cod_org_sup: integer (nullable = true)\n",
      " |-- nm_org_sup: string (nullable = true)\n",
      " |-- cod_org: integer (nullable = true)\n",
      " |-- nm_org: string (nullable = true)\n",
      " |-- cod_ug: integer (nullable = true)\n",
      " |-- nm_ug: string (nullable = true)\n",
      " |-- dt_ass_cont: date (nullable = true)\n",
      " |-- dt_pub_dou: date (nullable = true)\n",
      " |-- dt_ini_vig: date (nullable = true)\n",
      " |-- dt_fim_vig: date (nullable = true)\n",
      " |-- cnpj_contrtd: long (nullable = true)\n",
      " |-- nm_contrtd: string (nullable = true)\n",
      " |-- vl_ini_comp: string (nullable = true)\n",
      " |-- vl_fim_comp: string (nullable = true)\n",
      " |-- nr_lic: integer (nullable = true)\n",
      " |-- cod_ug_lic: integer (nullable = true)\n",
      " |-- nm_ug_lic: string (nullable = true)\n",
      " |-- cod_mod_comp_lic: integer (nullable = true)\n",
      " |-- desc_mod_comp_lic: string (nullable = true)\n",
      "\n"
     ]
    }
   ],
   "source": [
    "compraEsquemaManualDF.show()\n",
    "compraEsquemaManualDF.printSchema()"
   ]
  },
  {
   "cell_type": "markdown",
   "id": "aaa6abf1-d091-4181-990c-1c76d30c55de",
   "metadata": {},
   "source": [
    "<h4 style=\"color:yellow\">Exercício 01: criação de esquemas e carga de csv</h4>"
   ]
  },
  {
   "cell_type": "markdown",
   "id": "4b70132f-3e8a-46c7-9213-45b18df6df32",
   "metadata": {},
   "source": [
    "a) Criar dois esquemas manuais que atendam aos requisitos a seguir:\n",
    "    schemaItemCompra\n",
    "    schemaTermoAditivo"
   ]
  },
  {
   "cell_type": "code",
   "execution_count": 10,
   "id": "e7ab3739-1425-4f0e-8f1f-58f2e2652edc",
   "metadata": {},
   "outputs": [],
   "source": [
    "# importe dos tipos de dados para criação do esquema manual\n",
    "from pyspark.sql.types import StructField, StructType, StringType, IntegerType, LongType, DateType, DoubleType, DecimalType\n",
    "\n",
    "schemaItemCompra = StructType().add(StructField(\"cod_org\", IntegerType()))\\\n",
    "                               .add(StructField(\"nm_org\", StringType()))\\\n",
    "                               .add(StructField(\"cod_ug\", IntegerType()))\\\n",
    "                               .add(StructField(\"nm_ug\", StringType()))\\\n",
    "                               .add(StructField(\"nr_cont\", IntegerType()))\\\n",
    "                               .add(StructField(\"cod_item_comp\", DecimalType()))\\\n",
    "                               .add(StructField(\"desc_item_comp\", StringType()))\\\n",
    "                               .add(StructField(\"desc_compl_item_comp\", StringType()))\\\n",
    "                               .add(StructField(\"qtd_item\", IntegerType()))\\\n",
    "                               .add(StructField(\"vl_item\", StringType()))"
   ]
  },
  {
   "cell_type": "code",
   "execution_count": 11,
   "id": "d4cc5d3e-c3e7-4ecd-86ed-600ead9afddd",
   "metadata": {},
   "outputs": [],
   "source": [
    "schemaTermoAditivo = StructType().add(StructField(\"nr_cont\", IntegerType()))\\\n",
    "                               .add(StructField(\"cod_org_sup\", IntegerType()))\\\n",
    "                               .add(StructField(\"nm_org_sup\", StringType()))\\\n",
    "                               .add(StructField(\"cod_org\", IntegerType()))\\\n",
    "                               .add(StructField(\"nm_org\", StringType()))\\\n",
    "                               .add(StructField(\"cod_ug\", IntegerType()))\\\n",
    "                               .add(StructField(\"nm_ug\", StringType()))\\\n",
    "                               .add(StructField(\"nr_term_adit\", IntegerType()))\\\n",
    "                               .add(StructField(\"dt_pub\", DateType()))\\\n",
    "                               .add(StructField(\"obj\", StringType()))"
   ]
  },
  {
   "cell_type": "markdown",
   "id": "c7e2ccb6-460c-4631-ba7d-f1aa4e9ceb27",
   "metadata": {},
   "source": [
    "b) Utilizandos os esquemas criados, carrega os dados dos arquivos localizados nos caminhos"
   ]
  },
  {
   "cell_type": "code",
   "execution_count": 14,
   "id": "a895c5e2-67d5-4e58-9572-c01ba48913e8",
   "metadata": {},
   "outputs": [],
   "source": [
    "itemCompraManualDF = spark.read\\\n",
    "                          .format(\"csv\")\\\n",
    "                          .option(\"sep\",\";\")\\\n",
    "                          .option(\"header\",\"true\")\\\n",
    "                          .option(\"charset\",\"iso-8859-1\")\\\n",
    "                          .schema(schemaItemCompra)\\\n",
    "                          .option(\"dateFormat\", \"dd/MM/yyyy\")\\\n",
    "                          .load(\"/home/aluno/_spark/dados/originais/compras_publicas_federal/compras/itens_compra/\")"
   ]
  },
  {
   "cell_type": "code",
   "execution_count": 15,
   "id": "98b0c71b-d286-4f45-926c-a79e178016b2",
   "metadata": {},
   "outputs": [
    {
     "name": "stdout",
     "output_type": "stream",
     "text": [
      "+-------+--------------------+------+--------------------+-------+-------------+--------------------+--------------------+--------+----------+\n",
      "|cod_org|              nm_org|cod_ug|               nm_ug|nr_cont|cod_item_comp|      desc_item_comp|desc_compl_item_comp|qtd_item|   vl_item|\n",
      "+-------+--------------------+------+--------------------+-------+-------------+--------------------+--------------------+--------+----------+\n",
      "|  52121| Comando do Exército|160100|COMANDO DA 3A BDA...|  12018|         null|ANALISE CLINICA, ...|PRESTAÇÃO DE SERV...|       1| 120000,00|\n",
      "|  30108|Departamento de P...|200366|DELEGACIA DE POLI...|  12019|            0|Informação proteg...|Informação proteg...|     600|      6,00|\n",
      "|  30108|Departamento de P...|200366|DELEGACIA DE POLI...|  12019|            0|Informação proteg...|Informação proteg...|      30| 153510,00|\n",
      "|  30108|Departamento de P...|200366|DELEGACIA DE POLI...|  12019|            0|Informação proteg...|Informação proteg...|     600| 596118,00|\n",
      "|  30108|Departamento de P...|200366|DELEGACIA DE POLI...|  12019|            0|Informação proteg...|Informação proteg...|     150|      1,50|\n",
      "|  25000|Ministério da Eco...|170018|SUPERITENDENCIA R...|  12019|         null|EQUIPAMENTO / COM...|MÓDULO MCB-H DEST...|       1| 365000,00|\n",
      "|  26238|Universidade Fede...|153285|FACULDADE DE EDUC...|  12019|         null|ADMINISTRACAO / E...|CONTRATAÇÃO DA FU...|       1| 348486,40|\n",
      "|  26238|Universidade Fede...|153275|ESCOLA DE ARQUITE...|  12019|         null|ADMINISTRACAO / E...|ADMINISTRAÇÃO , E...|       1| 277109,20|\n",
      "|  26238|Universidade Fede...|153275|ESCOLA DE ARQUITE...|  12019|         null|ADMINISTRACAO / E...|ADMINISTRAÇÃO , E...|       1|3695890,70|\n",
      "|  52121| Comando do Exército|160155|COMANDO DE FRONTE...|  12019|         null|MANUTENCAO / REFO...|OBRA DE ADEQUAÇÃO...|       1| 643051,70|\n",
      "|  25000|Ministério da Eco...|170247|INSPETORIA DA RFB...|  12019|         null|COMUNICACAO POR C...|COMUNICAÇÃO POR C...|       1|   1875,00|\n",
      "|  26431|Instituto Federal...|154704|INST. FED. PIAUI/...|  12019|         null|              FEIJÃO|FEIJÃO, TIPO 1, T...|      50|    583,50|\n",
      "|  26431|Instituto Federal...|154704|INST. FED. PIAUI/...|  12019|         null|  VERDURA IN NATURA*|VERDURA IN NATURA...|      60|    760,20|\n",
      "|  26431|Instituto Federal...|154704|INST. FED. PIAUI/...|  12019|         null|   LEGUME IN NATURA*|LEGUME IN NATURA*...|      30|    117,90|\n",
      "|  26431|Instituto Federal...|154704|INST. FED. PIAUI/...|  12019|         null|   LEGUME IN NATURA*|LEGUME IN NATURA*...|     300|   1950,00|\n",
      "|  26431|Instituto Federal...|154704|INST. FED. PIAUI/...|  12019|         null|  VERDURA IN NATURA*|VERDURA IN NATURA...|      20|    240,00|\n",
      "|  26431|Instituto Federal...|154704|INST. FED. PIAUI/...|  12019|         null|     FRUTA IN NATURA|FRUTA IN NATURA, ...|     834|   1726,30|\n",
      "|  26431|Instituto Federal...|154704|INST. FED. PIAUI/...|  12019|         null|              FEIJÃO|FEIJÃO, TIPO CORD...|      67|    647,80|\n",
      "|  26431|Instituto Federal...|154704|INST. FED. PIAUI/...|  12019|         null|     FRUTA IN NATURA|FRUTA IN NATURA, ...|     300|   2079,00|\n",
      "|  26431|Instituto Federal...|154704|INST. FED. PIAUI/...|  12019|         null|MILHO VERDE IN - ...|MILHO VERDE IN - ...|     375|    412,50|\n",
      "+-------+--------------------+------+--------------------+-------+-------------+--------------------+--------------------+--------+----------+\n",
      "only showing top 20 rows\n",
      "\n",
      "root\n",
      " |-- cod_org: integer (nullable = true)\n",
      " |-- nm_org: string (nullable = true)\n",
      " |-- cod_ug: integer (nullable = true)\n",
      " |-- nm_ug: string (nullable = true)\n",
      " |-- nr_cont: integer (nullable = true)\n",
      " |-- cod_item_comp: decimal(10,0) (nullable = true)\n",
      " |-- desc_item_comp: string (nullable = true)\n",
      " |-- desc_compl_item_comp: string (nullable = true)\n",
      " |-- qtd_item: integer (nullable = true)\n",
      " |-- vl_item: string (nullable = true)\n",
      "\n"
     ]
    }
   ],
   "source": [
    "itemCompraManualDF.show()\n",
    "itemCompraManualDF.printSchema()"
   ]
  },
  {
   "cell_type": "code",
   "execution_count": 16,
   "id": "b3f09873-0874-4ceb-80b5-6a61d7ef97e5",
   "metadata": {},
   "outputs": [],
   "source": [
    "termosAditivosManualDF = spark.read\\\n",
    "                          .format(\"csv\")\\\n",
    "                          .option(\"sep\",\";\")\\\n",
    "                          .option(\"header\",\"true\")\\\n",
    "                          .option(\"charset\",\"iso-8859-1\")\\\n",
    "                          .schema(schemaTermoAditivo)\\\n",
    "                          .option(\"dateFormat\", \"dd/MM/yyyy\")\\\n",
    "                          .load(\"/home/aluno/_spark/dados/originais/compras_publicas_federal/temos_aditivo/\")"
   ]
  },
  {
   "cell_type": "code",
   "execution_count": 17,
   "id": "53a5dcb2-972d-4856-8d0e-b91ff53f8222",
   "metadata": {},
   "outputs": [
    {
     "name": "stdout",
     "output_type": "stream",
     "text": [
      "+--------+-----------+--------------------+-------+--------------------+------+--------------------+------------+----------+--------------------+\n",
      "| nr_cont|cod_org_sup|          nm_org_sup|cod_org|              nm_org|cod_ug|               nm_ug|nr_term_adit|    dt_pub|                 obj|\n",
      "+--------+-----------+--------------------+-------+--------------------+------+--------------------+------------+----------+--------------------+\n",
      "|  742019|      20000|Presidência da Re...|  20101|Presidência da Re...|110001|SECRETARIA ESPECI...|       12020|2020-04-01|Objeto: Alterar o...|\n",
      "|  752019|      20000|Presidência da Re...|  20101|Presidência da Re...|110001|SECRETARIA ESPECI...|       12020|2020-05-11|Objeto: Acréscimo...|\n",
      "|  752019|      20000|Presidência da Re...|  20101|Presidência da Re...|110001|SECRETARIA ESPECI...|       22020|2020-12-21|Objeto: Prorrogaç...|\n",
      "|   72019|      63000|Advocacia-Geral d...|  63000|Advocacia-Geral d...|110156|ESCOLA DA ADVOCAC...|       12020|2020-12-30|Objeto: Prorrogaç...|\n",
      "|  612019|      63000|Advocacia-Geral d...|  63000|Advocacia-Geral d...|110161|SUPERINTENDENCIA ...|       12020|2020-09-16|Objeto: Alteração...|\n",
      "|  632019|      63000|Advocacia-Geral d...|  63000|Advocacia-Geral d...|110161|SUPERINTENDENCIA ...|       12020|2020-12-11|Objeto: Prorrogar...|\n",
      "|   62019|      52000|Ministério da Defesa|  52000|Ministério da Def...|110511|CENTRO GESTOR OP....|       12020|2020-01-28|Objeto: Prorrogar...|\n",
      "|  162019|      63000|Advocacia-Geral d...|  63000|Advocacia-Geral d...|110592|UNIDADE DE ATENDI...|       12020|2020-03-26|Objeto: Prorrogaç...|\n",
      "|  172019|      63000|Advocacia-Geral d...|  63000|Advocacia-Geral d...|110592|UNIDADE DE ATENDI...|       12020|2020-06-03|Objeto: Trata-se ...|\n",
      "|   12020|      52000|Ministério da Defesa|  52000|Ministério da Def...|112408|HOSPITAL DAS FORC...|      152020|2020-06-08|Objeto: Prorrogar...|\n",
      "|  282019|      24000|Ministério da Ciê...|  20301|Comissão Nacional...|113204|COMISSAO NACIONAL...|      292020|2020-12-29|Objeto: Prorrogaç...|\n",
      "|12242018|      32000|Ministério de Min...|  20302|Nuclebrás Equipam...|113208|NUCLEBRAS EQUIPAM...|       12019|2019-09-04|OBJETO: Serviços ...|\n",
      "|12482018|      32000|Ministério de Min...|  20302|Nuclebrás Equipam...|113208|NUCLEBRAS EQUIPAM...|       12019|2019-08-29|OBJETO: Repactuaç...|\n",
      "|12482018|      32000|Ministério de Min...|  20302|Nuclebrás Equipam...|113208|NUCLEBRAS EQUIPAM...|       22019|2020-01-10|OBJETO: Prorrogaç...|\n",
      "|  312019|      39000|Ministério da Inf...|  62201|Agência Nacional ...|113214|AGENCIA NACIONAL ...|       12020|2020-10-26|Objeto: Prorrogaç...|\n",
      "|   52019|      39000|Ministério da Inf...|  62201|Agência Nacional ...|113216|REPRESENTACAO REG...|       12020|2020-08-27|Objeto: O present...|\n",
      "|   52019|      39000|Ministério da Inf...|  62201|Agência Nacional ...|113216|REPRESENTACAO REG...|       22020|2020-09-29|Objeto: A)prorrog...|\n",
      "|   12020|      25000|Ministério da Eco...|  25205|Fundação Institut...|114601|FUNDACAO IBGE-ADM...|       12020|2020-07-30|Objeto: A CONTRAT...|\n",
      "|   12020|      25000|Ministério da Eco...|  25205|Fundação Institut...|114601|FUNDACAO IBGE-ADM...|       22020|2020-12-21|Objeto: Nos termo...|\n",
      "|  502019|      25000|Ministério da Eco...|  25205|Fundação Institut...|114601|FUNDACAO IBGE-ADM...|       12019|2020-01-16|Objeto: Aquisição...|\n",
      "+--------+-----------+--------------------+-------+--------------------+------+--------------------+------------+----------+--------------------+\n",
      "only showing top 20 rows\n",
      "\n",
      "root\n",
      " |-- nr_cont: integer (nullable = true)\n",
      " |-- cod_org_sup: integer (nullable = true)\n",
      " |-- nm_org_sup: string (nullable = true)\n",
      " |-- cod_org: integer (nullable = true)\n",
      " |-- nm_org: string (nullable = true)\n",
      " |-- cod_ug: integer (nullable = true)\n",
      " |-- nm_ug: string (nullable = true)\n",
      " |-- nr_term_adit: integer (nullable = true)\n",
      " |-- dt_pub: date (nullable = true)\n",
      " |-- obj: string (nullable = true)\n",
      "\n"
     ]
    }
   ],
   "source": [
    "termosAditivosManualDF.show()\n",
    "termosAditivosManualDF.printSchema()"
   ]
  },
  {
   "cell_type": "markdown",
   "id": "dad66885-cde1-42ea-a00c-49354f1bcb0b",
   "metadata": {},
   "source": [
    "Aula 17/09"
   ]
  },
  {
   "cell_type": "code",
   "execution_count": 19,
   "id": "6fa81844-9976-4319-8e6e-dc1ae876e23f",
   "metadata": {},
   "outputs": [
    {
     "name": "stdout",
     "output_type": "stream",
     "text": [
      "+-------+--------------------+--------------------+--------------------+--------------------+-----------+--------------------+-------+--------------------+------+--------------------+-----------+----------+----------+----------+--------------+--------------------+------------+------------+---------+----------+--------------------+----------------+--------------------+\n",
      "|nr_cont|                 obj|            fund_leg|            mod_comp|            sit_cont|cod_org_sup|          nm_org_sup|cod_org|              nm_org|cod_ug|               nm_ug|dt_ass_cont|dt_pub_dou|dt_ini_vig|dt_fim_vig|  cnpj_contrtd|          nm_contrtd| vl_ini_comp| vl_fim_comp|   nr_lic|cod_ug_lic|           nm_ug_lic|cod_mod_comp_lic|   desc_mod_comp_lic|\n",
      "+-------+--------------------+--------------------+--------------------+--------------------+-----------+--------------------+-------+--------------------+------+--------------------+-----------+----------+----------+----------+--------------+--------------------+------------+------------+---------+----------+--------------------+----------------+--------------------+\n",
      "|  92019|Objeto: Aquisição...|Fundamento Legal:...|Dispensa de Licit...|           Publicado|      26000|Ministério da Edu...|  26429|Instituto Federal...|158643|INST.FED.DE GOIAS...| 2019-12-27|2020-01-23|2019-12-27|2020-12-27|32415936000170|ASSOCIACAO DE PRO...| 230559,6000| 230559,6000|    52019|    158643|INST.FED.DE GOIAS...|               6|Dispensa de Licit...|\n",
      "|  12020|Objeto: Contrataç...|Fundamento Legal:...|Pregão - Registro...|           Publicado|      52000|Ministério da Defesa|  52121| Comando do Exército|160224|PARQUE REGIONAL D...| 2020-01-07|2020-01-10|2020-01-07|2021-01-07| 9323193000196|JC LAVANDERIA IND...|   6000,0000|   6000,0000|   192019|    160223|HOSPITAL GERAL DE...|             -99|Pregão - Registro...|\n",
      "|  22020|Objeto: Serviços ...|Fundamento Legal:...|              Pregão|           Publicado|      26000|Ministério da Edu...|  26439|Instituto Federal...|158526|IFSP - CAMPUS ITA...| 2020-01-08|2020-01-28|2020-01-08|2020-04-07|   14776000160|TRINIVOLT COMERCI...|  17000,0000|  17000,0000| 65262019|    158526|IFSP - CAMPUS ITA...|               5|              Pregão|\n",
      "|5012020|Objeto: Contrataç...|Fundamento Legal:...|Inexigibilidade d...|           Publicado|      52000|Ministério da Defesa|  52121| Comando do Exército|160173|31º BATALHAO DE I...| 2019-12-30|2020-01-21|2020-01-01|2020-12-31| 5238398000201|NORDESTE SERVICOS...| 200000,0000| 400000,0000|   232019|    160173|31º BATALHAO DE I...|               7|Inexigibilidade d...|\n",
      "| 512020|Objeto: Prestação...|Fundamento Legal:...|              Pregão|           Publicado|      39000|Ministério da Inf...|  39252|Departamento Naci...|393015|SUPERINTENDENCIA ...| 2020-01-27|2020-01-29|2020-02-03|2021-02-03|13500936000123|SERVCOM-BA SERVIC...| 416143,9100| 416143,9100|  3642019|    393015|SUPERINTENDENCIA ...|               5|              Pregão|\n",
      "|  52019|Objeto: Contrataç...|Fundamento Legal:...|    Tomada de Preços|Rescindido - Publ...|      53000|Ministério do Des...|  22204|Departamento Naci...|193001|DNOCS CEST/PI-TER...| 2020-01-23|2020-01-24|2020-01-23|2020-05-23| 2528908000106|CONSTRUTORA SANTA...| 487018,6800| 487018,6800|    22019|    193001|DNOCS CEST/PI-TER...|               2|    Tomada de Preços|\n",
      "| 202019|Objeto: Aquisição...|Fundamento Legal:...|Dispensa de Licit...|           Publicado|      24000|Ministério da Ciê...|  24000|Ministério da Ciê...|240105|INSTIT.NACIONAL D...| 2019-11-29|2020-01-24|2019-11-29|2020-11-28| 5914165000192|CARBOXI - INDUSTR...| 119580,0000| 119580,0000|    72019|    240105|INSTIT.NACIONAL D...|               6|Dispensa de Licit...|\n",
      "| 362019|Objeto: Contrataç...|Fundamento Legal:...|              Pregão|           Publicado|      25000|Ministério da Eco...|  30204|Instituto Naciona...|183038|INSTITUTO NACIONA...| 2019-12-30|2020-01-10|2019-12-30|2022-06-30|58619404000814|SEAL TELECOM COME...|6043946,0500|6043946,0500|   182019|    183038|INSTITUTO NACIONA...|               5|              Pregão|\n",
      "|  72019|Objeto: Contrataç...|Fundamento Legal:...|Pregão - Registro...|           Publicado|      52000|Ministério da Defesa|  52121| Comando do Exército|160120|4. DEPOSITO DE SU...| 2019-12-11|2020-01-08|2019-12-11|2020-12-11|12591441000194|LAVANDERIA MORRO ...|  29463,0000|  29463,0000|    52019|    160116|17º BATALHAO LOGI...|             -99|Pregão - Registro...|\n",
      "|  12020|Objeto: Aquisição...|Fundamento Legal:...|Pregão - Registro...|           Publicado|      26000|Ministério da Edu...|  26443|Empresa Brasileir...|155008|HOSPITAL UNIVERSI...| 2020-01-14|2020-01-15|2020-01-14|2021-01-14|58752460000407|SHIMADZU DO BRASI...| 560810,0000| 560810,0000|   922019|    155008|HOSPITAL UNIVERSI...|             -99|Pregão - Registro...|\n",
      "|  12020|Objeto: Execução ...|Fundamento Legal:...|Dispensa de Licit...|           Publicado|      26000|Ministério da Edu...|  26350|Fundação Universi...|154502|FUNDACAO UNIVERSI...| 2020-01-13|2020-01-15|2020-01-13|2021-07-13|10482039000146|FUNDACAO DE APOIO...| 928425,0000| 928425,0000|   252019|    154502|FUNDACAO UNIVERSI...|               6|Dispensa de Licit...|\n",
      "|  12020|Objeto: Aquisição...|Fundamento Legal:...|              Pregão|           Publicado|      26000|Ministério da Edu...|  26000|Ministério da Edu...|152005|INSTITUTO NACIONA...| 2020-01-06|2020-01-28|2020-04-01|2020-05-16|12467682000126|MAXIMUM COMERCIAL...| 144839,8400| 144839,8400|   392019|    152005|INSTITUTO NACIONA...|               5|              Pregão|\n",
      "| 792019|Objeto: Contrataç...|Fundamento Legal:...|Dispensa de Licit...|           Publicado|      26000|Ministério da Edu...|  26281|Fundação Universi...|154050|FUNDACAO UNIVERSI...| 2019-10-31|2020-01-20|2019-10-31|2020-10-30|16772623000112|EDSON BATISTA SAN...|   7631,3600|   7631,3600|900102019|    154050|FUNDACAO UNIVERSI...|               6|Dispensa de Licit...|\n",
      "| 652019|Objeto: Contrataç...|Fundamento Legal:...|Inexigibilidade d...|           Publicado|      26000|Ministério da Edu...|  26443|Empresa Brasileir...|155008|HOSPITAL UNIVERSI...| 2019-12-30|2020-01-24|2019-12-30|2021-12-30|58295213000178|PHILIPS MEDICAL S...| 735471,6000| 735471,6000|   202019|    155008|HOSPITAL UNIVERSI...|               7|Inexigibilidade d...|\n",
      "| 102019|Objeto: Contrataç...|Fundamento Legal:...|    Tomada de Preços|           Publicado|      52000|Ministério da Defesa|  52131|  Comando da Marinha|783602|ESCOLA DE APREND....| 2019-11-21|2020-01-14|2019-11-21|2020-11-21|14868122000109| L&S ENGENHARIA LTDA| 869691,9800| 869691,9800|    22019|    783602|ESCOLA DE APREND....|               2|    Tomada de Preços|\n",
      "| 472019|Objeto: Contrataç...|Fundamento Legal:...|              Pregão|           Publicado|      26000|Ministério da Edu...|  26256|Centro Federal de...|153010|CENTRO FED.DE EDU...| 2019-12-26|2020-01-27|2019-12-26|2020-12-26|61074175000138|MAPFRE SEGUROS GE...|  17000,0000|  17000,0000|   542019|    153010|CENTRO FED.DE EDU...|               5|              Pregão|\n",
      "|1542019|Objeto: Aquisição...|Fundamento Legal:...|Pregão - Registro...|           Publicado|      26000|Ministério da Edu...|  26230|Fundação Universi...|154421|FUND. UNIVERSIDAD...| 2019-12-17|2020-01-09|2019-12-17|2020-12-17|30401291000190|IDALBY CRISTINE M...|    847,6800|    847,6800|   122019|    154421|FUND. UNIVERSIDAD...|             -99|Pregão - Registro...|\n",
      "|5092020|Objeto: Contrataç...|Fundamento Legal:...|Inexigibilidade d...|           Publicado|      52000|Ministério da Defesa|  52121| Comando do Exército|160173|31º BATALHAO DE I...| 2019-12-31|2020-01-21|2020-01-01|2020-12-31| 8834137000153|HOSPITAL ANTONIO ...|2500000,0000|5000000,0000|   232019|    160173|31º BATALHAO DE I...|               7|Inexigibilidade d...|\n",
      "|  42019|Objeto: Vigilânci...|Fundamento Legal:...|Pregão - Registro...|           Publicado|      26000|Ministério da Edu...|  26432|Instituto Federal...|154673|INST. FED. DO PAR...| 2019-12-09|2020-01-13|2020-02-01|2022-07-31| 3229363000191|BETRON TECNOLOGIA...| 866417,1000| 866417,1000|   122019|    158009|INST. FED. DO PAR...|             -99|Pregão - Registro...|\n",
      "|1192019|Objeto: Prestação...|Fundamento Legal:...|              Pregão|           Publicado|      26000|Ministério da Edu...|  26276|Fundação Universi...|154045|FUNDACAO UNIVERSI...| 2019-12-27|2020-01-08|2019-12-27|2020-12-26|10398803000280|RONDAI SEGURANCA ...| 915160,6800|1438835,9600|   292019|    154045|FUNDACAO UNIVERSI...|               5|              Pregão|\n",
      "+-------+--------------------+--------------------+--------------------+--------------------+-----------+--------------------+-------+--------------------+------+--------------------+-----------+----------+----------+----------+--------------+--------------------+------------+------------+---------+----------+--------------------+----------------+--------------------+\n",
      "only showing top 20 rows\n",
      "\n"
     ]
    }
   ],
   "source": [
    "compraEsquemaManualDF.show()"
   ]
  },
  {
   "cell_type": "code",
   "execution_count": 40,
   "id": "8683d603-f808-46b4-8b86-0a9f92185ce6",
   "metadata": {},
   "outputs": [
    {
     "name": "stdout",
     "output_type": "stream",
     "text": [
      "+-------+------+--------------------+----------+-----------+\n",
      "|nr_cont|cod_ug|            mod_comp|dt_ini_vig|vl_fim_comp|\n",
      "+-------+------+--------------------+----------+-----------+\n",
      "|  92019|158643|Dispensa de Licit...|2019-12-27|  230559.60|\n",
      "|  12020|160224|Pregão - Registro...|2020-01-07|    6000.00|\n",
      "|  22020|158526|              Pregão|2020-01-08|   17000.00|\n",
      "|5012020|160173|Inexigibilidade d...|2020-01-01|  400000.00|\n",
      "| 512020|393015|              Pregão|2020-02-03|  416143.91|\n",
      "|  52019|193001|    Tomada de Preços|2020-01-23|  487018.68|\n",
      "| 202019|240105|Dispensa de Licit...|2019-11-29|  119580.00|\n",
      "| 362019|183038|              Pregão|2019-12-30| 6043946.05|\n",
      "|  72019|160120|Pregão - Registro...|2019-12-11|   29463.00|\n",
      "|  12020|155008|Pregão - Registro...|2020-01-14|  560810.00|\n",
      "|  12020|154502|Dispensa de Licit...|2020-01-13|  928425.00|\n",
      "|  12020|152005|              Pregão|2020-04-01|  144839.84|\n",
      "| 792019|154050|Dispensa de Licit...|2019-10-31|    7631.36|\n",
      "| 652019|155008|Inexigibilidade d...|2019-12-30|  735471.60|\n",
      "| 102019|783602|    Tomada de Preços|2019-11-21|  869691.98|\n",
      "| 472019|153010|              Pregão|2019-12-26|   17000.00|\n",
      "|1542019|154421|Pregão - Registro...|2019-12-17|     847.68|\n",
      "|5092020|160173|Inexigibilidade d...|2020-01-01| 5000000.00|\n",
      "|  42019|154673|Pregão - Registro...|2020-02-01|  866417.10|\n",
      "|1192019|154045|              Pregão|2019-12-27| 1438835.96|\n",
      "+-------+------+--------------------+----------+-----------+\n",
      "only showing top 20 rows\n",
      "\n",
      "root\n",
      " |-- nr_cont: integer (nullable = true)\n",
      " |-- cod_ug: integer (nullable = true)\n",
      " |-- mod_comp: string (nullable = true)\n",
      " |-- dt_ini_vig: date (nullable = true)\n",
      " |-- vl_fim_comp: decimal(16,2) (nullable = true)\n",
      "\n"
     ]
    }
   ],
   "source": [
    "compraDF = compraEsquemaManualDF.withColumn(\"vl_ini_comp\", F.regexp_replace(\"vl_ini_comp\", \",\", \".\").cast(DoubleType()))\\\n",
    "                                .withColumn(\"vl_fim_comp\", F.regexp_replace(\"vl_fim_comp\", \",\", \".\").cast(DecimalType(16,2)))\\\n",
    "                                .select(\"nr_cont\",\n",
    "                                        \"cod_ug\", \n",
    "                                        \"mod_comp\", \n",
    "                                        \"dt_ini_vig\", \n",
    "                                        \"vl_fim_comp\"\n",
    "                                       )\n",
    "    \n",
    "compraDF.show()\n",
    "compraDF.printSchema()                         "
   ]
  },
  {
   "cell_type": "markdown",
   "id": "e4fa821f-aa4e-4f90-a980-efeba44c45b3",
   "metadata": {},
   "source": [
    "### Gravação do conteúdo de dataframe em arquivo CSV"
   ]
  },
  {
   "cell_type": "code",
   "execution_count": 42,
   "id": "730a39f2-f23b-4668-ba8d-c3c4cbdd36dd",
   "metadata": {},
   "outputs": [
    {
     "name": "stderr",
     "output_type": "stream",
     "text": [
      "                                                                                \r"
     ]
    }
   ],
   "source": [
    "compraDF.write\\\n",
    "        .mode(\"overwrite\")\\\n",
    "        .option(\"header\", True)\\\n",
    "        .option(\"sep\", \"\\t\")\\\n",
    "        .csv(\"home/aluno/_spark/dados/tratados/compra_publica.csv\")"
   ]
  },
  {
   "cell_type": "markdown",
   "id": "a8e72c58-2648-43d2-b5b5-436b2ec21f73",
   "metadata": {},
   "source": [
    "### Gravação do conteúdo de dataframe em JDBC"
   ]
  },
  {
   "cell_type": "code",
   "execution_count": 45,
   "id": "dd5f5c4b-14f4-4787-ae33-b465d20fbe54",
   "metadata": {},
   "outputs": [
    {
     "name": "stderr",
     "output_type": "stream",
     "text": [
      "                                                                                \r"
     ]
    }
   ],
   "source": [
    "compraDF.write\\\n",
    "        .format(\"jdbc\")\\\n",
    "        .mode(\"append\")\\\n",
    "        .option(\"url\", \"jdbc:postgresql://127.0.0.1:5432/aula_fd\")\\\n",
    "        .option(\"driver\", \"org.postgresql.Driver\")\\\n",
    "        .option(\"dbtable\", \"compra_publica_teste\")\\\n",
    "        .option(\"user\", \"aluno\")\\\n",
    "        .option(\"password\", \"123\")\\\n",
    "        .save()"
   ]
  },
  {
   "cell_type": "markdown",
   "id": "040ae639-42fd-42b2-82b2-0b91383ed1ab",
   "metadata": {},
   "source": [
    "### Gravação do conteúdo de dataframe no Metastore do Hive"
   ]
  },
  {
   "cell_type": "markdown",
   "id": "c5319819-eec2-45af-86f1-7ebd9f8d16ca",
   "metadata": {},
   "source": [
    "#### Criação da base de dados no Metastore"
   ]
  },
  {
   "cell_type": "code",
   "execution_count": 51,
   "id": "17494a07-6b86-4a53-9194-0088574779fc",
   "metadata": {},
   "outputs": [
    {
     "ename": "AnalysisException",
     "evalue": "Database 'aula_fd' already exists",
     "output_type": "error",
     "traceback": [
      "\u001b[0;31m---------------------------------------------------------------------------\u001b[0m",
      "\u001b[0;31mAnalysisException\u001b[0m                         Traceback (most recent call last)",
      "Input \u001b[0;32mIn [51]\u001b[0m, in \u001b[0;36m<cell line: 1>\u001b[0;34m()\u001b[0m\n\u001b[0;32m----> 1\u001b[0m \u001b[43mspark\u001b[49m\u001b[38;5;241;43m.\u001b[39;49m\u001b[43msql\u001b[49m\u001b[43m(\u001b[49m\n\u001b[1;32m      2\u001b[0m \u001b[43m    \u001b[49m\u001b[38;5;124;43;03m\"\"\"\u001b[39;49;00m\n\u001b[1;32m      3\u001b[0m \u001b[38;5;124;43;03m        CREATE DATABASE aula_fd;\u001b[39;49;00m\n\u001b[1;32m      4\u001b[0m \u001b[38;5;124;43;03m    \"\"\"\u001b[39;49;00m\n\u001b[1;32m      5\u001b[0m \u001b[43m)\u001b[49m\n",
      "File \u001b[0;32m~/.local/lib/python3.8/site-packages/pyspark/sql/session.py:723\u001b[0m, in \u001b[0;36mSparkSession.sql\u001b[0;34m(self, sqlQuery)\u001b[0m\n\u001b[1;32m    707\u001b[0m \u001b[38;5;28;01mdef\u001b[39;00m \u001b[38;5;21msql\u001b[39m(\u001b[38;5;28mself\u001b[39m, sqlQuery):\n\u001b[1;32m    708\u001b[0m     \u001b[38;5;124;03m\"\"\"Returns a :class:`DataFrame` representing the result of the given query.\u001b[39;00m\n\u001b[1;32m    709\u001b[0m \n\u001b[1;32m    710\u001b[0m \u001b[38;5;124;03m    .. versionadded:: 2.0.0\u001b[39;00m\n\u001b[0;32m   (...)\u001b[0m\n\u001b[1;32m    721\u001b[0m \u001b[38;5;124;03m    [Row(f1=1, f2='row1'), Row(f1=2, f2='row2'), Row(f1=3, f2='row3')]\u001b[39;00m\n\u001b[1;32m    722\u001b[0m \u001b[38;5;124;03m    \"\"\"\u001b[39;00m\n\u001b[0;32m--> 723\u001b[0m     \u001b[38;5;28;01mreturn\u001b[39;00m DataFrame(\u001b[38;5;28;43mself\u001b[39;49m\u001b[38;5;241;43m.\u001b[39;49m\u001b[43m_jsparkSession\u001b[49m\u001b[38;5;241;43m.\u001b[39;49m\u001b[43msql\u001b[49m\u001b[43m(\u001b[49m\u001b[43msqlQuery\u001b[49m\u001b[43m)\u001b[49m, \u001b[38;5;28mself\u001b[39m\u001b[38;5;241m.\u001b[39m_wrapped)\n",
      "File \u001b[0;32m~/.local/lib/python3.8/site-packages/py4j/java_gateway.py:1321\u001b[0m, in \u001b[0;36mJavaMember.__call__\u001b[0;34m(self, *args)\u001b[0m\n\u001b[1;32m   1315\u001b[0m command \u001b[38;5;241m=\u001b[39m proto\u001b[38;5;241m.\u001b[39mCALL_COMMAND_NAME \u001b[38;5;241m+\u001b[39m\\\n\u001b[1;32m   1316\u001b[0m     \u001b[38;5;28mself\u001b[39m\u001b[38;5;241m.\u001b[39mcommand_header \u001b[38;5;241m+\u001b[39m\\\n\u001b[1;32m   1317\u001b[0m     args_command \u001b[38;5;241m+\u001b[39m\\\n\u001b[1;32m   1318\u001b[0m     proto\u001b[38;5;241m.\u001b[39mEND_COMMAND_PART\n\u001b[1;32m   1320\u001b[0m answer \u001b[38;5;241m=\u001b[39m \u001b[38;5;28mself\u001b[39m\u001b[38;5;241m.\u001b[39mgateway_client\u001b[38;5;241m.\u001b[39msend_command(command)\n\u001b[0;32m-> 1321\u001b[0m return_value \u001b[38;5;241m=\u001b[39m \u001b[43mget_return_value\u001b[49m\u001b[43m(\u001b[49m\n\u001b[1;32m   1322\u001b[0m \u001b[43m    \u001b[49m\u001b[43manswer\u001b[49m\u001b[43m,\u001b[49m\u001b[43m \u001b[49m\u001b[38;5;28;43mself\u001b[39;49m\u001b[38;5;241;43m.\u001b[39;49m\u001b[43mgateway_client\u001b[49m\u001b[43m,\u001b[49m\u001b[43m \u001b[49m\u001b[38;5;28;43mself\u001b[39;49m\u001b[38;5;241;43m.\u001b[39;49m\u001b[43mtarget_id\u001b[49m\u001b[43m,\u001b[49m\u001b[43m \u001b[49m\u001b[38;5;28;43mself\u001b[39;49m\u001b[38;5;241;43m.\u001b[39;49m\u001b[43mname\u001b[49m\u001b[43m)\u001b[49m\n\u001b[1;32m   1324\u001b[0m \u001b[38;5;28;01mfor\u001b[39;00m temp_arg \u001b[38;5;129;01min\u001b[39;00m temp_args:\n\u001b[1;32m   1325\u001b[0m     temp_arg\u001b[38;5;241m.\u001b[39m_detach()\n",
      "File \u001b[0;32m~/.local/lib/python3.8/site-packages/pyspark/sql/utils.py:117\u001b[0m, in \u001b[0;36mcapture_sql_exception.<locals>.deco\u001b[0;34m(*a, **kw)\u001b[0m\n\u001b[1;32m    113\u001b[0m converted \u001b[38;5;241m=\u001b[39m convert_exception(e\u001b[38;5;241m.\u001b[39mjava_exception)\n\u001b[1;32m    114\u001b[0m \u001b[38;5;28;01mif\u001b[39;00m \u001b[38;5;129;01mnot\u001b[39;00m \u001b[38;5;28misinstance\u001b[39m(converted, UnknownException):\n\u001b[1;32m    115\u001b[0m     \u001b[38;5;66;03m# Hide where the exception came from that shows a non-Pythonic\u001b[39;00m\n\u001b[1;32m    116\u001b[0m     \u001b[38;5;66;03m# JVM exception message.\u001b[39;00m\n\u001b[0;32m--> 117\u001b[0m     \u001b[38;5;28;01mraise\u001b[39;00m converted \u001b[38;5;28;01mfrom\u001b[39;00m \u001b[38;5;28mNone\u001b[39m\n\u001b[1;32m    118\u001b[0m \u001b[38;5;28;01melse\u001b[39;00m:\n\u001b[1;32m    119\u001b[0m     \u001b[38;5;28;01mraise\u001b[39;00m\n",
      "\u001b[0;31mAnalysisException\u001b[0m: Database 'aula_fd' already exists"
     ]
    }
   ],
   "source": [
    "spark.sql(\n",
    "    \"\"\"\n",
    "        CREATE DATABASE aula_fd;\n",
    "    \"\"\"\n",
    ")"
   ]
  },
  {
   "cell_type": "code",
   "execution_count": 52,
   "id": "693c155b-3d12-41f1-8bd5-b5eb4ceea7bc",
   "metadata": {},
   "outputs": [
    {
     "name": "stdout",
     "output_type": "stream",
     "text": [
      "+---------+\n",
      "|namespace|\n",
      "+---------+\n",
      "|  aula_fd|\n",
      "|  default|\n",
      "+---------+\n",
      "\n"
     ]
    }
   ],
   "source": [
    "spark.sql(\n",
    "    \"\"\"\n",
    "        show databases;\n",
    "    \"\"\"\n",
    ").show()"
   ]
  },
  {
   "cell_type": "markdown",
   "id": "0c948633-7f35-4d10-a69d-686b5819e86f",
   "metadata": {},
   "source": [
    "### Gravação do dataframe em uma tabela no Metastore"
   ]
  },
  {
   "cell_type": "code",
   "execution_count": 55,
   "id": "e624f086-7458-4848-a9ca-3637d6fa3c3f",
   "metadata": {},
   "outputs": [
    {
     "name": "stderr",
     "output_type": "stream",
     "text": [
      "                                                                                \r"
     ]
    }
   ],
   "source": [
    "compraDF.write\\\n",
    "        .mode(\"append\")\\\n",
    "        .saveAsTable(\"aula_fd.compra_publica\")\n",
    "\n",
    "#Grava o arquivo no padrão do Spark - formato parquet."
   ]
  },
  {
   "cell_type": "code",
   "execution_count": 56,
   "id": "bde8313f-4d1e-4a9b-9b46-d92cdff1f164",
   "metadata": {},
   "outputs": [
    {
     "name": "stdout",
     "output_type": "stream",
     "text": [
      "+-------+------+--------------------+----------+-----------+\n",
      "|nr_cont|cod_ug|            mod_comp|dt_ini_vig|vl_fim_comp|\n",
      "+-------+------+--------------------+----------+-----------+\n",
      "|  92019|158643|Dispensa de Licit...|2019-12-27|  230559.60|\n",
      "|  12020|160224|Pregão - Registro...|2020-01-07|    6000.00|\n",
      "|  22020|158526|              Pregão|2020-01-08|   17000.00|\n",
      "|5012020|160173|Inexigibilidade d...|2020-01-01|  400000.00|\n",
      "| 512020|393015|              Pregão|2020-02-03|  416143.91|\n",
      "|  52019|193001|    Tomada de Preços|2020-01-23|  487018.68|\n",
      "| 202019|240105|Dispensa de Licit...|2019-11-29|  119580.00|\n",
      "| 362019|183038|              Pregão|2019-12-30| 6043946.05|\n",
      "|  72019|160120|Pregão - Registro...|2019-12-11|   29463.00|\n",
      "|  12020|155008|Pregão - Registro...|2020-01-14|  560810.00|\n",
      "|  12020|154502|Dispensa de Licit...|2020-01-13|  928425.00|\n",
      "|  12020|152005|              Pregão|2020-04-01|  144839.84|\n",
      "| 792019|154050|Dispensa de Licit...|2019-10-31|    7631.36|\n",
      "| 652019|155008|Inexigibilidade d...|2019-12-30|  735471.60|\n",
      "| 102019|783602|    Tomada de Preços|2019-11-21|  869691.98|\n",
      "| 472019|153010|              Pregão|2019-12-26|   17000.00|\n",
      "|1542019|154421|Pregão - Registro...|2019-12-17|     847.68|\n",
      "|5092020|160173|Inexigibilidade d...|2020-01-01| 5000000.00|\n",
      "|  42019|154673|Pregão - Registro...|2020-02-01|  866417.10|\n",
      "|1192019|154045|              Pregão|2019-12-27| 1438835.96|\n",
      "+-------+------+--------------------+----------+-----------+\n",
      "only showing top 20 rows\n",
      "\n"
     ]
    }
   ],
   "source": [
    "spark.sql(\n",
    "    \"\"\"\n",
    "        SELECT * FROM aula_fd.compra_publica;\n",
    "    \"\"\"\n",
    ").show()"
   ]
  },
  {
   "cell_type": "markdown",
   "id": "af4847e3-84bb-4308-afe9-bfd90dd428f6",
   "metadata": {},
   "source": [
    "<h4 style=\"color:yellow\">Exercício 02: gravação de dataframe outros formatos</h4>"
   ]
  },
  {
   "cell_type": "markdown",
   "id": "d6b0c4de-ee57-4a28-abff-0667de85c7e1",
   "metadata": {},
   "source": [
    "**03 - gravar os dataframes carregados no exercício 02 em tabelas JDBC e em arquivos nos formatos**\n",
    "- json **(local de gravação: /home/aluno/_spark/dados/exercicios/aula_fd/<nome_arquivo>.json)**\n",
    "- orc **(local de gravação: /home/aluno/_spark/dados/exercicios/aula_fd/<nome_arquivo>.orc)**\n",
    "- parquet **(local de gravação: /home/aluno/_spark/dados/exercicios/aula_fd/<nome_arquivo>.parquet)**\n",
    "</br>"
   ]
  },
  {
   "cell_type": "markdown",
   "id": "3c507225-4b3e-4af7-880e-fa46e2fac928",
   "metadata": {},
   "source": [
    "#### JDBC"
   ]
  },
  {
   "cell_type": "code",
   "execution_count": 61,
   "id": "76dcea47-a8d6-40b1-a597-f794346ebf59",
   "metadata": {},
   "outputs": [
    {
     "name": "stderr",
     "output_type": "stream",
     "text": [
      "                                                                                \r"
     ]
    }
   ],
   "source": [
    "itemCompraManualDF.write\\\n",
    "                    .format(\"jdbc\")\\\n",
    "                    .mode(\"append\")\\\n",
    "                    .option(\"url\", \"jdbc:postgresql://127.0.0.1:5432/aula_fd\")\\\n",
    "                    .option(\"driver\", \"org.postgresql.Driver\")\\\n",
    "                    .option(\"dbtable\", \"item_compra\")\\\n",
    "                    .option(\"user\", \"aluno\")\\\n",
    "                    .option(\"password\", \"123\")\\\n",
    "                    .save()"
   ]
  },
  {
   "cell_type": "code",
   "execution_count": 62,
   "id": "917cb00d-870e-41fe-af41-11347d1f990a",
   "metadata": {},
   "outputs": [],
   "source": [
    "termosAditivosManualDF.write\\\n",
    "                    .format(\"jdbc\")\\\n",
    "                    .mode(\"append\")\\\n",
    "                    .option(\"url\", \"jdbc:postgresql://127.0.0.1:5432/aula_fd\")\\\n",
    "                    .option(\"driver\", \"org.postgresql.Driver\")\\\n",
    "                    .option(\"dbtable\", \"termo_aditivo\")\\\n",
    "                    .option(\"user\", \"aluno\")\\\n",
    "                    .option(\"password\", \"123\")\\\n",
    "                    .save()"
   ]
  },
  {
   "cell_type": "markdown",
   "id": "4a2a053a-30e1-4edc-aeba-126a0754cc4f",
   "metadata": {},
   "source": [
    "#### JSON"
   ]
  },
  {
   "cell_type": "code",
   "execution_count": 63,
   "id": "1104f8be-4ff1-40c4-8ea4-9d17099a37ac",
   "metadata": {},
   "outputs": [
    {
     "name": "stderr",
     "output_type": "stream",
     "text": [
      "                                                                                \r"
     ]
    }
   ],
   "source": [
    "itemCompraManualDF.write\\\n",
    "                        .mode(\"append\")\\\n",
    "                        .option(\"header\", True)\\\n",
    "                        .option(\"sep\", \"\\t\")\\\n",
    "                        .json(\"/home/aluno/_spark/dados/exercicios/aula_fd/.json\")"
   ]
  },
  {
   "cell_type": "code",
   "execution_count": 65,
   "id": "2bb59cd5-a3a0-431e-8d05-b8a2f5e532a9",
   "metadata": {},
   "outputs": [],
   "source": [
    "termosAditivosManualDF.write\\\n",
    "                        .mode(\"append\")\\\n",
    "                        .option(\"header\", True)\\\n",
    "                        .option(\"sep\", \"\\t\")\\\n",
    "                        .json(\"/home/aluno/_spark/dados/exercicios/aula_fd/.json\")"
   ]
  },
  {
   "cell_type": "markdown",
   "id": "de158c15-13e8-4da2-989e-07bae1550529",
   "metadata": {},
   "source": [
    "#### ORC"
   ]
  },
  {
   "cell_type": "code",
   "execution_count": 67,
   "id": "0aa13405-218e-4de0-aef9-69b2a4f6332a",
   "metadata": {},
   "outputs": [
    {
     "name": "stderr",
     "output_type": "stream",
     "text": [
      "                                                                                \r"
     ]
    }
   ],
   "source": [
    "itemCompraManualDF.write\\\n",
    "                        .mode(\"append\")\\\n",
    "                        .option(\"header\", True)\\\n",
    "                        .option(\"sep\", \"\\t\")\\\n",
    "                        .orc(\"/home/aluno/_spark/dados/exercicios/aula_fd/.orc\")"
   ]
  },
  {
   "cell_type": "code",
   "execution_count": 68,
   "id": "a905a425-a037-4d62-ba90-1476d64805cf",
   "metadata": {},
   "outputs": [],
   "source": [
    "termosAditivosManualDF.write\\\n",
    "                        .mode(\"append\")\\\n",
    "                        .option(\"header\", True)\\\n",
    "                        .option(\"sep\", \"\\t\")\\\n",
    "                        .orc(\"/home/aluno/_spark/dados/exercicios/aula_fd/.orc\")"
   ]
  },
  {
   "cell_type": "markdown",
   "id": "bef79cd2-fd81-41f1-bb6b-0ef7339edd02",
   "metadata": {},
   "source": [
    "#### PARQUET"
   ]
  },
  {
   "cell_type": "code",
   "execution_count": 69,
   "id": "43cbe8e8-7d14-423e-963a-48caa86e2317",
   "metadata": {},
   "outputs": [
    {
     "name": "stderr",
     "output_type": "stream",
     "text": [
      "                                                                                \r"
     ]
    }
   ],
   "source": [
    "itemCompraManualDF.write\\\n",
    "                        .mode(\"append\")\\\n",
    "                        .option(\"header\", True)\\\n",
    "                        .option(\"sep\", \"\\t\")\\\n",
    "                        .parquet(\"/home/aluno/_spark/dados/exercicios/aula_fd/.parquet\")"
   ]
  },
  {
   "cell_type": "code",
   "execution_count": 70,
   "id": "c1fe5fcc-b46c-44d9-870a-c6b54cbf46a1",
   "metadata": {},
   "outputs": [],
   "source": [
    "termosAditivosManualDF.write\\\n",
    "                        .mode(\"append\")\\\n",
    "                        .option(\"header\", True)\\\n",
    "                        .option(\"sep\", \"\\t\")\\\n",
    "                        .parquet(\"/home/aluno/_spark/dados/exercicios/aula_fd/.parquet\")"
   ]
  },
  {
   "cell_type": "markdown",
   "id": "4de2315c-6392-4b0e-8f01-70f1ae580168",
   "metadata": {},
   "source": [
    "**04 - carregar arquivos gravados no exercício 03 em dataframes e observar as diferença em carregar os \n",
    "arquivos e carregar arquivo no formato CSV**"
   ]
  },
  {
   "cell_type": "markdown",
   "id": "1c25eec9-b177-4265-a9fa-9f480586a1ae",
   "metadata": {},
   "source": [
    "#### ItemCompra"
   ]
  },
  {
   "cell_type": "code",
   "execution_count": 87,
   "id": "e6e3d9d9-e21b-4f53-a1cc-d6860e92fae9",
   "metadata": {},
   "outputs": [
    {
     "name": "stdout",
     "output_type": "stream",
     "text": [
      "+-------+--------------------+------+--------------------+-------+-------------+--------------------+--------------------+--------+----------+\n",
      "|cod_org|              nm_org|cod_ug|               nm_ug|nr_cont|cod_item_comp|      desc_item_comp|desc_compl_item_comp|qtd_item|   vl_item|\n",
      "+-------+--------------------+------+--------------------+-------+-------------+--------------------+--------------------+--------+----------+\n",
      "|  52121| Comando do Exército|160100|COMANDO DA 3A BDA...|  12018|         null|ANALISE CLINICA, ...|PRESTAÇÃO DE SERV...|       1| 120000,00|\n",
      "|  30108|Departamento de P...|200366|DELEGACIA DE POLI...|  12019|            0|Informação proteg...|Informação proteg...|     600|      6,00|\n",
      "|  30108|Departamento de P...|200366|DELEGACIA DE POLI...|  12019|            0|Informação proteg...|Informação proteg...|      30| 153510,00|\n",
      "|  30108|Departamento de P...|200366|DELEGACIA DE POLI...|  12019|            0|Informação proteg...|Informação proteg...|     600| 596118,00|\n",
      "|  30108|Departamento de P...|200366|DELEGACIA DE POLI...|  12019|            0|Informação proteg...|Informação proteg...|     150|      1,50|\n",
      "|  25000|Ministério da Eco...|170018|SUPERITENDENCIA R...|  12019|         null|EQUIPAMENTO / COM...|MÓDULO MCB-H DEST...|       1| 365000,00|\n",
      "|  26238|Universidade Fede...|153285|FACULDADE DE EDUC...|  12019|         null|ADMINISTRACAO / E...|CONTRATAÇÃO DA FU...|       1| 348486,40|\n",
      "|  26238|Universidade Fede...|153275|ESCOLA DE ARQUITE...|  12019|         null|ADMINISTRACAO / E...|ADMINISTRAÇÃO , E...|       1| 277109,20|\n",
      "|  26238|Universidade Fede...|153275|ESCOLA DE ARQUITE...|  12019|         null|ADMINISTRACAO / E...|ADMINISTRAÇÃO , E...|       1|3695890,70|\n",
      "|  52121| Comando do Exército|160155|COMANDO DE FRONTE...|  12019|         null|MANUTENCAO / REFO...|OBRA DE ADEQUAÇÃO...|       1| 643051,70|\n",
      "|  25000|Ministério da Eco...|170247|INSPETORIA DA RFB...|  12019|         null|COMUNICACAO POR C...|COMUNICAÇÃO POR C...|       1|   1875,00|\n",
      "|  26431|Instituto Federal...|154704|INST. FED. PIAUI/...|  12019|         null|              FEIJÃO|FEIJÃO, TIPO 1, T...|      50|    583,50|\n",
      "|  26431|Instituto Federal...|154704|INST. FED. PIAUI/...|  12019|         null|  VERDURA IN NATURA*|VERDURA IN NATURA...|      60|    760,20|\n",
      "|  26431|Instituto Federal...|154704|INST. FED. PIAUI/...|  12019|         null|   LEGUME IN NATURA*|LEGUME IN NATURA*...|      30|    117,90|\n",
      "|  26431|Instituto Federal...|154704|INST. FED. PIAUI/...|  12019|         null|   LEGUME IN NATURA*|LEGUME IN NATURA*...|     300|   1950,00|\n",
      "|  26431|Instituto Federal...|154704|INST. FED. PIAUI/...|  12019|         null|  VERDURA IN NATURA*|VERDURA IN NATURA...|      20|    240,00|\n",
      "|  26431|Instituto Federal...|154704|INST. FED. PIAUI/...|  12019|         null|     FRUTA IN NATURA|FRUTA IN NATURA, ...|     834|   1726,30|\n",
      "|  26431|Instituto Federal...|154704|INST. FED. PIAUI/...|  12019|         null|              FEIJÃO|FEIJÃO, TIPO CORD...|      67|    647,80|\n",
      "|  26431|Instituto Federal...|154704|INST. FED. PIAUI/...|  12019|         null|     FRUTA IN NATURA|FRUTA IN NATURA, ...|     300|   2079,00|\n",
      "|  26431|Instituto Federal...|154704|INST. FED. PIAUI/...|  12019|         null|MILHO VERDE IN - ...|MILHO VERDE IN - ...|     375|    412,50|\n",
      "+-------+--------------------+------+--------------------+-------+-------------+--------------------+--------------------+--------+----------+\n",
      "only showing top 20 rows\n",
      "\n"
     ]
    }
   ],
   "source": [
    "itemCompraManualParquetDF = spark.read\\\n",
    "                          .parquet(\"/home/aluno/_spark/dados/exercicios/aula_fd/.parquet/\")\n",
    "itemCompraManualParquetDF.show()"
   ]
  },
  {
   "cell_type": "code",
   "execution_count": 83,
   "id": "b2bcd61d-cf9a-4853-889e-74164bf050a3",
   "metadata": {},
   "outputs": [],
   "source": [
    "itemCompraManualOrcDF = spark.read\\\n",
    "                          .orc(\"/home/aluno/_spark/dados/exercicios/aula_fd/.orc/\")"
   ]
  },
  {
   "cell_type": "code",
   "execution_count": 84,
   "id": "f2eae4c9-f094-4092-afc9-dfec13c0f3e3",
   "metadata": {},
   "outputs": [
    {
     "name": "stderr",
     "output_type": "stream",
     "text": [
      "                                                                                \r"
     ]
    }
   ],
   "source": [
    "itemCompraManualJsonDF = spark.read\\\n",
    "                          .json(\"/home/aluno/_spark/dados/exercicios/aula_fd/.json/\")"
   ]
  },
  {
   "cell_type": "code",
   "execution_count": 86,
   "id": "41ef9485-d070-4e72-a2b2-82d62b12aac4",
   "metadata": {},
   "outputs": [
    {
     "ename": "AttributeError",
     "evalue": "'DataFrameReader' object has no attribute 'mode'",
     "output_type": "error",
     "traceback": [
      "\u001b[0;31m---------------------------------------------------------------------------\u001b[0m",
      "\u001b[0;31mAttributeError\u001b[0m                            Traceback (most recent call last)",
      "Input \u001b[0;32mIn [86]\u001b[0m, in \u001b[0;36m<cell line: 1>\u001b[0;34m()\u001b[0m\n\u001b[0;32m----> 1\u001b[0m itemCompraManualJDBCDF \u001b[38;5;241m=\u001b[39m \u001b[43mspark\u001b[49m\u001b[38;5;241;43m.\u001b[39;49m\u001b[43mread\u001b[49m\u001b[43m\\\u001b[49m\n\u001b[1;32m      2\u001b[0m \u001b[43m                        \u001b[49m\u001b[38;5;241;43m.\u001b[39;49m\u001b[43mformat\u001b[49m\u001b[43m(\u001b[49m\u001b[38;5;124;43m\"\u001b[39;49m\u001b[38;5;124;43mjdbc\u001b[39;49m\u001b[38;5;124;43m\"\u001b[39;49m\u001b[43m)\u001b[49m\u001b[43m\\\u001b[49m\n\u001b[1;32m      3\u001b[0m \u001b[43m                        \u001b[49m\u001b[38;5;241;43m.\u001b[39;49m\u001b[43mmode\u001b[49m(\u001b[38;5;124m\"\u001b[39m\u001b[38;5;124mappend\u001b[39m\u001b[38;5;124m\"\u001b[39m)\\\n\u001b[1;32m      4\u001b[0m                         \u001b[38;5;241m.\u001b[39moption(\u001b[38;5;124m\"\u001b[39m\u001b[38;5;124murl\u001b[39m\u001b[38;5;124m\"\u001b[39m, \u001b[38;5;124m\"\u001b[39m\u001b[38;5;124mjdbc:postgresql://127.0.0.1:5432/aula_fd\u001b[39m\u001b[38;5;124m\"\u001b[39m)\\\n\u001b[1;32m      5\u001b[0m                         \u001b[38;5;241m.\u001b[39moption(\u001b[38;5;124m\"\u001b[39m\u001b[38;5;124mdriver\u001b[39m\u001b[38;5;124m\"\u001b[39m, \u001b[38;5;124m\"\u001b[39m\u001b[38;5;124morg.postgresql.Driver\u001b[39m\u001b[38;5;124m\"\u001b[39m)\\\n\u001b[1;32m      6\u001b[0m                         \u001b[38;5;241m.\u001b[39moption(\u001b[38;5;124m\"\u001b[39m\u001b[38;5;124mdbtable\u001b[39m\u001b[38;5;124m\"\u001b[39m, \u001b[38;5;124m\"\u001b[39m\u001b[38;5;124mitem_compra\u001b[39m\u001b[38;5;124m\"\u001b[39m)\\\n\u001b[1;32m      7\u001b[0m                         \u001b[38;5;241m.\u001b[39moption(\u001b[38;5;124m\"\u001b[39m\u001b[38;5;124muser\u001b[39m\u001b[38;5;124m\"\u001b[39m, \u001b[38;5;124m\"\u001b[39m\u001b[38;5;124maluno\u001b[39m\u001b[38;5;124m\"\u001b[39m)\\\n\u001b[1;32m      8\u001b[0m                         \u001b[38;5;241m.\u001b[39moption(\u001b[38;5;124m\"\u001b[39m\u001b[38;5;124mpassword\u001b[39m\u001b[38;5;124m\"\u001b[39m, \u001b[38;5;124m\"\u001b[39m\u001b[38;5;124m123\u001b[39m\u001b[38;5;124m\"\u001b[39m)\\\n\u001b[1;32m      9\u001b[0m                         \u001b[38;5;241m.\u001b[39msave()\n",
      "\u001b[0;31mAttributeError\u001b[0m: 'DataFrameReader' object has no attribute 'mode'"
     ]
    }
   ],
   "source": [
    "itemCompraManualJDBCDF = spark.read\\\n",
    "                        .format(\"jdbc\")\\\n",
    "                        .mode(\"append\")\\\n",
    "                        .option(\"url\", \"jdbc:postgresql://127.0.0.1:5432/aula_fd\")\\\n",
    "                        .option(\"driver\", \"org.postgresql.Driver\")\\\n",
    "                        .option(\"dbtable\", \"item_compra\")\\\n",
    "                        .option(\"user\", \"aluno\")\\\n",
    "                        .option(\"password\", \"123\")\\\n",
    "                        .save()"
   ]
  },
  {
   "cell_type": "markdown",
   "id": "351b6e4f-3180-4e39-a2af-96c2d4e797a1",
   "metadata": {},
   "source": [
    "#### Termo Aditivo"
   ]
  },
  {
   "cell_type": "code",
   "execution_count": 88,
   "id": "cf683f0f-384a-48f8-be4a-6e515c869bd7",
   "metadata": {},
   "outputs": [
    {
     "name": "stdout",
     "output_type": "stream",
     "text": [
      "+-------+--------------------+------+--------------------+-------+-------------+--------------------+--------------------+--------+----------+\n",
      "|cod_org|              nm_org|cod_ug|               nm_ug|nr_cont|cod_item_comp|      desc_item_comp|desc_compl_item_comp|qtd_item|   vl_item|\n",
      "+-------+--------------------+------+--------------------+-------+-------------+--------------------+--------------------+--------+----------+\n",
      "|  52121| Comando do Exército|160100|COMANDO DA 3A BDA...|  12018|         null|ANALISE CLINICA, ...|PRESTAÇÃO DE SERV...|       1| 120000,00|\n",
      "|  30108|Departamento de P...|200366|DELEGACIA DE POLI...|  12019|            0|Informação proteg...|Informação proteg...|     600|      6,00|\n",
      "|  30108|Departamento de P...|200366|DELEGACIA DE POLI...|  12019|            0|Informação proteg...|Informação proteg...|      30| 153510,00|\n",
      "|  30108|Departamento de P...|200366|DELEGACIA DE POLI...|  12019|            0|Informação proteg...|Informação proteg...|     600| 596118,00|\n",
      "|  30108|Departamento de P...|200366|DELEGACIA DE POLI...|  12019|            0|Informação proteg...|Informação proteg...|     150|      1,50|\n",
      "|  25000|Ministério da Eco...|170018|SUPERITENDENCIA R...|  12019|         null|EQUIPAMENTO / COM...|MÓDULO MCB-H DEST...|       1| 365000,00|\n",
      "|  26238|Universidade Fede...|153285|FACULDADE DE EDUC...|  12019|         null|ADMINISTRACAO / E...|CONTRATAÇÃO DA FU...|       1| 348486,40|\n",
      "|  26238|Universidade Fede...|153275|ESCOLA DE ARQUITE...|  12019|         null|ADMINISTRACAO / E...|ADMINISTRAÇÃO , E...|       1| 277109,20|\n",
      "|  26238|Universidade Fede...|153275|ESCOLA DE ARQUITE...|  12019|         null|ADMINISTRACAO / E...|ADMINISTRAÇÃO , E...|       1|3695890,70|\n",
      "|  52121| Comando do Exército|160155|COMANDO DE FRONTE...|  12019|         null|MANUTENCAO / REFO...|OBRA DE ADEQUAÇÃO...|       1| 643051,70|\n",
      "|  25000|Ministério da Eco...|170247|INSPETORIA DA RFB...|  12019|         null|COMUNICACAO POR C...|COMUNICAÇÃO POR C...|       1|   1875,00|\n",
      "|  26431|Instituto Federal...|154704|INST. FED. PIAUI/...|  12019|         null|              FEIJÃO|FEIJÃO, TIPO 1, T...|      50|    583,50|\n",
      "|  26431|Instituto Federal...|154704|INST. FED. PIAUI/...|  12019|         null|  VERDURA IN NATURA*|VERDURA IN NATURA...|      60|    760,20|\n",
      "|  26431|Instituto Federal...|154704|INST. FED. PIAUI/...|  12019|         null|   LEGUME IN NATURA*|LEGUME IN NATURA*...|      30|    117,90|\n",
      "|  26431|Instituto Federal...|154704|INST. FED. PIAUI/...|  12019|         null|   LEGUME IN NATURA*|LEGUME IN NATURA*...|     300|   1950,00|\n",
      "|  26431|Instituto Federal...|154704|INST. FED. PIAUI/...|  12019|         null|  VERDURA IN NATURA*|VERDURA IN NATURA...|      20|    240,00|\n",
      "|  26431|Instituto Federal...|154704|INST. FED. PIAUI/...|  12019|         null|     FRUTA IN NATURA|FRUTA IN NATURA, ...|     834|   1726,30|\n",
      "|  26431|Instituto Federal...|154704|INST. FED. PIAUI/...|  12019|         null|              FEIJÃO|FEIJÃO, TIPO CORD...|      67|    647,80|\n",
      "|  26431|Instituto Federal...|154704|INST. FED. PIAUI/...|  12019|         null|     FRUTA IN NATURA|FRUTA IN NATURA, ...|     300|   2079,00|\n",
      "|  26431|Instituto Federal...|154704|INST. FED. PIAUI/...|  12019|         null|MILHO VERDE IN - ...|MILHO VERDE IN - ...|     375|    412,50|\n",
      "+-------+--------------------+------+--------------------+-------+-------------+--------------------+--------------------+--------+----------+\n",
      "only showing top 20 rows\n",
      "\n"
     ]
    }
   ],
   "source": [
    "termosAditivosManualParquetDF = spark.read\\\n",
    "                          .parquet(\"/home/aluno/_spark/dados/exercicios/aula_fd/.parquet/\")\n",
    "termosAditivosManualParquetDF.show()"
   ]
  },
  {
   "cell_type": "code",
   "execution_count": null,
   "id": "fb218890-85eb-4eb6-a6ac-add489261a7d",
   "metadata": {},
   "outputs": [],
   "source": []
  }
 ],
 "metadata": {
  "kernelspec": {
   "display_name": "Python 3 (ipykernel)",
   "language": "python",
   "name": "python3"
  },
  "language_info": {
   "codemirror_mode": {
    "name": "ipython",
    "version": 3
   },
   "file_extension": ".py",
   "mimetype": "text/x-python",
   "name": "python",
   "nbconvert_exporter": "python",
   "pygments_lexer": "ipython3",
   "version": "3.8.13"
  },
  "toc-autonumbering": false
 },
 "nbformat": 4,
 "nbformat_minor": 5
}
