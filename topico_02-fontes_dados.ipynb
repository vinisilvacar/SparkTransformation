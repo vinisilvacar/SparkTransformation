{
 "cells": [
  {
   "cell_type": "markdown",
   "id": "c153b765-1eae-4378-802e-3b38bfdd505f",
   "metadata": {
    "tags": []
   },
   "source": [
    "# Importações básicas"
   ]
  },
  {
   "cell_type": "code",
   "execution_count": 1,
   "id": "52fb6b0e-18f4-4ea4-a795-3a4b032fc8cb",
   "metadata": {},
   "outputs": [
    {
     "data": {
      "text/html": [
       "<style>pre { white-space: pre !important; }</style>"
      ],
      "text/plain": [
       "<IPython.core.display.HTML object>"
      ]
     },
     "metadata": {},
     "output_type": "display_data"
    }
   ],
   "source": [
    "from pyspark.sql import SparkSession\n",
    "import pyspark.sql.functions as F\n",
    "\n",
    "\n",
    "from IPython.core.display import HTML\n",
    "display(HTML(\"<style>pre { white-space: pre !important; }</style>\"))"
   ]
  },
  {
   "cell_type": "markdown",
   "id": "87b0d582-ab55-4f5d-8a00-41ef2d63f3d2",
   "metadata": {},
   "source": [
    "# Iniciar a sessão Spark"
   ]
  },
  {
   "cell_type": "code",
   "execution_count": 2,
   "id": "67d43286-7e9d-4e68-bf13-4cd7409c3c1e",
   "metadata": {
    "tags": []
   },
   "outputs": [
    {
     "name": "stdout",
     "output_type": "stream",
     "text": [
      ":: loading settings :: url = jar:file:/home/aluno/.local/lib/python3.8/site-packages/pyspark/jars/ivy-2.5.0.jar!/org/apache/ivy/core/settings/ivysettings.xml\n"
     ]
    },
    {
     "name": "stderr",
     "output_type": "stream",
     "text": [
      "Ivy Default Cache set to: /home/aluno/.ivy2/cache\n",
      "The jars for the packages stored in: /home/aluno/.ivy2/jars\n",
      "org.postgresql#postgresql added as a dependency\n",
      ":: resolving dependencies :: org.apache.spark#spark-submit-parent-1fbb260d-f6c3-4e6d-8a1d-8f39d36baa67;1.0\n",
      "\tconfs: [default]\n",
      "\tfound org.postgresql#postgresql;42.3.4 in central\n",
      "\tfound org.checkerframework#checker-qual;3.5.0 in central\n",
      ":: resolution report :: resolve 241ms :: artifacts dl 13ms\n",
      "\t:: modules in use:\n",
      "\torg.checkerframework#checker-qual;3.5.0 from central in [default]\n",
      "\torg.postgresql#postgresql;42.3.4 from central in [default]\n",
      "\t---------------------------------------------------------------------\n",
      "\t|                  |            modules            ||   artifacts   |\n",
      "\t|       conf       | number| search|dwnlded|evicted|| number|dwnlded|\n",
      "\t---------------------------------------------------------------------\n",
      "\t|      default     |   2   |   0   |   0   |   0   ||   2   |   0   |\n",
      "\t---------------------------------------------------------------------\n",
      ":: retrieving :: org.apache.spark#spark-submit-parent-1fbb260d-f6c3-4e6d-8a1d-8f39d36baa67\n",
      "\tconfs: [default]\n",
      "\t0 artifacts copied, 2 already retrieved (0kB/14ms)\n",
      "22/09/17 00:07:17 WARN NativeCodeLoader: Unable to load native-hadoop library for your platform... using builtin-java classes where applicable\n",
      "Using Spark's default log4j profile: org/apache/spark/log4j-defaults.properties\n",
      "Setting default log level to \"WARN\".\n",
      "To adjust logging level use sc.setLogLevel(newLevel). For SparkR, use setLogLevel(newLevel).\n",
      "22/09/17 00:07:18 WARN Utils: Service 'SparkUI' could not bind on port 4040. Attempting port 4041.\n"
     ]
    }
   ],
   "source": [
    "spark = SparkSession.builder\\\n",
    "                    .config(\"spark.master\",\"local[*]\")\\\n",
    "                    .config(\"spark.jars.packages\", \"org.postgresql:postgresql:42.3.4\")\\\n",
    "                    .appName(\"Tranformações - Aula x\")\\\n",
    "                    .getOrCreate()\n",
    "\n",
    "spark.sparkContext.setLogLevel(\"ERROR\")"
   ]
  },
  {
   "cell_type": "markdown",
   "id": "fb40cbfc-33f9-419b-900e-efe22ceba6f0",
   "metadata": {},
   "source": [
    "# Módulo(s) de Obtenção de Dados"
   ]
  },
  {
   "cell_type": "markdown",
   "id": "80c04971-33cb-4279-b5cf-0a8d272590c9",
   "metadata": {},
   "source": [
    "## Carga de Arquivos - Compras Públicas"
   ]
  },
  {
   "cell_type": "markdown",
   "id": "858a0226-bd35-433e-bca9-490047b7d1e4",
   "metadata": {},
   "source": [
    "- utilização de esquema **INFERIDO**"
   ]
  },
  {
   "cell_type": "code",
   "execution_count": 4,
   "id": "b161f155-ccb8-4ef7-af98-5869b8237f9c",
   "metadata": {},
   "outputs": [
    {
     "name": "stderr",
     "output_type": "stream",
     "text": [
      "                                                                                \r"
     ]
    }
   ],
   "source": [
    "compraInferSchemaDF = spark.read\\\n",
    "                            .format(\"csv\")\\\n",
    "                            .option(\"sep\", \";\")\\\n",
    "                            .option(\"header\",True)\\\n",
    "                            .option(\"charset\",\"iso-8859-1\")\\\n",
    "                            .option(\"inferSchema\",True)\\\n",
    "                            .load(\"/home/aluno/_spark/dados/originais/compras_publicas_federal/compras\")\n",
    "                            #.option(\"dateFormat\", \"dd/MM/yyyy\")\\ ## Esse não funciona no InferSchema\n",
    "                           "
   ]
  },
  {
   "cell_type": "code",
   "execution_count": 5,
   "id": "fdc6e7ab-8d68-439f-87cc-858761496fcd",
   "metadata": {
    "tags": []
   },
   "outputs": [
    {
     "name": "stdout",
     "output_type": "stream",
     "text": [
      "+------------------+--------------------+--------------------+--------------------+--------------------+---------------------+--------------------+------------+--------------------+---------+--------------------+------------------------+-------------------+--------------------+-----------------+---------------+--------------------+--------------------+------------------+----------------+-------------------+--------------------+----------------------------------+---------------------------+\n",
      "|Número do Contrato|              Objeto|    Fundamento Legal|   Modalidade Compra|   Situação Contrato|Código Órgão Superior| Nome Órgão Superior|Código Órgão|          Nome Órgão|Código UG|             Nome UG|Data Assinatura Contrato|Data Publicação DOU|Data Início Vigência|Data Fim Vigência|CNPJ Contratado|     Nome Contratado|Valor Inicial Compra|Valor Final Compra|Número Licitação|Código UG Licitação|   Nome UG Licitação|Código Modalidade Compra Licitação|Modalidade Compra Licitação|\n",
      "+------------------+--------------------+--------------------+--------------------+--------------------+---------------------+--------------------+------------+--------------------+---------+--------------------+------------------------+-------------------+--------------------+-----------------+---------------+--------------------+--------------------+------------------+----------------+-------------------+--------------------+----------------------------------+---------------------------+\n",
      "|             92019|Objeto: Aquisição...|Fundamento Legal:...|Dispensa de Licit...|           Publicado|                26000|Ministério da Edu...|       26429|Instituto Federal...|   158643|INST.FED.DE GOIAS...|              27/12/2019|         23/01/2020|          27/12/2019|       27/12/2020| 32415936000170|ASSOCIACAO DE PRO...|         230559,6000|       230559,6000|           52019|             158643|INST.FED.DE GOIAS...|                                 6|       Dispensa de Licit...|\n",
      "|             12020|Objeto: Contrataç...|Fundamento Legal:...|Pregão - Registro...|           Publicado|                52000|Ministério da Defesa|       52121| Comando do Exército|   160224|PARQUE REGIONAL D...|              07/01/2020|         10/01/2020|          07/01/2020|       07/01/2021| 09323193000196|JC LAVANDERIA IND...|           6000,0000|         6000,0000|          192019|             160223|HOSPITAL GERAL DE...|                               -99|       Pregão - Registro...|\n",
      "|             22020|Objeto: Serviços ...|Fundamento Legal:...|              Pregão|           Publicado|                26000|Ministério da Edu...|       26439|Instituto Federal...|   158526|IFSP - CAMPUS ITA...|              08/01/2020|         28/01/2020|          08/01/2020|       07/04/2020| 00014776000160|TRINIVOLT COMERCI...|          17000,0000|        17000,0000|        65262019|             158526|IFSP - CAMPUS ITA...|                                 5|                     Pregão|\n",
      "|           5012020|Objeto: Contrataç...|Fundamento Legal:...|Inexigibilidade d...|           Publicado|                52000|Ministério da Defesa|       52121| Comando do Exército|   160173|31º BATALHAO DE I...|              30/12/2019|         21/01/2020|          01/01/2020|       31/12/2020| 05238398000201|NORDESTE SERVICOS...|         200000,0000|       400000,0000|          232019|             160173|31º BATALHAO DE I...|                                 7|       Inexigibilidade d...|\n",
      "|            512020|Objeto: Prestação...|Fundamento Legal:...|              Pregão|           Publicado|                39000|Ministério da Inf...|       39252|Departamento Naci...|   393015|SUPERINTENDENCIA ...|              27/01/2020|         29/01/2020|          03/02/2020|       03/02/2021| 13500936000123|SERVCOM-BA SERVIC...|         416143,9100|       416143,9100|         3642019|             393015|SUPERINTENDENCIA ...|                                 5|                     Pregão|\n",
      "|             52019|Objeto: Contrataç...|Fundamento Legal:...|    Tomada de Preços|Rescindido - Publ...|                53000|Ministério do Des...|       22204|Departamento Naci...|   193001|DNOCS CEST/PI-TER...|              23/01/2020|         24/01/2020|          23/01/2020|       23/05/2020| 02528908000106|CONSTRUTORA SANTA...|         487018,6800|       487018,6800|           22019|             193001|DNOCS CEST/PI-TER...|                                 2|           Tomada de Preços|\n",
      "|            202019|Objeto: Aquisição...|Fundamento Legal:...|Dispensa de Licit...|           Publicado|                24000|Ministério da Ciê...|       24000|Ministério da Ciê...|   240105|INSTIT.NACIONAL D...|              29/11/2019|         24/01/2020|          29/11/2019|       28/11/2020| 05914165000192|CARBOXI - INDUSTR...|         119580,0000|       119580,0000|           72019|             240105|INSTIT.NACIONAL D...|                                 6|       Dispensa de Licit...|\n",
      "|            362019|Objeto: Contrataç...|Fundamento Legal:...|              Pregão|           Publicado|                25000|Ministério da Eco...|       30204|Instituto Naciona...|   183038|INSTITUTO NACIONA...|              30/12/2019|         10/01/2020|          30/12/2019|       30/06/2022| 58619404000814|SEAL TELECOM COME...|        6043946,0500|      6043946,0500|          182019|             183038|INSTITUTO NACIONA...|                                 5|                     Pregão|\n",
      "|             72019|Objeto: Contrataç...|Fundamento Legal:...|Pregão - Registro...|           Publicado|                52000|Ministério da Defesa|       52121| Comando do Exército|   160120|4. DEPOSITO DE SU...|              11/12/2019|         08/01/2020|          11/12/2019|       11/12/2020| 12591441000194|LAVANDERIA MORRO ...|          29463,0000|        29463,0000|           52019|             160116|17º BATALHAO LOGI...|                               -99|       Pregão - Registro...|\n",
      "|             12020|Objeto: Aquisição...|Fundamento Legal:...|Pregão - Registro...|           Publicado|                26000|Ministério da Edu...|       26443|Empresa Brasileir...|   155008|HOSPITAL UNIVERSI...|              14/01/2020|         15/01/2020|          14/01/2020|       14/01/2021| 58752460000407|SHIMADZU DO BRASI...|         560810,0000|       560810,0000|          922019|             155008|HOSPITAL UNIVERSI...|                               -99|       Pregão - Registro...|\n",
      "|             12020|Objeto: Execução ...|Fundamento Legal:...|Dispensa de Licit...|           Publicado|                26000|Ministério da Edu...|       26350|Fundação Universi...|   154502|FUNDACAO UNIVERSI...|              13/01/2020|         15/01/2020|          13/01/2020|       13/07/2021| 10482039000146|FUNDACAO DE APOIO...|         928425,0000|       928425,0000|          252019|             154502|FUNDACAO UNIVERSI...|                                 6|       Dispensa de Licit...|\n",
      "|             12020|Objeto: Aquisição...|Fundamento Legal:...|              Pregão|           Publicado|                26000|Ministério da Edu...|       26000|Ministério da Edu...|   152005|INSTITUTO NACIONA...|              06/01/2020|         28/01/2020|          01/04/2020|       16/05/2020| 12467682000126|MAXIMUM COMERCIAL...|         144839,8400|       144839,8400|          392019|             152005|INSTITUTO NACIONA...|                                 5|                     Pregão|\n",
      "|            792019|Objeto: Contrataç...|Fundamento Legal:...|Dispensa de Licit...|           Publicado|                26000|Ministério da Edu...|       26281|Fundação Universi...|   154050|FUNDACAO UNIVERSI...|              31/10/2019|         20/01/2020|          31/10/2019|       30/10/2020| 16772623000112|EDSON BATISTA SAN...|           7631,3600|         7631,3600|       900102019|             154050|FUNDACAO UNIVERSI...|                                 6|       Dispensa de Licit...|\n",
      "|            652019|Objeto: Contrataç...|Fundamento Legal:...|Inexigibilidade d...|           Publicado|                26000|Ministério da Edu...|       26443|Empresa Brasileir...|   155008|HOSPITAL UNIVERSI...|              30/12/2019|         24/01/2020|          30/12/2019|       30/12/2021| 58295213000178|PHILIPS MEDICAL S...|         735471,6000|       735471,6000|          202019|             155008|HOSPITAL UNIVERSI...|                                 7|       Inexigibilidade d...|\n",
      "|            102019|Objeto: Contrataç...|Fundamento Legal:...|    Tomada de Preços|           Publicado|                52000|Ministério da Defesa|       52131|  Comando da Marinha|   783602|ESCOLA DE APREND....|              21/11/2019|         14/01/2020|          21/11/2019|       21/11/2020| 14868122000109| L&S ENGENHARIA LTDA|         869691,9800|       869691,9800|           22019|             783602|ESCOLA DE APREND....|                                 2|           Tomada de Preços|\n",
      "|            472019|Objeto: Contrataç...|Fundamento Legal:...|              Pregão|           Publicado|                26000|Ministério da Edu...|       26256|Centro Federal de...|   153010|CENTRO FED.DE EDU...|              26/12/2019|         27/01/2020|          26/12/2019|       26/12/2020| 61074175000138|MAPFRE SEGUROS GE...|          17000,0000|        17000,0000|          542019|             153010|CENTRO FED.DE EDU...|                                 5|                     Pregão|\n",
      "|           1542019|Objeto: Aquisição...|Fundamento Legal:...|Pregão - Registro...|           Publicado|                26000|Ministério da Edu...|       26230|Fundação Universi...|   154421|FUND. UNIVERSIDAD...|              17/12/2019|         09/01/2020|          17/12/2019|       17/12/2020| 30401291000190|IDALBY CRISTINE M...|            847,6800|          847,6800|          122019|             154421|FUND. UNIVERSIDAD...|                               -99|       Pregão - Registro...|\n",
      "|           5092020|Objeto: Contrataç...|Fundamento Legal:...|Inexigibilidade d...|           Publicado|                52000|Ministério da Defesa|       52121| Comando do Exército|   160173|31º BATALHAO DE I...|              31/12/2019|         21/01/2020|          01/01/2020|       31/12/2020| 08834137000153|HOSPITAL ANTONIO ...|        2500000,0000|      5000000,0000|          232019|             160173|31º BATALHAO DE I...|                                 7|       Inexigibilidade d...|\n",
      "|             42019|Objeto: Vigilânci...|Fundamento Legal:...|Pregão - Registro...|           Publicado|                26000|Ministério da Edu...|       26432|Instituto Federal...|   154673|INST. FED. DO PAR...|              09/12/2019|         13/01/2020|          01/02/2020|       31/07/2022| 03229363000191|BETRON TECNOLOGIA...|         866417,1000|       866417,1000|          122019|             158009|INST. FED. DO PAR...|                               -99|       Pregão - Registro...|\n",
      "|           1192019|Objeto: Prestação...|Fundamento Legal:...|              Pregão|           Publicado|                26000|Ministério da Edu...|       26276|Fundação Universi...|   154045|FUNDACAO UNIVERSI...|              27/12/2019|         08/01/2020|          27/12/2019|       26/12/2020| 10398803000280|RONDAI SEGURANCA ...|         915160,6800|      1438835,9600|          292019|             154045|FUNDACAO UNIVERSI...|                                 5|                     Pregão|\n",
      "+------------------+--------------------+--------------------+--------------------+--------------------+---------------------+--------------------+------------+--------------------+---------+--------------------+------------------------+-------------------+--------------------+-----------------+---------------+--------------------+--------------------+------------------+----------------+-------------------+--------------------+----------------------------------+---------------------------+\n",
      "only showing top 20 rows\n",
      "\n"
     ]
    }
   ],
   "source": [
    "compraInferSchemaDF.show()"
   ]
  },
  {
   "cell_type": "code",
   "execution_count": 6,
   "id": "0ec636b9-d579-4dec-9bfb-5d2cf588568f",
   "metadata": {
    "tags": []
   },
   "outputs": [
    {
     "name": "stdout",
     "output_type": "stream",
     "text": [
      "root\n",
      " |-- Número do Contrato: integer (nullable = true)\n",
      " |-- Objeto: string (nullable = true)\n",
      " |-- Fundamento Legal: string (nullable = true)\n",
      " |-- Modalidade Compra: string (nullable = true)\n",
      " |-- Situação Contrato: string (nullable = true)\n",
      " |-- Código Órgão Superior: integer (nullable = true)\n",
      " |-- Nome Órgão Superior: string (nullable = true)\n",
      " |-- Código Órgão: integer (nullable = true)\n",
      " |-- Nome Órgão: string (nullable = true)\n",
      " |-- Código UG: integer (nullable = true)\n",
      " |-- Nome UG: string (nullable = true)\n",
      " |-- Data Assinatura Contrato: string (nullable = true)\n",
      " |-- Data Publicação DOU: string (nullable = true)\n",
      " |-- Data Início Vigência: string (nullable = true)\n",
      " |-- Data Fim Vigência: string (nullable = true)\n",
      " |-- CNPJ Contratado: string (nullable = true)\n",
      " |-- Nome Contratado: string (nullable = true)\n",
      " |-- Valor Inicial Compra: string (nullable = true)\n",
      " |-- Valor Final Compra: string (nullable = true)\n",
      " |-- Número Licitação: integer (nullable = true)\n",
      " |-- Código UG Licitação: integer (nullable = true)\n",
      " |-- Nome UG Licitação: string (nullable = true)\n",
      " |-- Código Modalidade Compra Licitação: integer (nullable = true)\n",
      " |-- Modalidade Compra Licitação: string (nullable = true)\n",
      "\n"
     ]
    }
   ],
   "source": [
    "compraInferSchemaDF.printSchema()"
   ]
  },
  {
   "cell_type": "code",
   "execution_count": 7,
   "id": "7c48701d-c553-4ca8-8c9c-649082f69899",
   "metadata": {
    "tags": []
   },
   "outputs": [
    {
     "name": "stdout",
     "output_type": "stream",
     "text": [
      "+-------+--------------------+--------------------+--------------------+--------------------+-----------+\n",
      "|nr_cont|                 obj|          fund_legal|          modld_comp|          sit_contrt|cod_org_sup|\n",
      "+-------+--------------------+--------------------+--------------------+--------------------+-----------+\n",
      "|  92019|Objeto: Aquisição...|Fundamento Legal:...|Dispensa de Licit...|           Publicado|      26000|\n",
      "|  12020|Objeto: Contrataç...|Fundamento Legal:...|Pregão - Registro...|           Publicado|      52000|\n",
      "|  22020|Objeto: Serviços ...|Fundamento Legal:...|              Pregão|           Publicado|      26000|\n",
      "|5012020|Objeto: Contrataç...|Fundamento Legal:...|Inexigibilidade d...|           Publicado|      52000|\n",
      "| 512020|Objeto: Prestação...|Fundamento Legal:...|              Pregão|           Publicado|      39000|\n",
      "|  52019|Objeto: Contrataç...|Fundamento Legal:...|    Tomada de Preços|Rescindido - Publ...|      53000|\n",
      "| 202019|Objeto: Aquisição...|Fundamento Legal:...|Dispensa de Licit...|           Publicado|      24000|\n",
      "| 362019|Objeto: Contrataç...|Fundamento Legal:...|              Pregão|           Publicado|      25000|\n",
      "|  72019|Objeto: Contrataç...|Fundamento Legal:...|Pregão - Registro...|           Publicado|      52000|\n",
      "|  12020|Objeto: Aquisição...|Fundamento Legal:...|Pregão - Registro...|           Publicado|      26000|\n",
      "|  12020|Objeto: Execução ...|Fundamento Legal:...|Dispensa de Licit...|           Publicado|      26000|\n",
      "|  12020|Objeto: Aquisição...|Fundamento Legal:...|              Pregão|           Publicado|      26000|\n",
      "| 792019|Objeto: Contrataç...|Fundamento Legal:...|Dispensa de Licit...|           Publicado|      26000|\n",
      "| 652019|Objeto: Contrataç...|Fundamento Legal:...|Inexigibilidade d...|           Publicado|      26000|\n",
      "| 102019|Objeto: Contrataç...|Fundamento Legal:...|    Tomada de Preços|           Publicado|      52000|\n",
      "| 472019|Objeto: Contrataç...|Fundamento Legal:...|              Pregão|           Publicado|      26000|\n",
      "|1542019|Objeto: Aquisição...|Fundamento Legal:...|Pregão - Registro...|           Publicado|      26000|\n",
      "|5092020|Objeto: Contrataç...|Fundamento Legal:...|Inexigibilidade d...|           Publicado|      52000|\n",
      "|  42019|Objeto: Vigilânci...|Fundamento Legal:...|Pregão - Registro...|           Publicado|      26000|\n",
      "|1192019|Objeto: Prestação...|Fundamento Legal:...|              Pregão|           Publicado|      26000|\n",
      "+-------+--------------------+--------------------+--------------------+--------------------+-----------+\n",
      "only showing top 20 rows\n",
      "\n"
     ]
    }
   ],
   "source": [
    "# Boa Prática - Nome das colunas sem acento e sem espaços.\n",
    "compraInferSchemaDF.select(\n",
    "                            F.col(\"Número do Contrato\").alias(\"nr_cont\"),\n",
    "                            F.col(\"Objeto\").alias(\"obj\"),\n",
    "                            F.col(\"Fundamento Legal\").alias(\"fund_legal\"),\n",
    "                            F.col(\"Modalidade Compra\").alias(\"modld_comp\"),\n",
    "                            F.col(\"Situação Contrato\").alias(\"sit_contrt\"),\n",
    "                            F.col(\"Código Órgão Superior\").alias(\"cod_org_sup\")\n",
    "                          ).show()"
   ]
  },
  {
   "cell_type": "markdown",
   "id": "39d1d7e9-ba1a-4097-9065-e753dfeff0ce",
   "metadata": {},
   "source": [
    "## Carga de Arquivos 02 - Compras Públicas"
   ]
  },
  {
   "cell_type": "markdown",
   "id": "28b433c6-96a0-4ab6-a480-e04288bf4834",
   "metadata": {},
   "source": [
    "- Utilização de esquema **MANUAL**"
   ]
  },
  {
   "cell_type": "markdown",
   "id": "aa3b5192-a337-4379-9db4-d2bfecf46ff5",
   "metadata": {},
   "source": [
    "### Criação do Esquema schemaCompras"
   ]
  },
  {
   "cell_type": "code",
   "execution_count": 8,
   "id": "618c386a-dc15-44da-8939-f61862726f64",
   "metadata": {},
   "outputs": [],
   "source": [
    "# importe dos tipos de dados para criação do esquema manual\n",
    "from pyspark.sql.types import StructField, StructType, StringType, IntegerType, LongType, DateType, DoubleType, DecimalType\n",
    "\n",
    "schemaCompra = StructType().add(StructField(\"nr_cont\", IntegerType()))\\\n",
    "                           .add(StructField(\"obj\", StringType()))\\\n",
    "                           .add(StructField(\"fund_leg\", StringType()))\\\n",
    "                           .add(StructField(\"mod_comp\", StringType()))\\\n",
    "                           .add(StructField(\"sit_cont\", StringType()))\\\n",
    "                           .add(StructField(\"cod_org_sup\", IntegerType()))\\\n",
    "                           .add(StructField(\"nm_org_sup\", StringType()))\\\n",
    "                           .add(StructField(\"cod_org\", IntegerType()))\\\n",
    "                           .add(StructField(\"nm_org\", StringType()))\\\n",
    "                           .add(StructField(\"cod_ug\", IntegerType()))\\\n",
    "                           .add(StructField(\"nm_ug\", StringType()))\\\n",
    "                           .add(StructField(\"dt_ass_cont\", DateType()))\\\n",
    "                           .add(StructField(\"dt_pub_dou\", DateType()))\\\n",
    "                           .add(StructField(\"dt_ini_vig\", DateType()))\\\n",
    "                           .add(StructField(\"dt_fim_vig\", DateType()))\\\n",
    "                           .add(StructField(\"cnpj_contrtd\", LongType()))\\\n",
    "                           .add(StructField(\"nm_contrtd\", StringType()))\\\n",
    "                           .add(StructField(\"vl_ini_comp\", StringType()))\\\n",
    "                           .add(StructField(\"vl_fim_comp\", StringType()))\\\n",
    "                           .add(StructField(\"nr_lic\", IntegerType()))\\\n",
    "                           .add(StructField(\"cod_ug_lic\", IntegerType()))\\\n",
    "                           .add(StructField(\"nm_ug_lic\", StringType()))\\\n",
    "                           .add(StructField(\"cod_mod_comp_lic\", IntegerType()))\\\n",
    "                           .add(StructField(\"desc_mod_comp_lic\", StringType()))\n",
    "# embora a natureza dos campos seja decimal, o spark não consegue converter o padrão separado por virgula\n",
    "# no momento da carga do dados, por isto os campos >>vl_ini_comp e vl_fim_comp<< foram configurados como string(texto)"
   ]
  },
  {
   "cell_type": "markdown",
   "id": "5e12c79b-9e0d-448b-b5fd-cf1f1f7fc6e0",
   "metadata": {},
   "source": [
    "### Carga do DataFrame"
   ]
  },
  {
   "cell_type": "code",
   "execution_count": 10,
   "id": "7259903e-4412-4b93-8880-7f084009e454",
   "metadata": {},
   "outputs": [],
   "source": [
    "compraEsquemaManualDF = spark.read\\\n",
    "                             .format(\"csv\")\\\n",
    "                             .option(\"sep\",\";\")\\\n",
    "                             .option(\"header\",\"true\")\\\n",
    "                             .option(\"charset\",\"iso-8859-1\")\\\n",
    "                             .schema(schemaCompra)\\\n",
    "                             .option(\"dateFormat\", \"dd/MM/yyyy\")\\\n",
    "                             .load(\"/home/aluno/_spark/dados/originais/compras_publicas_federal/compras/\")"
   ]
  },
  {
   "cell_type": "code",
   "execution_count": 11,
   "id": "266b982f-d408-4d97-984c-0609ec9a2419",
   "metadata": {},
   "outputs": [
    {
     "name": "stdout",
     "output_type": "stream",
     "text": [
      "+-------+--------------------+--------------------+--------------------+--------------------+-----------+--------------------+-------+--------------------+------+--------------------+-----------+----------+----------+----------+--------------+--------------------+------------+------------+---------+----------+--------------------+----------------+--------------------+\n",
      "|nr_cont|                 obj|            fund_leg|            mod_comp|            sit_cont|cod_org_sup|          nm_org_sup|cod_org|              nm_org|cod_ug|               nm_ug|dt_ass_cont|dt_pub_dou|dt_ini_vig|dt_fim_vig|  cnpj_contrtd|          nm_contrtd| vl_ini_comp| vl_fim_comp|   nr_lic|cod_ug_lic|           nm_ug_lic|cod_mod_comp_lic|   desc_mod_comp_lic|\n",
      "+-------+--------------------+--------------------+--------------------+--------------------+-----------+--------------------+-------+--------------------+------+--------------------+-----------+----------+----------+----------+--------------+--------------------+------------+------------+---------+----------+--------------------+----------------+--------------------+\n",
      "|  92019|Objeto: Aquisição...|Fundamento Legal:...|Dispensa de Licit...|           Publicado|      26000|Ministério da Edu...|  26429|Instituto Federal...|158643|INST.FED.DE GOIAS...| 2019-12-27|2020-01-23|2019-12-27|2020-12-27|32415936000170|ASSOCIACAO DE PRO...| 230559,6000| 230559,6000|    52019|    158643|INST.FED.DE GOIAS...|               6|Dispensa de Licit...|\n",
      "|  12020|Objeto: Contrataç...|Fundamento Legal:...|Pregão - Registro...|           Publicado|      52000|Ministério da Defesa|  52121| Comando do Exército|160224|PARQUE REGIONAL D...| 2020-01-07|2020-01-10|2020-01-07|2021-01-07| 9323193000196|JC LAVANDERIA IND...|   6000,0000|   6000,0000|   192019|    160223|HOSPITAL GERAL DE...|             -99|Pregão - Registro...|\n",
      "|  22020|Objeto: Serviços ...|Fundamento Legal:...|              Pregão|           Publicado|      26000|Ministério da Edu...|  26439|Instituto Federal...|158526|IFSP - CAMPUS ITA...| 2020-01-08|2020-01-28|2020-01-08|2020-04-07|   14776000160|TRINIVOLT COMERCI...|  17000,0000|  17000,0000| 65262019|    158526|IFSP - CAMPUS ITA...|               5|              Pregão|\n",
      "|5012020|Objeto: Contrataç...|Fundamento Legal:...|Inexigibilidade d...|           Publicado|      52000|Ministério da Defesa|  52121| Comando do Exército|160173|31º BATALHAO DE I...| 2019-12-30|2020-01-21|2020-01-01|2020-12-31| 5238398000201|NORDESTE SERVICOS...| 200000,0000| 400000,0000|   232019|    160173|31º BATALHAO DE I...|               7|Inexigibilidade d...|\n",
      "| 512020|Objeto: Prestação...|Fundamento Legal:...|              Pregão|           Publicado|      39000|Ministério da Inf...|  39252|Departamento Naci...|393015|SUPERINTENDENCIA ...| 2020-01-27|2020-01-29|2020-02-03|2021-02-03|13500936000123|SERVCOM-BA SERVIC...| 416143,9100| 416143,9100|  3642019|    393015|SUPERINTENDENCIA ...|               5|              Pregão|\n",
      "|  52019|Objeto: Contrataç...|Fundamento Legal:...|    Tomada de Preços|Rescindido - Publ...|      53000|Ministério do Des...|  22204|Departamento Naci...|193001|DNOCS CEST/PI-TER...| 2020-01-23|2020-01-24|2020-01-23|2020-05-23| 2528908000106|CONSTRUTORA SANTA...| 487018,6800| 487018,6800|    22019|    193001|DNOCS CEST/PI-TER...|               2|    Tomada de Preços|\n",
      "| 202019|Objeto: Aquisição...|Fundamento Legal:...|Dispensa de Licit...|           Publicado|      24000|Ministério da Ciê...|  24000|Ministério da Ciê...|240105|INSTIT.NACIONAL D...| 2019-11-29|2020-01-24|2019-11-29|2020-11-28| 5914165000192|CARBOXI - INDUSTR...| 119580,0000| 119580,0000|    72019|    240105|INSTIT.NACIONAL D...|               6|Dispensa de Licit...|\n",
      "| 362019|Objeto: Contrataç...|Fundamento Legal:...|              Pregão|           Publicado|      25000|Ministério da Eco...|  30204|Instituto Naciona...|183038|INSTITUTO NACIONA...| 2019-12-30|2020-01-10|2019-12-30|2022-06-30|58619404000814|SEAL TELECOM COME...|6043946,0500|6043946,0500|   182019|    183038|INSTITUTO NACIONA...|               5|              Pregão|\n",
      "|  72019|Objeto: Contrataç...|Fundamento Legal:...|Pregão - Registro...|           Publicado|      52000|Ministério da Defesa|  52121| Comando do Exército|160120|4. DEPOSITO DE SU...| 2019-12-11|2020-01-08|2019-12-11|2020-12-11|12591441000194|LAVANDERIA MORRO ...|  29463,0000|  29463,0000|    52019|    160116|17º BATALHAO LOGI...|             -99|Pregão - Registro...|\n",
      "|  12020|Objeto: Aquisição...|Fundamento Legal:...|Pregão - Registro...|           Publicado|      26000|Ministério da Edu...|  26443|Empresa Brasileir...|155008|HOSPITAL UNIVERSI...| 2020-01-14|2020-01-15|2020-01-14|2021-01-14|58752460000407|SHIMADZU DO BRASI...| 560810,0000| 560810,0000|   922019|    155008|HOSPITAL UNIVERSI...|             -99|Pregão - Registro...|\n",
      "|  12020|Objeto: Execução ...|Fundamento Legal:...|Dispensa de Licit...|           Publicado|      26000|Ministério da Edu...|  26350|Fundação Universi...|154502|FUNDACAO UNIVERSI...| 2020-01-13|2020-01-15|2020-01-13|2021-07-13|10482039000146|FUNDACAO DE APOIO...| 928425,0000| 928425,0000|   252019|    154502|FUNDACAO UNIVERSI...|               6|Dispensa de Licit...|\n",
      "|  12020|Objeto: Aquisição...|Fundamento Legal:...|              Pregão|           Publicado|      26000|Ministério da Edu...|  26000|Ministério da Edu...|152005|INSTITUTO NACIONA...| 2020-01-06|2020-01-28|2020-04-01|2020-05-16|12467682000126|MAXIMUM COMERCIAL...| 144839,8400| 144839,8400|   392019|    152005|INSTITUTO NACIONA...|               5|              Pregão|\n",
      "| 792019|Objeto: Contrataç...|Fundamento Legal:...|Dispensa de Licit...|           Publicado|      26000|Ministério da Edu...|  26281|Fundação Universi...|154050|FUNDACAO UNIVERSI...| 2019-10-31|2020-01-20|2019-10-31|2020-10-30|16772623000112|EDSON BATISTA SAN...|   7631,3600|   7631,3600|900102019|    154050|FUNDACAO UNIVERSI...|               6|Dispensa de Licit...|\n",
      "| 652019|Objeto: Contrataç...|Fundamento Legal:...|Inexigibilidade d...|           Publicado|      26000|Ministério da Edu...|  26443|Empresa Brasileir...|155008|HOSPITAL UNIVERSI...| 2019-12-30|2020-01-24|2019-12-30|2021-12-30|58295213000178|PHILIPS MEDICAL S...| 735471,6000| 735471,6000|   202019|    155008|HOSPITAL UNIVERSI...|               7|Inexigibilidade d...|\n",
      "| 102019|Objeto: Contrataç...|Fundamento Legal:...|    Tomada de Preços|           Publicado|      52000|Ministério da Defesa|  52131|  Comando da Marinha|783602|ESCOLA DE APREND....| 2019-11-21|2020-01-14|2019-11-21|2020-11-21|14868122000109| L&S ENGENHARIA LTDA| 869691,9800| 869691,9800|    22019|    783602|ESCOLA DE APREND....|               2|    Tomada de Preços|\n",
      "| 472019|Objeto: Contrataç...|Fundamento Legal:...|              Pregão|           Publicado|      26000|Ministério da Edu...|  26256|Centro Federal de...|153010|CENTRO FED.DE EDU...| 2019-12-26|2020-01-27|2019-12-26|2020-12-26|61074175000138|MAPFRE SEGUROS GE...|  17000,0000|  17000,0000|   542019|    153010|CENTRO FED.DE EDU...|               5|              Pregão|\n",
      "|1542019|Objeto: Aquisição...|Fundamento Legal:...|Pregão - Registro...|           Publicado|      26000|Ministério da Edu...|  26230|Fundação Universi...|154421|FUND. UNIVERSIDAD...| 2019-12-17|2020-01-09|2019-12-17|2020-12-17|30401291000190|IDALBY CRISTINE M...|    847,6800|    847,6800|   122019|    154421|FUND. UNIVERSIDAD...|             -99|Pregão - Registro...|\n",
      "|5092020|Objeto: Contrataç...|Fundamento Legal:...|Inexigibilidade d...|           Publicado|      52000|Ministério da Defesa|  52121| Comando do Exército|160173|31º BATALHAO DE I...| 2019-12-31|2020-01-21|2020-01-01|2020-12-31| 8834137000153|HOSPITAL ANTONIO ...|2500000,0000|5000000,0000|   232019|    160173|31º BATALHAO DE I...|               7|Inexigibilidade d...|\n",
      "|  42019|Objeto: Vigilânci...|Fundamento Legal:...|Pregão - Registro...|           Publicado|      26000|Ministério da Edu...|  26432|Instituto Federal...|154673|INST. FED. DO PAR...| 2019-12-09|2020-01-13|2020-02-01|2022-07-31| 3229363000191|BETRON TECNOLOGIA...| 866417,1000| 866417,1000|   122019|    158009|INST. FED. DO PAR...|             -99|Pregão - Registro...|\n",
      "|1192019|Objeto: Prestação...|Fundamento Legal:...|              Pregão|           Publicado|      26000|Ministério da Edu...|  26276|Fundação Universi...|154045|FUNDACAO UNIVERSI...| 2019-12-27|2020-01-08|2019-12-27|2020-12-26|10398803000280|RONDAI SEGURANCA ...| 915160,6800|1438835,9600|   292019|    154045|FUNDACAO UNIVERSI...|               5|              Pregão|\n",
      "+-------+--------------------+--------------------+--------------------+--------------------+-----------+--------------------+-------+--------------------+------+--------------------+-----------+----------+----------+----------+--------------+--------------------+------------+------------+---------+----------+--------------------+----------------+--------------------+\n",
      "only showing top 20 rows\n",
      "\n",
      "root\n",
      " |-- nr_cont: integer (nullable = true)\n",
      " |-- obj: string (nullable = true)\n",
      " |-- fund_leg: string (nullable = true)\n",
      " |-- mod_comp: string (nullable = true)\n",
      " |-- sit_cont: string (nullable = true)\n",
      " |-- cod_org_sup: integer (nullable = true)\n",
      " |-- nm_org_sup: string (nullable = true)\n",
      " |-- cod_org: integer (nullable = true)\n",
      " |-- nm_org: string (nullable = true)\n",
      " |-- cod_ug: integer (nullable = true)\n",
      " |-- nm_ug: string (nullable = true)\n",
      " |-- dt_ass_cont: date (nullable = true)\n",
      " |-- dt_pub_dou: date (nullable = true)\n",
      " |-- dt_ini_vig: date (nullable = true)\n",
      " |-- dt_fim_vig: date (nullable = true)\n",
      " |-- cnpj_contrtd: long (nullable = true)\n",
      " |-- nm_contrtd: string (nullable = true)\n",
      " |-- vl_ini_comp: string (nullable = true)\n",
      " |-- vl_fim_comp: string (nullable = true)\n",
      " |-- nr_lic: integer (nullable = true)\n",
      " |-- cod_ug_lic: integer (nullable = true)\n",
      " |-- nm_ug_lic: string (nullable = true)\n",
      " |-- cod_mod_comp_lic: integer (nullable = true)\n",
      " |-- desc_mod_comp_lic: string (nullable = true)\n",
      "\n"
     ]
    }
   ],
   "source": [
    "compraEsquemaManualDF.show()\n",
    "compraEsquemaManualDF.printSchema()"
   ]
  },
  {
   "cell_type": "markdown",
   "id": "aaa6abf1-d091-4181-990c-1c76d30c55de",
   "metadata": {},
   "source": [
    "<h4 style=\"color:yellow\">Exercício 01: criação de esquemas e carga de csv</h4>"
   ]
  },
  {
   "cell_type": "markdown",
   "id": "4b70132f-3e8a-46c7-9213-45b18df6df32",
   "metadata": {},
   "source": [
    "a) Criar dois esquemas manuais que atendam aos requisitos a seguir:\n",
    "    schemaItemCompra\n",
    "    schemaTermoAditivo"
   ]
  },
  {
   "cell_type": "code",
   "execution_count": 12,
   "id": "e7ab3739-1425-4f0e-8f1f-58f2e2652edc",
   "metadata": {},
   "outputs": [],
   "source": [
    "# importe dos tipos de dados para criação do esquema manual\n",
    "from pyspark.sql.types import StructField, StructType, StringType, IntegerType, LongType, DateType, DoubleType, DecimalType\n",
    "\n",
    "schemaItemCompra = StructType().add(StructField(\"cod_org\", IntegerType()))\\\n",
    "                               .add(StructField(\"nm_org\", StringType()))\\\n",
    "                               .add(StructField(\"cod_ug\", IntegerType()))\\\n",
    "                               .add(StructField(\"nm_ug\", StringType()))\\\n",
    "                               .add(StructField(\"nr_cont\", IntegerType()))\\\n",
    "                               .add(StructField(\"cod_item_comp\", DecimalType()))\\\n",
    "                               .add(StructField(\"desc_item_comp\", StringType()))\\\n",
    "                               .add(StructField(\"desc_compl_item_comp\", StringType()))\\\n",
    "                               .add(StructField(\"qtd_item\", IntegerType()))\\\n",
    "                               .add(StructField(\"vl_item\", StringType()))"
   ]
  },
  {
   "cell_type": "code",
   "execution_count": 13,
   "id": "d4cc5d3e-c3e7-4ecd-86ed-600ead9afddd",
   "metadata": {},
   "outputs": [],
   "source": [
    "schemaTermoAditivo = StructType().add(StructField(\"nr_cont\", IntegerType()))\\\n",
    "                               .add(StructField(\"cod_org_sup\", IntegerType()))\\\n",
    "                               .add(StructField(\"nm_org_sup\", StringType()))\\\n",
    "                               .add(StructField(\"cod_org\", IntegerType()))\\\n",
    "                               .add(StructField(\"nm_org\", StringType()))\\\n",
    "                               .add(StructField(\"cod_ug\", IntegerType()))\\\n",
    "                               .add(StructField(\"nm_ug\", StringType()))\\\n",
    "                               .add(StructField(\"nr_term_adit\", IntegerType()))\\\n",
    "                               .add(StructField(\"dt_pub\", DateType()))\\\n",
    "                               .add(StructField(\"obj\", StringType()))"
   ]
  },
  {
   "cell_type": "markdown",
   "id": "c7e2ccb6-460c-4631-ba7d-f1aa4e9ceb27",
   "metadata": {},
   "source": [
    "b) Utilizandos os esquemas criados, carrega os dados dos arquivos localizados nos caminhos"
   ]
  },
  {
   "cell_type": "code",
   "execution_count": 15,
   "id": "a895c5e2-67d5-4e58-9572-c01ba48913e8",
   "metadata": {},
   "outputs": [],
   "source": [
    "itemCompraManualDF = spark.read\\\n",
    "                          .format(\"csv\")\\\n",
    "                          .option(\"sep\",\";\")\\\n",
    "                          .option(\"header\",\"true\")\\\n",
    "                          .option(\"charset\",\"iso-8859-1\")\\\n",
    "                          .schema(schemaItemCompra)\\\n",
    "                          .option(\"dateFormat\", \"dd/MM/yyyy\")\\\n",
    "                          .load(\"/home/aluno/_spark/dados/originais/compras_publicas_federal/itens_compra/\")"
   ]
  },
  {
   "cell_type": "code",
   "execution_count": 16,
   "id": "98b0c71b-d286-4f45-926c-a79e178016b2",
   "metadata": {},
   "outputs": [
    {
     "name": "stdout",
     "output_type": "stream",
     "text": [
      "+-------+--------------------+------+--------------------+-------+-------------+--------------------+--------------------+--------+----------+\n",
      "|cod_org|              nm_org|cod_ug|               nm_ug|nr_cont|cod_item_comp|      desc_item_comp|desc_compl_item_comp|qtd_item|   vl_item|\n",
      "+-------+--------------------+------+--------------------+-------+-------------+--------------------+--------------------+--------+----------+\n",
      "|  52121| Comando do Exército|160100|COMANDO DA 3A BDA...|  12018|         null|ANALISE CLINICA, ...|PRESTAÇÃO DE SERV...|       1| 120000,00|\n",
      "|  30108|Departamento de P...|200366|DELEGACIA DE POLI...|  12019|            0|Informação proteg...|Informação proteg...|     600|      6,00|\n",
      "|  30108|Departamento de P...|200366|DELEGACIA DE POLI...|  12019|            0|Informação proteg...|Informação proteg...|      30| 153510,00|\n",
      "|  30108|Departamento de P...|200366|DELEGACIA DE POLI...|  12019|            0|Informação proteg...|Informação proteg...|     600| 596118,00|\n",
      "|  30108|Departamento de P...|200366|DELEGACIA DE POLI...|  12019|            0|Informação proteg...|Informação proteg...|     150|      1,50|\n",
      "|  25000|Ministério da Eco...|170018|SUPERITENDENCIA R...|  12019|         null|EQUIPAMENTO / COM...|MÓDULO MCB-H DEST...|       1| 365000,00|\n",
      "|  26238|Universidade Fede...|153285|FACULDADE DE EDUC...|  12019|         null|ADMINISTRACAO / E...|CONTRATAÇÃO DA FU...|       1| 348486,40|\n",
      "|  26238|Universidade Fede...|153275|ESCOLA DE ARQUITE...|  12019|         null|ADMINISTRACAO / E...|ADMINISTRAÇÃO , E...|       1| 277109,20|\n",
      "|  26238|Universidade Fede...|153275|ESCOLA DE ARQUITE...|  12019|         null|ADMINISTRACAO / E...|ADMINISTRAÇÃO , E...|       1|3695890,70|\n",
      "|  52121| Comando do Exército|160155|COMANDO DE FRONTE...|  12019|         null|MANUTENCAO / REFO...|OBRA DE ADEQUAÇÃO...|       1| 643051,70|\n",
      "|  25000|Ministério da Eco...|170247|INSPETORIA DA RFB...|  12019|         null|COMUNICACAO POR C...|COMUNICAÇÃO POR C...|       1|   1875,00|\n",
      "|  26431|Instituto Federal...|154704|INST. FED. PIAUI/...|  12019|         null|              FEIJÃO|FEIJÃO, TIPO 1, T...|      50|    583,50|\n",
      "|  26431|Instituto Federal...|154704|INST. FED. PIAUI/...|  12019|         null|  VERDURA IN NATURA*|VERDURA IN NATURA...|      60|    760,20|\n",
      "|  26431|Instituto Federal...|154704|INST. FED. PIAUI/...|  12019|         null|   LEGUME IN NATURA*|LEGUME IN NATURA*...|      30|    117,90|\n",
      "|  26431|Instituto Federal...|154704|INST. FED. PIAUI/...|  12019|         null|   LEGUME IN NATURA*|LEGUME IN NATURA*...|     300|   1950,00|\n",
      "|  26431|Instituto Federal...|154704|INST. FED. PIAUI/...|  12019|         null|  VERDURA IN NATURA*|VERDURA IN NATURA...|      20|    240,00|\n",
      "|  26431|Instituto Federal...|154704|INST. FED. PIAUI/...|  12019|         null|     FRUTA IN NATURA|FRUTA IN NATURA, ...|     834|   1726,30|\n",
      "|  26431|Instituto Federal...|154704|INST. FED. PIAUI/...|  12019|         null|              FEIJÃO|FEIJÃO, TIPO CORD...|      67|    647,80|\n",
      "|  26431|Instituto Federal...|154704|INST. FED. PIAUI/...|  12019|         null|     FRUTA IN NATURA|FRUTA IN NATURA, ...|     300|   2079,00|\n",
      "|  26431|Instituto Federal...|154704|INST. FED. PIAUI/...|  12019|         null|MILHO VERDE IN - ...|MILHO VERDE IN - ...|     375|    412,50|\n",
      "+-------+--------------------+------+--------------------+-------+-------------+--------------------+--------------------+--------+----------+\n",
      "only showing top 20 rows\n",
      "\n",
      "root\n",
      " |-- cod_org: integer (nullable = true)\n",
      " |-- nm_org: string (nullable = true)\n",
      " |-- cod_ug: integer (nullable = true)\n",
      " |-- nm_ug: string (nullable = true)\n",
      " |-- nr_cont: integer (nullable = true)\n",
      " |-- cod_item_comp: decimal(10,0) (nullable = true)\n",
      " |-- desc_item_comp: string (nullable = true)\n",
      " |-- desc_compl_item_comp: string (nullable = true)\n",
      " |-- qtd_item: integer (nullable = true)\n",
      " |-- vl_item: string (nullable = true)\n",
      "\n"
     ]
    }
   ],
   "source": [
    "itemCompraManualDF.show()\n",
    "itemCompraManualDF.printSchema()"
   ]
  },
  {
   "cell_type": "code",
   "execution_count": 18,
   "id": "b3f09873-0874-4ceb-80b5-6a61d7ef97e5",
   "metadata": {},
   "outputs": [],
   "source": [
    "termosAditivosManualDF = spark.read\\\n",
    "                          .format(\"csv\")\\\n",
    "                          .option(\"sep\",\";\")\\\n",
    "                          .option(\"header\",\"true\")\\\n",
    "                          .option(\"charset\",\"iso-8859-1\")\\\n",
    "                          .schema(schemaTermoAditivo)\\\n",
    "                          .option(\"dateFormat\", \"dd/MM/yyyy\")\\\n",
    "                          .load(\"/home/aluno/_spark/dados/originais/compras_publicas_federal/temos_aditivo/\")"
   ]
  },
  {
   "cell_type": "code",
   "execution_count": 19,
   "id": "53a5dcb2-972d-4856-8d0e-b91ff53f8222",
   "metadata": {},
   "outputs": [
    {
     "name": "stdout",
     "output_type": "stream",
     "text": [
      "+--------+-----------+--------------------+-------+--------------------+------+--------------------+------------+----------+--------------------+\n",
      "| nr_cont|cod_org_sup|          nm_org_sup|cod_org|              nm_org|cod_ug|               nm_ug|nr_term_adit|    dt_pub|                 obj|\n",
      "+--------+-----------+--------------------+-------+--------------------+------+--------------------+------------+----------+--------------------+\n",
      "|  742019|      20000|Presidência da Re...|  20101|Presidência da Re...|110001|SECRETARIA ESPECI...|       12020|2020-04-01|Objeto: Alterar o...|\n",
      "|  752019|      20000|Presidência da Re...|  20101|Presidência da Re...|110001|SECRETARIA ESPECI...|       12020|2020-05-11|Objeto: Acréscimo...|\n",
      "|  752019|      20000|Presidência da Re...|  20101|Presidência da Re...|110001|SECRETARIA ESPECI...|       22020|2020-12-21|Objeto: Prorrogaç...|\n",
      "|   72019|      63000|Advocacia-Geral d...|  63000|Advocacia-Geral d...|110156|ESCOLA DA ADVOCAC...|       12020|2020-12-30|Objeto: Prorrogaç...|\n",
      "|  612019|      63000|Advocacia-Geral d...|  63000|Advocacia-Geral d...|110161|SUPERINTENDENCIA ...|       12020|2020-09-16|Objeto: Alteração...|\n",
      "|  632019|      63000|Advocacia-Geral d...|  63000|Advocacia-Geral d...|110161|SUPERINTENDENCIA ...|       12020|2020-12-11|Objeto: Prorrogar...|\n",
      "|   62019|      52000|Ministério da Defesa|  52000|Ministério da Def...|110511|CENTRO GESTOR OP....|       12020|2020-01-28|Objeto: Prorrogar...|\n",
      "|  162019|      63000|Advocacia-Geral d...|  63000|Advocacia-Geral d...|110592|UNIDADE DE ATENDI...|       12020|2020-03-26|Objeto: Prorrogaç...|\n",
      "|  172019|      63000|Advocacia-Geral d...|  63000|Advocacia-Geral d...|110592|UNIDADE DE ATENDI...|       12020|2020-06-03|Objeto: Trata-se ...|\n",
      "|   12020|      52000|Ministério da Defesa|  52000|Ministério da Def...|112408|HOSPITAL DAS FORC...|      152020|2020-06-08|Objeto: Prorrogar...|\n",
      "|  282019|      24000|Ministério da Ciê...|  20301|Comissão Nacional...|113204|COMISSAO NACIONAL...|      292020|2020-12-29|Objeto: Prorrogaç...|\n",
      "|12242018|      32000|Ministério de Min...|  20302|Nuclebrás Equipam...|113208|NUCLEBRAS EQUIPAM...|       12019|2019-09-04|OBJETO: Serviços ...|\n",
      "|12482018|      32000|Ministério de Min...|  20302|Nuclebrás Equipam...|113208|NUCLEBRAS EQUIPAM...|       12019|2019-08-29|OBJETO: Repactuaç...|\n",
      "|12482018|      32000|Ministério de Min...|  20302|Nuclebrás Equipam...|113208|NUCLEBRAS EQUIPAM...|       22019|2020-01-10|OBJETO: Prorrogaç...|\n",
      "|  312019|      39000|Ministério da Inf...|  62201|Agência Nacional ...|113214|AGENCIA NACIONAL ...|       12020|2020-10-26|Objeto: Prorrogaç...|\n",
      "|   52019|      39000|Ministério da Inf...|  62201|Agência Nacional ...|113216|REPRESENTACAO REG...|       12020|2020-08-27|Objeto: O present...|\n",
      "|   52019|      39000|Ministério da Inf...|  62201|Agência Nacional ...|113216|REPRESENTACAO REG...|       22020|2020-09-29|Objeto: A)prorrog...|\n",
      "|   12020|      25000|Ministério da Eco...|  25205|Fundação Institut...|114601|FUNDACAO IBGE-ADM...|       12020|2020-07-30|Objeto: A CONTRAT...|\n",
      "|   12020|      25000|Ministério da Eco...|  25205|Fundação Institut...|114601|FUNDACAO IBGE-ADM...|       22020|2020-12-21|Objeto: Nos termo...|\n",
      "|  502019|      25000|Ministério da Eco...|  25205|Fundação Institut...|114601|FUNDACAO IBGE-ADM...|       12019|2020-01-16|Objeto: Aquisição...|\n",
      "+--------+-----------+--------------------+-------+--------------------+------+--------------------+------------+----------+--------------------+\n",
      "only showing top 20 rows\n",
      "\n",
      "root\n",
      " |-- nr_cont: integer (nullable = true)\n",
      " |-- cod_org_sup: integer (nullable = true)\n",
      " |-- nm_org_sup: string (nullable = true)\n",
      " |-- cod_org: integer (nullable = true)\n",
      " |-- nm_org: string (nullable = true)\n",
      " |-- cod_ug: integer (nullable = true)\n",
      " |-- nm_ug: string (nullable = true)\n",
      " |-- nr_term_adit: integer (nullable = true)\n",
      " |-- dt_pub: date (nullable = true)\n",
      " |-- obj: string (nullable = true)\n",
      "\n"
     ]
    }
   ],
   "source": [
    "termosAditivosManualDF.show()\n",
    "termosAditivosManualDF.printSchema()"
   ]
  }
 ],
 "metadata": {
  "kernelspec": {
   "display_name": "Python 3 (ipykernel)",
   "language": "python",
   "name": "python3"
  },
  "language_info": {
   "codemirror_mode": {
    "name": "ipython",
    "version": 3
   },
   "file_extension": ".py",
   "mimetype": "text/x-python",
   "name": "python",
   "nbconvert_exporter": "python",
   "pygments_lexer": "ipython3",
   "version": "3.8.13"
  }
 },
 "nbformat": 4,
 "nbformat_minor": 5
}
