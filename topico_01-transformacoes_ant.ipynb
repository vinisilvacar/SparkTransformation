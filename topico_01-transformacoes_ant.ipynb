{
 "cells": [
  {
   "cell_type": "markdown",
   "id": "8afb1756-2118-44ff-8b6b-02e0a0e7b3d7",
   "metadata": {
    "tags": []
   },
   "source": [
    "# Importações básicas"
   ]
  },
  {
   "cell_type": "code",
   "execution_count": 6,
   "id": "06bf5cef-58ff-404b-b444-f81ae3653cd1",
   "metadata": {},
   "outputs": [
    {
     "data": {
      "text/html": [
       "<style>pre { white-space: pre !important; }</style>"
      ],
      "text/plain": [
       "<IPython.core.display.HTML object>"
      ]
     },
     "metadata": {},
     "output_type": "display_data"
    }
   ],
   "source": [
    "from pyspark.sql import SparkSession\n",
    "from pyspark.sql.functions import *\n",
    "import pyspark.sql.functions as F\n",
    "\n",
    "\n",
    "from IPython.core.display import HTML\n",
    "display(HTML(\"<style>pre { white-space: pre !important; }</style>\"))"
   ]
  },
  {
   "cell_type": "markdown",
   "id": "ae869793-5ba7-4bf4-a258-0c80d655dc4d",
   "metadata": {},
   "source": [
    "# Iniciar a sessão Spark\n",
    "\n"
   ]
  },
  {
   "cell_type": "code",
   "execution_count": 5,
   "id": "2dbd93d0-93dd-49a3-84c2-3ce7f89c52e0",
   "metadata": {},
   "outputs": [
    {
     "name": "stderr",
     "output_type": "stream",
     "text": [
      "Using Spark's default log4j profile: org/apache/spark/log4j-defaults.properties\n",
      "Setting default log level to \"WARN\".\n",
      "To adjust logging level use sc.setLogLevel(newLevel). For SparkR, use setLogLevel(newLevel).\n",
      "22/08/20 14:47:16 WARN NativeCodeLoader: Unable to load native-hadoop library for your platform... using builtin-java classes where applicable\n"
     ]
    }
   ],
   "source": [
    "spark = SparkSession.builder\\\n",
    "                    .config(\"spark.master\",\"local[*]\")\\\n",
    "                    .appName(\"Tranformações - Aula x\")\\\n",
    "                    .getOrCreate()\n",
    "\n",
    "spark.sparkContext.setLogLevel(\"ERROR\")"
   ]
  },
  {
   "cell_type": "markdown",
   "id": "48601b51-02c2-42fc-8dab-6c08d0101574",
   "metadata": {},
   "source": [
    "# Tranformações de dataframe"
   ]
  },
  {
   "cell_type": "markdown",
   "id": "964f1dfb-4543-46c9-9c7a-a86e6e2849c6",
   "metadata": {},
   "source": [
    "## Criação de dataframe spark"
   ]
  },
  {
   "cell_type": "code",
   "execution_count": 7,
   "id": "c85f754a-4997-4c73-8a0a-157977b125fa",
   "metadata": {},
   "outputs": [],
   "source": [
    "# cria array com o conteúdo a ser posto no dataframe\n",
    "registrosEmpregados = [\n",
    "    (\"Abgail Correa\"     ,\"18/09/1985\",\"F\",\"Engheira de Dados\" ,2,True ,True ,11250.95),\n",
    "    (\"André dos Santos\"  ,\"02/02/1983\",\"M\",\"Assessor RH\"       ,1,False,True ,9846.33),\n",
    "    (\"Bruna Souza\"       ,\"05/12/1994\",\"F\",\"Assessora Vendas\"  ,3,True ,True ,8960.47),\n",
    "    (\"Bernado Nogueira\"  ,\"05/06/1998\",\"M\",\"Assessor de TI\"    ,2,False,True ,9862.32),\n",
    "    (\"Carlos Bonfim\"     ,\"26/01/1979\",None,\"Gerentes de TI\"   ,2,True ,False,21641.84),\n",
    "    (\"Cristina Batista\"  ,\"17/11/1989\",\"F\",\"Cientista de Dados\",2,False,True ,13945.09),\n",
    "    (\"Daniel Silva\"      ,\"12/09/1978\",\"M\",\"Assessor Vendas\"   ,3,True ,True ,9016.14),\n",
    "    (\"Darlene Campos\"    ,\"19/11/1991\",\"F\",\"Gerente de RH\"     ,1,False,False,20365.66),\n",
    "    (\"Fabiana Monteiro\"  ,\"22/04/1988\",\"F\",\"Gerente de Vendas\" ,3,True ,False,15360.70),\n",
    "    (\"Francisco Oliveira\",\"19/01/1989\",None,\"Analista de Dados\",2,False,True ,10563.61)\n",
    "]\n",
    "\n",
    "colunas = [\"nome\",\"data_nasc\",\"sexo\",\"func\",\"setor\",\"ind_prev_priv\",\"ind_ponto_elt\",\"sal_bruto\"]\n",
    "\n",
    "empDF = spark.createDataFrame(registrosEmpregados).toDF(*colunas)"
   ]
  },
  {
   "cell_type": "code",
   "execution_count": 10,
   "id": "ce39b9d7-7603-41b0-a848-6b5cdc93f9cd",
   "metadata": {},
   "outputs": [
    {
     "name": "stderr",
     "output_type": "stream",
     "text": [
      "                                                                                \r"
     ]
    },
    {
     "name": "stdout",
     "output_type": "stream",
     "text": [
      "+------------------+----------+----+------------------+-----+-------------+-------------+---------+\n",
      "|              nome| data_nasc|sexo|              func|setor|ind_prev_priv|ind_ponto_elt|sal_bruto|\n",
      "+------------------+----------+----+------------------+-----+-------------+-------------+---------+\n",
      "|     Abgail Correa|18/09/1985|   F| Engheira de Dados|    2|         true|         true| 11250.95|\n",
      "|  André dos Santos|02/02/1983|   M|       Assessor RH|    1|        false|         true|  9846.33|\n",
      "|       Bruna Souza|05/12/1994|   F|  Assessora Vendas|    3|         true|         true|  8960.47|\n",
      "|  Bernado Nogueira|05/06/1998|   M|    Assessor de TI|    2|        false|         true|  9862.32|\n",
      "|     Carlos Bonfim|26/01/1979|null|    Gerentes de TI|    2|         true|        false| 21641.84|\n",
      "|  Cristina Batista|17/11/1989|   F|Cientista de Dados|    2|        false|         true| 13945.09|\n",
      "|      Daniel Silva|12/09/1978|   M|   Assessor Vendas|    3|         true|         true|  9016.14|\n",
      "|    Darlene Campos|19/11/1991|   F|     Gerente de RH|    1|        false|        false| 20365.66|\n",
      "|  Fabiana Monteiro|22/04/1988|   F| Gerente de Vendas|    3|         true|        false|  15360.7|\n",
      "|Francisco Oliveira|19/01/1989|null| Analista de Dados|    2|        false|         true| 10563.61|\n",
      "+------------------+----------+----+------------------+-----+-------------+-------------+---------+\n",
      "\n"
     ]
    }
   ],
   "source": [
    "empDF.show()"
   ]
  },
  {
   "cell_type": "code",
   "execution_count": 9,
   "id": "9b9d9e02-d77d-4156-94d0-aaa7bbf84689",
   "metadata": {},
   "outputs": [
    {
     "name": "stdout",
     "output_type": "stream",
     "text": [
      "root\n",
      " |-- nome: string (nullable = true)\n",
      " |-- data_nasc: string (nullable = true)\n",
      " |-- sexo: string (nullable = true)\n",
      " |-- func: string (nullable = true)\n",
      " |-- setor: long (nullable = true)\n",
      " |-- ind_prev_priv: boolean (nullable = true)\n",
      " |-- ind_ponto_elt: boolean (nullable = true)\n",
      " |-- sal_bruto: double (nullable = true)\n",
      "\n"
     ]
    }
   ],
   "source": [
    "empDF.printSchema()"
   ]
  },
  {
   "cell_type": "markdown",
   "id": "f99d990c-bea6-4e27-ab8b-49de20aa469c",
   "metadata": {
    "tags": []
   },
   "source": [
    "Criar um dataframe chamado setorDF(referente aos setores da empresa)\n",
    " \n",
    " O dataframe deverá conter os seguintes valores e estrutura:\n",
    " \n",
    "+---------+----------+\n",
    "|cod_setor|nome_setor|\n",
    "+---------+----------+\n",
    "|        1+        RH|\n",
    "+---------+----------+\n",
    "|        2+        TI|\n",
    "+---------+----------+\n",
    "|        3+    Vendas|\n",
    "+---------+----------+"
   ]
  },
  {
   "cell_type": "code",
   "execution_count": 12,
   "id": "4f342c58-cfea-4d11-8687-98b7961dff44",
   "metadata": {},
   "outputs": [],
   "source": [
    "# Atividade 01\n",
    "setores = [\n",
    "    (1,\"RH\"),\n",
    "    (2,\"TI\"),\n",
    "    (3,\"Vendas\")\n",
    "]\n",
    "\n",
    "colunas = [\"cod_setor\",\"nome_setor\"]\n",
    "\n",
    "setorDF = spark.createDataFrame(setores).toDF(*colunas)"
   ]
  },
  {
   "cell_type": "code",
   "execution_count": 14,
   "id": "b934abc8-e04c-41f4-978b-bb32ce69d679",
   "metadata": {},
   "outputs": [
    {
     "name": "stdout",
     "output_type": "stream",
     "text": [
      "+---------+----------+\n",
      "|cod_setor|nome_setor|\n",
      "+---------+----------+\n",
      "|        1|        RH|\n",
      "|        2|        TI|\n",
      "|        3|    Vendas|\n",
      "+---------+----------+\n",
      "\n"
     ]
    }
   ],
   "source": [
    "setorDF.show()"
   ]
  },
  {
   "cell_type": "code",
   "execution_count": 16,
   "id": "e45d601f-b11c-4ae1-a739-357a132f831a",
   "metadata": {},
   "outputs": [
    {
     "name": "stdout",
     "output_type": "stream",
     "text": [
      "+---------+----------+\n",
      "|cod_setor|nome_setor|\n",
      "+---------+----------+\n",
      "|        1|        RH|\n",
      "|        2|        TI|\n",
      "|        3|    Vendas|\n",
      "+---------+----------+\n",
      "\n"
     ]
    }
   ],
   "source": [
    "setorDF.show()"
   ]
  },
  {
   "cell_type": "markdown",
   "id": "f2739d4a-9483-4237-a85d-037623a76ad4",
   "metadata": {},
   "source": [
    "## Reorganização de registros (orderBy e sort)"
   ]
  },
  {
   "cell_type": "markdown",
   "id": "61d1cafd-0de9-4f1d-8855-e64355b0d274",
   "metadata": {},
   "source": [
    "### crescente"
   ]
  },
  {
   "cell_type": "code",
   "execution_count": 18,
   "id": "7915dc18-b9c1-4c12-ad35-229ae7665aaa",
   "metadata": {},
   "outputs": [
    {
     "name": "stdout",
     "output_type": "stream",
     "text": [
      "+------------------+----------+----+------------------+-----+-------------+-------------+---------+\n",
      "|              nome| data_nasc|sexo|              func|setor|ind_prev_priv|ind_ponto_elt|sal_bruto|\n",
      "+------------------+----------+----+------------------+-----+-------------+-------------+---------+\n",
      "|     Abgail Correa|18/09/1985|   F| Engheira de Dados|    2|         true|         true| 11250.95|\n",
      "|  André dos Santos|02/02/1983|   M|       Assessor RH|    1|        false|         true|  9846.33|\n",
      "|  Bernado Nogueira|05/06/1998|   M|    Assessor de TI|    2|        false|         true|  9862.32|\n",
      "|       Bruna Souza|05/12/1994|   F|  Assessora Vendas|    3|         true|         true|  8960.47|\n",
      "|     Carlos Bonfim|26/01/1979|null|    Gerentes de TI|    2|         true|        false| 21641.84|\n",
      "|  Cristina Batista|17/11/1989|   F|Cientista de Dados|    2|        false|         true| 13945.09|\n",
      "|      Daniel Silva|12/09/1978|   M|   Assessor Vendas|    3|         true|         true|  9016.14|\n",
      "|    Darlene Campos|19/11/1991|   F|     Gerente de RH|    1|        false|        false| 20365.66|\n",
      "|  Fabiana Monteiro|22/04/1988|   F| Gerente de Vendas|    3|         true|        false|  15360.7|\n",
      "|Francisco Oliveira|19/01/1989|null| Analista de Dados|    2|        false|         true| 10563.61|\n",
      "+------------------+----------+----+------------------+-----+-------------+-------------+---------+\n",
      "\n"
     ]
    }
   ],
   "source": [
    "empOrdCresSalDF = empDF.orderBy(\"nome\")\n",
    "\n",
    "empOrdCresSalDF.show()"
   ]
  },
  {
   "cell_type": "code",
   "execution_count": 19,
   "id": "376a2545-3da8-4df0-b147-33da0e91dc4a",
   "metadata": {},
   "outputs": [
    {
     "name": "stdout",
     "output_type": "stream",
     "text": [
      "+------------------+----------+----+------------------+-----+-------------+-------------+---------+\n",
      "|              nome| data_nasc|sexo|              func|setor|ind_prev_priv|ind_ponto_elt|sal_bruto|\n",
      "+------------------+----------+----+------------------+-----+-------------+-------------+---------+\n",
      "|       Bruna Souza|05/12/1994|   F|  Assessora Vendas|    3|         true|         true|  8960.47|\n",
      "|      Daniel Silva|12/09/1978|   M|   Assessor Vendas|    3|         true|         true|  9016.14|\n",
      "|  André dos Santos|02/02/1983|   M|       Assessor RH|    1|        false|         true|  9846.33|\n",
      "|  Bernado Nogueira|05/06/1998|   M|    Assessor de TI|    2|        false|         true|  9862.32|\n",
      "|Francisco Oliveira|19/01/1989|null| Analista de Dados|    2|        false|         true| 10563.61|\n",
      "|     Abgail Correa|18/09/1985|   F| Engheira de Dados|    2|         true|         true| 11250.95|\n",
      "|  Cristina Batista|17/11/1989|   F|Cientista de Dados|    2|        false|         true| 13945.09|\n",
      "|  Fabiana Monteiro|22/04/1988|   F| Gerente de Vendas|    3|         true|        false|  15360.7|\n",
      "|    Darlene Campos|19/11/1991|   F|     Gerente de RH|    1|        false|        false| 20365.66|\n",
      "|     Carlos Bonfim|26/01/1979|null|    Gerentes de TI|    2|         true|        false| 21641.84|\n",
      "+------------------+----------+----+------------------+-----+-------------+-------------+---------+\n",
      "\n"
     ]
    }
   ],
   "source": [
    "empOrdCresSalDF = empDF.orderBy(\"sal_bruto\")\n",
    "\n",
    "empOrdCresSalDF.show()"
   ]
  },
  {
   "cell_type": "markdown",
   "id": "1de9a5e7-411e-4309-8108-4eaad3873d47",
   "metadata": {},
   "source": [
    "### Decrecente"
   ]
  },
  {
   "cell_type": "code",
   "execution_count": 23,
   "id": "b54c42ac-f4b8-4c84-b6bb-29de886fd335",
   "metadata": {},
   "outputs": [
    {
     "name": "stdout",
     "output_type": "stream",
     "text": [
      "+------------------+----------+----+------------------+-----+-------------+-------------+---------+\n",
      "|              nome| data_nasc|sexo|              func|setor|ind_prev_priv|ind_ponto_elt|sal_bruto|\n",
      "+------------------+----------+----+------------------+-----+-------------+-------------+---------+\n",
      "|     Carlos Bonfim|26/01/1979|null|    Gerentes de TI|    2|         true|        false| 21641.84|\n",
      "|    Darlene Campos|19/11/1991|   F|     Gerente de RH|    1|        false|        false| 20365.66|\n",
      "|  Fabiana Monteiro|22/04/1988|   F| Gerente de Vendas|    3|         true|        false|  15360.7|\n",
      "|  Cristina Batista|17/11/1989|   F|Cientista de Dados|    2|        false|         true| 13945.09|\n",
      "|     Abgail Correa|18/09/1985|   F| Engheira de Dados|    2|         true|         true| 11250.95|\n",
      "|Francisco Oliveira|19/01/1989|null| Analista de Dados|    2|        false|         true| 10563.61|\n",
      "|  Bernado Nogueira|05/06/1998|   M|    Assessor de TI|    2|        false|         true|  9862.32|\n",
      "|  André dos Santos|02/02/1983|   M|       Assessor RH|    1|        false|         true|  9846.33|\n",
      "|      Daniel Silva|12/09/1978|   M|   Assessor Vendas|    3|         true|         true|  9016.14|\n",
      "|       Bruna Souza|05/12/1994|   F|  Assessora Vendas|    3|         true|         true|  8960.47|\n",
      "+------------------+----------+----+------------------+-----+-------------+-------------+---------+\n",
      "\n"
     ]
    }
   ],
   "source": [
    "empOrdCresSalDF = empDF.sort(F.desc(\"sal_bruto\"))\n",
    "\n",
    "empOrdCresSalDF.show()"
   ]
  },
  {
   "cell_type": "markdown",
   "id": "02f86dd7-5724-4167-bc6a-c34a6d0945c8",
   "metadata": {},
   "source": [
    "### ordenação com valores nulos"
   ]
  },
  {
   "cell_type": "markdown",
   "id": "54800e14-eb9a-40d9-8edb-85c0d76e8626",
   "metadata": {},
   "source": [
    "#### Ordenação descrescemte com os nulos nos primeiros registros"
   ]
  },
  {
   "cell_type": "code",
   "execution_count": 26,
   "id": "ac5ebda3-27d2-4ad7-a468-9efbdfd0a5eb",
   "metadata": {},
   "outputs": [
    {
     "name": "stdout",
     "output_type": "stream",
     "text": [
      "+------------------+----------+----+------------------+-----+-------------+-------------+---------+\n",
      "|              nome| data_nasc|sexo|              func|setor|ind_prev_priv|ind_ponto_elt|sal_bruto|\n",
      "+------------------+----------+----+------------------+-----+-------------+-------------+---------+\n",
      "|      Daniel Silva|12/09/1978|   M|   Assessor Vendas|    3|         true|         true|  9016.14|\n",
      "|  Bernado Nogueira|05/06/1998|   M|    Assessor de TI|    2|        false|         true|  9862.32|\n",
      "|  André dos Santos|02/02/1983|   M|       Assessor RH|    1|        false|         true|  9846.33|\n",
      "|  Cristina Batista|17/11/1989|   F|Cientista de Dados|    2|        false|         true| 13945.09|\n",
      "|       Bruna Souza|05/12/1994|   F|  Assessora Vendas|    3|         true|         true|  8960.47|\n",
      "|     Abgail Correa|18/09/1985|   F| Engheira de Dados|    2|         true|         true| 11250.95|\n",
      "|    Darlene Campos|19/11/1991|   F|     Gerente de RH|    1|        false|        false| 20365.66|\n",
      "|  Fabiana Monteiro|22/04/1988|   F| Gerente de Vendas|    3|         true|        false|  15360.7|\n",
      "|     Carlos Bonfim|26/01/1979|null|    Gerentes de TI|    2|         true|        false| 21641.84|\n",
      "|Francisco Oliveira|19/01/1989|null| Analista de Dados|    2|        false|         true| 10563.61|\n",
      "+------------------+----------+----+------------------+-----+-------------+-------------+---------+\n",
      "\n"
     ]
    }
   ],
   "source": [
    "empOrdDecrSexNullLastDF = empDF.orderBy(F.desc_nulls_last (\"sexo\"))\n",
    "\n",
    "empOrdDecrSexNullLastDF.show()\n"
   ]
  },
  {
   "cell_type": "markdown",
   "id": "79b28c95-2272-4d52-9c00-2c9be71d75b8",
   "metadata": {},
   "source": [
    "#### Ordenação crescente com os nulos nos primeiros registros\n"
   ]
  },
  {
   "cell_type": "code",
   "execution_count": 27,
   "id": "16d17f23-96a2-47ec-938d-bfae38cbc844",
   "metadata": {},
   "outputs": [
    {
     "name": "stdout",
     "output_type": "stream",
     "text": [
      "+------------------+----------+----+------------------+-----+-------------+-------------+---------+\n",
      "|              nome| data_nasc|sexo|              func|setor|ind_prev_priv|ind_ponto_elt|sal_bruto|\n",
      "+------------------+----------+----+------------------+-----+-------------+-------------+---------+\n",
      "|     Carlos Bonfim|26/01/1979|null|    Gerentes de TI|    2|         true|        false| 21641.84|\n",
      "|Francisco Oliveira|19/01/1989|null| Analista de Dados|    2|        false|         true| 10563.61|\n",
      "|    Darlene Campos|19/11/1991|   F|     Gerente de RH|    1|        false|        false| 20365.66|\n",
      "|     Abgail Correa|18/09/1985|   F| Engheira de Dados|    2|         true|         true| 11250.95|\n",
      "|  Fabiana Monteiro|22/04/1988|   F| Gerente de Vendas|    3|         true|        false|  15360.7|\n",
      "|       Bruna Souza|05/12/1994|   F|  Assessora Vendas|    3|         true|         true|  8960.47|\n",
      "|  Cristina Batista|17/11/1989|   F|Cientista de Dados|    2|        false|         true| 13945.09|\n",
      "|  André dos Santos|02/02/1983|   M|       Assessor RH|    1|        false|         true|  9846.33|\n",
      "|  Bernado Nogueira|05/06/1998|   M|    Assessor de TI|    2|        false|         true|  9862.32|\n",
      "|      Daniel Silva|12/09/1978|   M|   Assessor Vendas|    3|         true|         true|  9016.14|\n",
      "+------------------+----------+----+------------------+-----+-------------+-------------+---------+\n",
      "\n"
     ]
    }
   ],
   "source": [
    "empOrdCrescSexNullFirstDF = empDF.orderBy(asc_nulls_first(\"sexo\"))\n",
    "\n",
    "empOrdCrescSexNullFirstDF.show()\n"
   ]
  },
  {
   "cell_type": "markdown",
   "id": "18ea8fc3-0003-411c-be1e-bccb6d3a249e",
   "metadata": {},
   "source": [
    "#### Ordenação crescente com os nulos nos últimos registros\n"
   ]
  },
  {
   "cell_type": "code",
   "execution_count": 28,
   "id": "1c90a5e0-50f5-4836-bba8-6ceb20916ad9",
   "metadata": {},
   "outputs": [
    {
     "name": "stdout",
     "output_type": "stream",
     "text": [
      "+------------------+----------+----+------------------+-----+-------------+-------------+---------+\n",
      "|              nome| data_nasc|sexo|              func|setor|ind_prev_priv|ind_ponto_elt|sal_bruto|\n",
      "+------------------+----------+----+------------------+-----+-------------+-------------+---------+\n",
      "|  Cristina Batista|17/11/1989|   F|Cientista de Dados|    2|        false|         true| 13945.09|\n",
      "|     Abgail Correa|18/09/1985|   F| Engheira de Dados|    2|         true|         true| 11250.95|\n",
      "|    Darlene Campos|19/11/1991|   F|     Gerente de RH|    1|        false|        false| 20365.66|\n",
      "|       Bruna Souza|05/12/1994|   F|  Assessora Vendas|    3|         true|         true|  8960.47|\n",
      "|  Fabiana Monteiro|22/04/1988|   F| Gerente de Vendas|    3|         true|        false|  15360.7|\n",
      "|  Bernado Nogueira|05/06/1998|   M|    Assessor de TI|    2|        false|         true|  9862.32|\n",
      "|      Daniel Silva|12/09/1978|   M|   Assessor Vendas|    3|         true|         true|  9016.14|\n",
      "|  André dos Santos|02/02/1983|   M|       Assessor RH|    1|        false|         true|  9846.33|\n",
      "|     Carlos Bonfim|26/01/1979|null|    Gerentes de TI|    2|         true|        false| 21641.84|\n",
      "|Francisco Oliveira|19/01/1989|null| Analista de Dados|    2|        false|         true| 10563.61|\n",
      "+------------------+----------+----+------------------+-----+-------------+-------------+---------+\n",
      "\n"
     ]
    }
   ],
   "source": [
    "empOrdCrescSexNullLastDF = empDF.orderBy(col(\"sexo\").asc_nulls_last())\n",
    "\n",
    "empOrdCrescSexNullLastDF.show()"
   ]
  },
  {
   "cell_type": "markdown",
   "id": "1c81c323-0e3d-4dac-afbf-31a6d68e6369",
   "metadata": {},
   "source": [
    "## Exclusão e inclusão de colunas"
   ]
  },
  {
   "cell_type": "markdown",
   "id": "3a54a856-c5e3-402b-9173-f4fba00e55fe",
   "metadata": {},
   "source": [
    "### Exclusão"
   ]
  },
  {
   "cell_type": "markdown",
   "id": "0334b0cb-b5bc-4954-94e3-76fcb99ba20d",
   "metadata": {},
   "source": [
    "#### select"
   ]
  },
  {
   "cell_type": "code",
   "execution_count": 31,
   "id": "d08eb4a7-c9fc-42f4-bcf3-1e8d2e8e6206",
   "metadata": {},
   "outputs": [
    {
     "name": "stdout",
     "output_type": "stream",
     "text": [
      "+------------------+----------+----+------------------+-----+-------------+-------------+---------+\n",
      "|              nome| data_nasc|sexo|              func|setor|ind_prev_priv|ind_ponto_elt|sal_bruto|\n",
      "+------------------+----------+----+------------------+-----+-------------+-------------+---------+\n",
      "|  Cristina Batista|17/11/1989|   F|Cientista de Dados|    2|        false|         true| 13945.09|\n",
      "|     Abgail Correa|18/09/1985|   F| Engheira de Dados|    2|         true|         true| 11250.95|\n",
      "|    Darlene Campos|19/11/1991|   F|     Gerente de RH|    1|        false|        false| 20365.66|\n",
      "|       Bruna Souza|05/12/1994|   F|  Assessora Vendas|    3|         true|         true|  8960.47|\n",
      "|  Fabiana Monteiro|22/04/1988|   F| Gerente de Vendas|    3|         true|        false|  15360.7|\n",
      "|  Bernado Nogueira|05/06/1998|   M|    Assessor de TI|    2|        false|         true|  9862.32|\n",
      "|      Daniel Silva|12/09/1978|   M|   Assessor Vendas|    3|         true|         true|  9016.14|\n",
      "|  André dos Santos|02/02/1983|   M|       Assessor RH|    1|        false|         true|  9846.33|\n",
      "|     Carlos Bonfim|26/01/1979|null|    Gerentes de TI|    2|         true|        false| 21641.84|\n",
      "|Francisco Oliveira|19/01/1989|null| Analista de Dados|    2|        false|         true| 10563.61|\n",
      "+------------------+----------+----+------------------+-----+-------------+-------------+---------+\n",
      "\n"
     ]
    }
   ],
   "source": [
    "empOrdCrescSexNullLastDF = empDF.orderBy(col(\"sexo\").asc_nulls_last())\n",
    "\n",
    "empOrdCrescSexNullLastDF.show()"
   ]
  },
  {
   "cell_type": "markdown",
   "id": "66cea73b-ef32-4094-8acd-5176b45d207d",
   "metadata": {},
   "source": [
    "#### Drop"
   ]
  },
  {
   "cell_type": "code",
   "execution_count": 33,
   "id": "b5d7d3b4-84eb-4b85-aa77-b56033cb9757",
   "metadata": {},
   "outputs": [
    {
     "name": "stdout",
     "output_type": "stream",
     "text": [
      "+------------------+----------+-------------+-------------+---------+\n",
      "|              nome| data_nasc|ind_prev_priv|ind_ponto_elt|sal_bruto|\n",
      "+------------------+----------+-------------+-------------+---------+\n",
      "|     Abgail Correa|18/09/1985|         true|         true| 11250.95|\n",
      "|  André dos Santos|02/02/1983|        false|         true|  9846.33|\n",
      "|       Bruna Souza|05/12/1994|         true|         true|  8960.47|\n",
      "|  Bernado Nogueira|05/06/1998|        false|         true|  9862.32|\n",
      "|     Carlos Bonfim|26/01/1979|         true|        false| 21641.84|\n",
      "|  Cristina Batista|17/11/1989|        false|         true| 13945.09|\n",
      "|      Daniel Silva|12/09/1978|         true|         true|  9016.14|\n",
      "|    Darlene Campos|19/11/1991|        false|        false| 20365.66|\n",
      "|  Fabiana Monteiro|22/04/1988|         true|        false|  15360.7|\n",
      "|Francisco Oliveira|19/01/1989|        false|         true| 10563.61|\n",
      "+------------------+----------+-------------+-------------+---------+\n",
      "\n"
     ]
    }
   ],
   "source": [
    "empAlt02DF = empDF.drop('sexo', 'setor', 'func')\n",
    "\n",
    "empAlt02DF.show()"
   ]
  },
  {
   "cell_type": "code",
   "execution_count": 34,
   "id": "52777b32-7d58-4a5b-9206-29f6751e32b6",
   "metadata": {},
   "outputs": [
    {
     "name": "stdout",
     "output_type": "stream",
     "text": [
      "+------------------+----------+----+-----+-------------+-------------+---------+\n",
      "|              nome| data_nasc|sexo|setor|ind_prev_priv|ind_ponto_elt|sal_bruto|\n",
      "+------------------+----------+----+-----+-------------+-------------+---------+\n",
      "|     Abgail Correa|18/09/1985|   F|    2|         true|         true| 11250.95|\n",
      "|  André dos Santos|02/02/1983|   M|    1|        false|         true|  9846.33|\n",
      "|       Bruna Souza|05/12/1994|   F|    3|         true|         true|  8960.47|\n",
      "|  Bernado Nogueira|05/06/1998|   M|    2|        false|         true|  9862.32|\n",
      "|     Carlos Bonfim|26/01/1979|null|    2|         true|        false| 21641.84|\n",
      "|  Cristina Batista|17/11/1989|   F|    2|        false|         true| 13945.09|\n",
      "|      Daniel Silva|12/09/1978|   M|    3|         true|         true|  9016.14|\n",
      "|    Darlene Campos|19/11/1991|   F|    1|        false|        false| 20365.66|\n",
      "|  Fabiana Monteiro|22/04/1988|   F|    3|         true|        false|  15360.7|\n",
      "|Francisco Oliveira|19/01/1989|null|    2|        false|         true| 10563.61|\n",
      "+------------------+----------+----+-----+-------------+-------------+---------+\n",
      "\n"
     ]
    }
   ],
   "source": [
    "empAlt02DF = empDF.drop('none', 'func')\n",
    "\n",
    "empAlt02DF.show()"
   ]
  },
  {
   "cell_type": "raw",
   "id": "17a823b8-ea8a-4d97-b722-69eadf62aa93",
   "metadata": {},
   "source": [
    "A partir do dataframe empDF, gerar dois dataframes com as seguintes configurações:\n",
    "\n",
    "emp2ColDF:\n",
    "root\n",
    "|-- nome: string (nullable = true)\n",
    "|-- func: string (nullable = true)\n",
    "\n",
    "\n",
    "emp4ColDF:\n",
    "root\n",
    "|-- nome: string (nullable = true)\n",
    "|-- data_nasc: string (nullable = true)\n",
    "|-- sexo: string (nullable = true)\n",
    "|-- func: string (nullable = true)\n",
    "|-- setor: long (nullable = true)\n",
    "|-- ind_ponto_elt: boolean (nullable = true)\n",
    "|-- sal_bruto: double (nullable = true)"
   ]
  },
  {
   "cell_type": "code",
   "execution_count": 35,
   "id": "e477db05-732d-47b0-ac8f-66130f5c6c72",
   "metadata": {},
   "outputs": [
    {
     "name": "stdout",
     "output_type": "stream",
     "text": [
      "+------------------+------------------+\n",
      "|              nome|              func|\n",
      "+------------------+------------------+\n",
      "|     Abgail Correa| Engheira de Dados|\n",
      "|  André dos Santos|       Assessor RH|\n",
      "|       Bruna Souza|  Assessora Vendas|\n",
      "|  Bernado Nogueira|    Assessor de TI|\n",
      "|     Carlos Bonfim|    Gerentes de TI|\n",
      "|  Cristina Batista|Cientista de Dados|\n",
      "|      Daniel Silva|   Assessor Vendas|\n",
      "|    Darlene Campos|     Gerente de RH|\n",
      "|  Fabiana Monteiro| Gerente de Vendas|\n",
      "|Francisco Oliveira| Analista de Dados|\n",
      "+------------------+------------------+\n",
      "\n",
      "root\n",
      " |-- nome: string (nullable = true)\n",
      " |-- func: string (nullable = true)\n",
      "\n",
      "+------------------+----------+----+------------------+-----+-------------+---------+\n",
      "|              nome| data_nasc|sexo|              func|setor|ind_ponto_elt|sal_bruto|\n",
      "+------------------+----------+----+------------------+-----+-------------+---------+\n",
      "|     Abgail Correa|18/09/1985|   F| Engheira de Dados|    2|         true| 11250.95|\n",
      "|  André dos Santos|02/02/1983|   M|       Assessor RH|    1|         true|  9846.33|\n",
      "|       Bruna Souza|05/12/1994|   F|  Assessora Vendas|    3|         true|  8960.47|\n",
      "|  Bernado Nogueira|05/06/1998|   M|    Assessor de TI|    2|         true|  9862.32|\n",
      "|     Carlos Bonfim|26/01/1979|null|    Gerentes de TI|    2|        false| 21641.84|\n",
      "|  Cristina Batista|17/11/1989|   F|Cientista de Dados|    2|         true| 13945.09|\n",
      "|      Daniel Silva|12/09/1978|   M|   Assessor Vendas|    3|         true|  9016.14|\n",
      "|    Darlene Campos|19/11/1991|   F|     Gerente de RH|    1|        false| 20365.66|\n",
      "|  Fabiana Monteiro|22/04/1988|   F| Gerente de Vendas|    3|        false|  15360.7|\n",
      "|Francisco Oliveira|19/01/1989|null| Analista de Dados|    2|         true| 10563.61|\n",
      "+------------------+----------+----+------------------+-----+-------------+---------+\n",
      "\n",
      "root\n",
      " |-- nome: string (nullable = true)\n",
      " |-- data_nasc: string (nullable = true)\n",
      " |-- sexo: string (nullable = true)\n",
      " |-- func: string (nullable = true)\n",
      " |-- setor: long (nullable = true)\n",
      " |-- ind_ponto_elt: boolean (nullable = true)\n",
      " |-- sal_bruto: double (nullable = true)\n",
      "\n"
     ]
    }
   ],
   "source": [
    "#Atividade 2\n",
    "\n",
    "emp2ColDF = empDF.select('nome', 'func')\n",
    "emp2ColDF.show()\n",
    "emp2ColDF.printSchema()\n",
    "\n",
    "emp4ColDF = empDF.select('nome', 'data_nasc', 'sexo', 'func', 'setor', 'ind_ponto_elt', 'sal_bruto')\n",
    "emp4ColDF.show()\n",
    "emp4ColDF.printSchema()"
   ]
  },
  {
   "cell_type": "code",
   "execution_count": null,
   "id": "4c9f6c99-9bde-4505-99e1-3dadec6585d3",
   "metadata": {},
   "outputs": [],
   "source": []
  }
 ],
 "metadata": {
  "kernelspec": {
   "display_name": "Python 3 (ipykernel)",
   "language": "python",
   "name": "python3"
  },
  "language_info": {
   "codemirror_mode": {
    "name": "ipython",
    "version": 3
   },
   "file_extension": ".py",
   "mimetype": "text/x-python",
   "name": "python",
   "nbconvert_exporter": "python",
   "pygments_lexer": "ipython3",
   "version": "3.8.13"
  },
  "toc-autonumbering": true
 },
 "nbformat": 4,
 "nbformat_minor": 5
}
