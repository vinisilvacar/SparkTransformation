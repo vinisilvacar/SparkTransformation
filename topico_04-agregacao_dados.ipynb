{
 "cells": [
  {
   "cell_type": "markdown",
   "id": "1313f43c-21af-4851-8ea8-0fe21e1f59f4",
   "metadata": {},
   "source": [
    "# Importações básicas"
   ]
  },
  {
   "cell_type": "code",
   "execution_count": 42,
   "id": "a4294fe0-42a6-4095-a236-0fb66751c785",
   "metadata": {},
   "outputs": [
    {
     "data": {
      "text/html": [
       "<style>pre { white-space: pre !important; }</style>"
      ],
      "text/plain": [
       "<IPython.core.display.HTML object>"
      ]
     },
     "metadata": {},
     "output_type": "display_data"
    }
   ],
   "source": [
    "from pyspark.sql import SparkSession\n",
    "import pyspark.sql.functions as F\n",
    "\n",
    "\n",
    "from IPython.core.display import HTML\n",
    "display(HTML(\"<style>pre { white-space: pre !important; }</style>\"))"
   ]
  },
  {
   "cell_type": "markdown",
   "id": "a8e0212e-fced-4f60-a174-7b42651553e0",
   "metadata": {},
   "source": [
    "# Iniciar a sessão Spark"
   ]
  },
  {
   "cell_type": "code",
   "execution_count": 43,
   "id": "c8f5fbaa-2c66-464e-9a49-087897a10c3b",
   "metadata": {},
   "outputs": [],
   "source": [
    "spark = SparkSession.builder\\\n",
    "                    .config(\"spark.master\",\"local[*]\")\\\n",
    "                    .appName(\"Fontes_de_dados\")\\\n",
    "                    .getOrCreate()\n",
    "\n",
    "spark.sparkContext.setLogLevel(\"ERROR\")"
   ]
  },
  {
   "cell_type": "markdown",
   "id": "6df74e05-107c-46dd-89bf-16913ffb9c67",
   "metadata": {},
   "source": [
    "# Módulo(s) de Obtenção de Dados"
   ]
  },
  {
   "cell_type": "markdown",
   "id": "a064b4f5-4002-4e28-928f-df93bdf3adad",
   "metadata": {},
   "source": [
    "## Carga de Arquivos"
   ]
  },
  {
   "cell_type": "markdown",
   "id": "a4fd35d3-edc8-4a08-bd50-0745f9b87caf",
   "metadata": {},
   "source": [
    "### Criação do Esquema schemaCompras"
   ]
  },
  {
   "cell_type": "code",
   "execution_count": 44,
   "id": "e40cfccd-605b-41c7-a174-5aa8b554c484",
   "metadata": {},
   "outputs": [],
   "source": [
    "# importe dos tipos de dados para criação do esquema manual\n",
    "from pyspark.sql.types import StructField, StructType, StringType, IntegerType, LongType, DateType, DoubleType, DecimalType\n",
    "\n",
    "schemaCompra = StructType().add(StructField(\"nr_cont\", IntegerType()))\\\n",
    "                           .add(StructField(\"obj\", StringType()))\\\n",
    "                           .add(StructField(\"fund_leg\", StringType()))\\\n",
    "                           .add(StructField(\"mod_comp\", StringType()))\\\n",
    "                           .add(StructField(\"sit_cont\", StringType()))\\\n",
    "                           .add(StructField(\"cod_org_sup\", IntegerType()))\\\n",
    "                           .add(StructField(\"nm_org_sup\", StringType()))\\\n",
    "                           .add(StructField(\"cod_org\", IntegerType()))\\\n",
    "                           .add(StructField(\"nm_org\", StringType()))\\\n",
    "                           .add(StructField(\"cod_ug\", IntegerType()))\\\n",
    "                           .add(StructField(\"nm_ug\", StringType()))\\\n",
    "                           .add(StructField(\"dt_ass_cont\", DateType()))\\\n",
    "                           .add(StructField(\"dt_pub_dou\", DateType()))\\\n",
    "                           .add(StructField(\"dt_ini_vig\", DateType()))\\\n",
    "                           .add(StructField(\"dt_fim_vig\", DateType()))\\\n",
    "                           .add(StructField(\"cnpj_contrtd\", LongType()))\\\n",
    "                           .add(StructField(\"nm_contrtd\", StringType()))\\\n",
    "                           .add(StructField(\"vl_ini_comp\", StringType()))\\\n",
    "                           .add(StructField(\"vl_fim_comp\", StringType()))\\\n",
    "                           .add(StructField(\"nr_lic\", IntegerType()))\\\n",
    "                           .add(StructField(\"cod_ug_lic\", IntegerType()))\\\n",
    "                           .add(StructField(\"nm_ug_lic\", StringType()))\\\n",
    "                           .add(StructField(\"cod_mod_comp_lic\", IntegerType()))\\\n",
    "                           .add(StructField(\"desc_mod_comp_lic\", StringType()))\n",
    "# embora a natureza dos campos seja decimal, o spark não consegue converter o padrão separado por virgula\n",
    "# no momento da carga do dados, por isto os campos >>vl_ini_comp e vl_fim_comp<< foram configurados como string(texto)\n",
    "\n"
   ]
  },
  {
   "cell_type": "markdown",
   "id": "ed9a0902-a98a-424f-9036-235a9c25b87c",
   "metadata": {},
   "source": [
    "### Carga do DataFrame"
   ]
  },
  {
   "cell_type": "code",
   "execution_count": 45,
   "id": "c7a8a608-6a52-4ff0-83b1-7b1e6b92b0a6",
   "metadata": {},
   "outputs": [],
   "source": [
    "compraEsquemaManualDF = spark.read\\\n",
    "                             .format(\"csv\")\\\n",
    "                             .option(\"sep\",\";\")\\\n",
    "                             .option(\"header\",\"true\")\\\n",
    "                             .option(\"charset\",\"iso-8859-1\")\\\n",
    "                             .schema(schemaCompra)\\\n",
    "                             .option(\"dateFormat\", \"dd/MM/yyyy\")\\\n",
    "                             .load(\"/home/aluno/_spark/dados/originais/compras_publicas_federal/compras/\")"
   ]
  },
  {
   "cell_type": "markdown",
   "id": "8cef4410-1c29-4000-8ef2-6a004fd44bdb",
   "metadata": {},
   "source": [
    "- exploração básica do dataframe carregado"
   ]
  },
  {
   "cell_type": "code",
   "execution_count": 46,
   "id": "a390d3a3-b4c8-4ff7-b042-61a66b9a59e7",
   "metadata": {},
   "outputs": [
    {
     "name": "stdout",
     "output_type": "stream",
     "text": [
      "+-------+----------------------------------------------------------------------------------------------------+----------------------------------------------------------------+----------------------------+---------+-----------+----------------------------+-------+---------------------------------------------+------+-----------------------------------------+-----------+----------+----------+----------+--------------+------------------------------------------------------+-----------+-----------+--------+----------+-----------------------------------------+----------------+----------------------------+\n",
      "|nr_cont|                                                                                                 obj|                                                        fund_leg|                    mod_comp| sit_cont|cod_org_sup|                  nm_org_sup|cod_org|                                       nm_org|cod_ug|                                    nm_ug|dt_ass_cont|dt_pub_dou|dt_ini_vig|dt_fim_vig|  cnpj_contrtd|                                            nm_contrtd|vl_ini_comp|vl_fim_comp|  nr_lic|cod_ug_lic|                                nm_ug_lic|cod_mod_comp_lic|           desc_mod_comp_lic|\n",
      "+-------+----------------------------------------------------------------------------------------------------+----------------------------------------------------------------+----------------------------+---------+-----------+----------------------------+-------+---------------------------------------------+------+-----------------------------------------+-----------+----------+----------+----------+--------------+------------------------------------------------------+-----------+-----------+--------+----------+-----------------------------------------+----------------+----------------------------+\n",
      "|  92019|Objeto: Aquisição de alimentos da agricultura familiar para alimentação escolar, na modalidadede ...|                                  Fundamento Legal: Lei 8.666/93|       Dispensa de Licitação|Publicado|      26000|      Ministério da Educação|  26429|Instituto Federal de Educação, Ciência e Tecn|158643|      INST.FED.DE GOIAS/CAMPUS VALPARAISO| 2019-12-27|2020-01-23|2019-12-27|2020-12-27|32415936000170|ASSOCIACAO DE PRODUTORES RURAIS DE VALPARAISO DE GOIAS|230559,6000|230559,6000|   52019|    158643|      INST.FED.DE GOIAS/CAMPUS VALPARAISO|               6|       Dispensa de Licitação|\n",
      "|  12020|                                                       Objeto: Contratação de serviço de lavanderia.|                            Fundamento Legal: Art 61 Lei 8666/93|  Pregão - Registro de Preço|Publicado|      52000|        Ministério da Defesa|  52121|                          Comando do Exército|160224|          PARQUE REGIONAL DE MANUTENCAO/5| 2020-01-07|2020-01-10|2020-01-07|2021-01-07| 9323193000196|                       JC LAVANDERIA INDUSTRIAL EIRELI|  6000,0000|  6000,0000|  192019|    160223|               HOSPITAL GERAL DE CURITIBA|             -99|  Pregão - Registro de Preço|\n",
      "|  22020|Objeto: Serviços de manuntenção na cabine primária do IFSP Câmpus Itapetininga com fornecimento d...|Fundamento Legal: lei 8666/93, lei10520/02 e decreto 10024/2019.|                      Pregão|Publicado|      26000|      Ministério da Educação|  26439|               Instituto Federal de São Paulo|158526|               IFSP - CAMPUS ITAPETININGA| 2020-01-08|2020-01-28|2020-01-08|2020-04-07|   14776000160|     TRINIVOLT COMERCIAL E INSTALADORA ELETRICA EIRELI| 17000,0000| 17000,0000|65262019|    158526|               IFSP - CAMPUS ITAPETININGA|               5|                      Pregão|\n",
      "|5012020|Objeto: Contratação de Organização Civil de Saúde para prestação de serviço de assistência médico...| Fundamento Legal: Parágrafo Único do Art. 61, d a lei 8.666/93.|Inexigibilidade de Licitação|Publicado|      52000|        Ministério da Defesa|  52121|                          Comando do Exército|160173|    31º BATALHAO DE INFANTARIA MOTORIZADO| 2019-12-30|2020-01-21|2020-01-01|2020-12-31| 5238398000201|                       NORDESTE SERVICOS MEDICOS LTDA.|200000,0000|400000,0000|  232019|    160173|    31º BATALHAO DE INFANTARIA MOTORIZADO|               7|Inexigibilidade de Licitação|\n",
      "| 512020|Objeto: Prestação de serviços continuados de limpeza, conservação, higienização, copeiragem e jar...|            Fundamento Legal: Lei 8.666, de 21 de junho de 1993.|                      Pregão|Publicado|      39000|Ministério da Infraestrutura|  39252|Departamento Nacional de Infraestrutura de Tr|393015|SUPERINTENDENCIA REG. NO ESTADO SE - DNIT| 2020-01-27|2020-01-29|2020-02-03|2021-02-03|13500936000123|                 SERVCOM-BA SERVICOS E COMERCIO EIRELI|416143,9100|416143,9100| 3642019|    393015|SUPERINTENDENCIA REG. NO ESTADO SE - DNIT|               5|                      Pregão|\n",
      "+-------+----------------------------------------------------------------------------------------------------+----------------------------------------------------------------+----------------------------+---------+-----------+----------------------------+-------+---------------------------------------------+------+-----------------------------------------+-----------+----------+----------+----------+--------------+------------------------------------------------------+-----------+-----------+--------+----------+-----------------------------------------+----------------+----------------------------+\n",
      "only showing top 5 rows\n",
      "\n",
      "root\n",
      " |-- nr_cont: integer (nullable = true)\n",
      " |-- obj: string (nullable = true)\n",
      " |-- fund_leg: string (nullable = true)\n",
      " |-- mod_comp: string (nullable = true)\n",
      " |-- sit_cont: string (nullable = true)\n",
      " |-- cod_org_sup: integer (nullable = true)\n",
      " |-- nm_org_sup: string (nullable = true)\n",
      " |-- cod_org: integer (nullable = true)\n",
      " |-- nm_org: string (nullable = true)\n",
      " |-- cod_ug: integer (nullable = true)\n",
      " |-- nm_ug: string (nullable = true)\n",
      " |-- dt_ass_cont: date (nullable = true)\n",
      " |-- dt_pub_dou: date (nullable = true)\n",
      " |-- dt_ini_vig: date (nullable = true)\n",
      " |-- dt_fim_vig: date (nullable = true)\n",
      " |-- cnpj_contrtd: long (nullable = true)\n",
      " |-- nm_contrtd: string (nullable = true)\n",
      " |-- vl_ini_comp: string (nullable = true)\n",
      " |-- vl_fim_comp: string (nullable = true)\n",
      " |-- nr_lic: integer (nullable = true)\n",
      " |-- cod_ug_lic: integer (nullable = true)\n",
      " |-- nm_ug_lic: string (nullable = true)\n",
      " |-- cod_mod_comp_lic: integer (nullable = true)\n",
      " |-- desc_mod_comp_lic: string (nullable = true)\n",
      "\n"
     ]
    }
   ],
   "source": [
    "compraEsquemaManualDF.show(5,100)\n",
    "compraEsquemaManualDF.printSchema()"
   ]
  },
  {
   "cell_type": "markdown",
   "id": "dcf0bf70-93ee-42b6-9104-a2e1c29e5d55",
   "metadata": {},
   "source": [
    "# Módulo(s) de Transformação de Dados"
   ]
  },
  {
   "cell_type": "code",
   "execution_count": 47,
   "id": "33dc0464-ee53-4937-ad98-b15958c46066",
   "metadata": {},
   "outputs": [],
   "source": [
    "compraDF = compraEsquemaManualDF.withColumn(\"vl_ini_comp\", regexp_replace(col(\"vl_ini_comp\"), \",\", \".\").cast(DecimalType(20, 2)))\\\n",
    "                                .withColumn(\"vl_fim_comp\", regexp_replace(col(\"vl_fim_comp\"), \",\", \".\").cast(DecimalType(20, 2)))\\\n",
    "                                #.select(\n",
    "                                #          \"nr_cont\",\n",
    "                                #          \"obj\",\n",
    "                                #          \"mod_comp\",\n",
    "                                #          \"cod_ug\",\n",
    "                                #          \"nm_ug\",\n",
    "                                #          \"dt_ini_vig\",\n",
    "                                #          \"dt_fim_vig\",\n",
    "                                #          \"cnpj_contrtd\",\n",
    "                                #          \"nm_contrtd\",\n",
    "                                #          \"vl_ini_comp\",\n",
    "                                #          \"vl_fim_comp\"\n",
    "                                #       )"
   ]
  },
  {
   "cell_type": "code",
   "execution_count": 48,
   "id": "25c9bdcd-937e-4ba6-b8ea-d79187f69b67",
   "metadata": {},
   "outputs": [
    {
     "name": "stdout",
     "output_type": "stream",
     "text": [
      "+-------+----------------------------------------------------------------------------------------------------------------------------------------------------------------------+----------------------------------------------------------------+--------------------------+---------+-----------+----------------------+-------+---------------------------------------------+------+-----------------------------------+-----------+----------+----------+----------+--------------+------------------------------------------------------+-----------+-----------+--------+----------+-----------------------------------+----------------+--------------------------+\n",
      "|nr_cont|obj                                                                                                                                                                   |fund_leg                                                        |mod_comp                  |sit_cont |cod_org_sup|nm_org_sup            |cod_org|nm_org                                       |cod_ug|nm_ug                              |dt_ass_cont|dt_pub_dou|dt_ini_vig|dt_fim_vig|cnpj_contrtd  |nm_contrtd                                            |vl_ini_comp|vl_fim_comp|nr_lic  |cod_ug_lic|nm_ug_lic                          |cod_mod_comp_lic|desc_mod_comp_lic         |\n",
      "+-------+----------------------------------------------------------------------------------------------------------------------------------------------------------------------+----------------------------------------------------------------+--------------------------+---------+-----------+----------------------+-------+---------------------------------------------+------+-----------------------------------+-----------+----------+----------+----------+--------------+------------------------------------------------------+-----------+-----------+--------+----------+-----------------------------------+----------------+--------------------------+\n",
      "|92019  |Objeto: Aquisição de alimentos da agricultura familiar para alimentação escolar, na modalidadede compra institucional do Programa Nacional deAlimentação Escolar-PNAE.|Fundamento Legal: Lei 8.666/93                                  |Dispensa de Licitação     |Publicado|26000      |Ministério da Educação|26429  |Instituto Federal de Educação, Ciência e Tecn|158643|INST.FED.DE GOIAS/CAMPUS VALPARAISO|2019-12-27 |2020-01-23|2019-12-27|2020-12-27|32415936000170|ASSOCIACAO DE PRODUTORES RURAIS DE VALPARAISO DE GOIAS|230559.60  |230559.60  |52019   |158643    |INST.FED.DE GOIAS/CAMPUS VALPARAISO|6               |Dispensa de Licitação     |\n",
      "|12020  |Objeto: Contratação de serviço de lavanderia.                                                                                                                         |Fundamento Legal: Art 61 Lei 8666/93                            |Pregão - Registro de Preço|Publicado|52000      |Ministério da Defesa  |52121  |Comando do Exército                          |160224|PARQUE REGIONAL DE MANUTENCAO/5    |2020-01-07 |2020-01-10|2020-01-07|2021-01-07|9323193000196 |JC LAVANDERIA INDUSTRIAL EIRELI                       |6000.00    |6000.00    |192019  |160223    |HOSPITAL GERAL DE CURITIBA         |-99             |Pregão - Registro de Preço|\n",
      "|22020  |Objeto: Serviços de manuntenção na cabine primária do IFSP Câmpus Itapetininga com fornecimento de materiais e equipamentos.                                          |Fundamento Legal: lei 8666/93, lei10520/02 e decreto 10024/2019.|Pregão                    |Publicado|26000      |Ministério da Educação|26439  |Instituto Federal de São Paulo               |158526|IFSP - CAMPUS ITAPETININGA         |2020-01-08 |2020-01-28|2020-01-08|2020-04-07|14776000160   |TRINIVOLT COMERCIAL E INSTALADORA ELETRICA EIRELI     |17000.00   |17000.00   |65262019|158526    |IFSP - CAMPUS ITAPETININGA         |5               |Pregão                    |\n",
      "+-------+----------------------------------------------------------------------------------------------------------------------------------------------------------------------+----------------------------------------------------------------+--------------------------+---------+-----------+----------------------+-------+---------------------------------------------+------+-----------------------------------+-----------+----------+----------+----------+--------------+------------------------------------------------------+-----------+-----------+--------+----------+-----------------------------------+----------------+--------------------------+\n",
      "only showing top 3 rows\n",
      "\n",
      "root\n",
      " |-- nr_cont: integer (nullable = true)\n",
      " |-- obj: string (nullable = true)\n",
      " |-- fund_leg: string (nullable = true)\n",
      " |-- mod_comp: string (nullable = true)\n",
      " |-- sit_cont: string (nullable = true)\n",
      " |-- cod_org_sup: integer (nullable = true)\n",
      " |-- nm_org_sup: string (nullable = true)\n",
      " |-- cod_org: integer (nullable = true)\n",
      " |-- nm_org: string (nullable = true)\n",
      " |-- cod_ug: integer (nullable = true)\n",
      " |-- nm_ug: string (nullable = true)\n",
      " |-- dt_ass_cont: date (nullable = true)\n",
      " |-- dt_pub_dou: date (nullable = true)\n",
      " |-- dt_ini_vig: date (nullable = true)\n",
      " |-- dt_fim_vig: date (nullable = true)\n",
      " |-- cnpj_contrtd: long (nullable = true)\n",
      " |-- nm_contrtd: string (nullable = true)\n",
      " |-- vl_ini_comp: decimal(20,2) (nullable = true)\n",
      " |-- vl_fim_comp: decimal(20,2) (nullable = true)\n",
      " |-- nr_lic: integer (nullable = true)\n",
      " |-- cod_ug_lic: integer (nullable = true)\n",
      " |-- nm_ug_lic: string (nullable = true)\n",
      " |-- cod_mod_comp_lic: integer (nullable = true)\n",
      " |-- desc_mod_comp_lic: string (nullable = true)\n",
      "\n"
     ]
    }
   ],
   "source": [
    "compraDF.show(3, False)\n",
    "compraDF.printSchema()"
   ]
  },
  {
   "cell_type": "markdown",
   "id": "f5b4fb40-7bee-4fa6-8580-1c781803f1da",
   "metadata": {},
   "source": [
    "## Criação de Dimensões"
   ]
  },
  {
   "cell_type": "markdown",
   "id": "82efa5e3-a6b3-4aab-a59b-708a01f5bedb",
   "metadata": {},
   "source": [
    "### Dimensão: Orgão Superior"
   ]
  },
  {
   "cell_type": "code",
   "execution_count": 49,
   "id": "a059d7cf-6b14-4a7f-b6c5-896b161dba31",
   "metadata": {},
   "outputs": [
    {
     "name": "stdout",
     "output_type": "stream",
     "text": [
      "+---------------+---------------------------------------------+\n",
      "|cod_dim_org_sup|nm_org_sup                                   |\n",
      "+---------------+---------------------------------------------+\n",
      "|15000          |Justiça do Trabalho                          |\n",
      "|20000          |Presidência da República                     |\n",
      "|22000          |Ministério da Agricultura, Pecuária e Abastec|\n",
      "|24000          |Ministério da Ciência, Tecnologia, Inovações |\n",
      "|25000          |Ministério da Economia                       |\n",
      "|26000          |Ministério da Educação                       |\n",
      "|30000          |Ministério da Justiça e Segurança Pública    |\n",
      "|32000          |Ministério de Minas e Energia                |\n",
      "|35000          |Ministério das Relações Exteriores           |\n",
      "|36000          |Ministério da Saúde                          |\n",
      "|37000          |Controladoria-Geral da União                 |\n",
      "|39000          |Ministério da Infraestrutura                 |\n",
      "|41000          |Ministério das Comunicações                  |\n",
      "|41000          |MINISTERIO DAS COMUNICACOES                  |\n",
      "|44000          |Ministério do Meio Ambiente                  |\n",
      "|52000          |Ministério da Defesa                         |\n",
      "|53000          |Ministério do Desenvolvimento Regional       |\n",
      "|54000          |Ministério do Turismo                        |\n",
      "|55000          |Ministério da Cidadania                      |\n",
      "|63000          |Advocacia-Geral da União                     |\n",
      "+---------------+---------------------------------------------+\n",
      "only showing top 20 rows\n",
      "\n"
     ]
    }
   ],
   "source": [
    "dimOrgSupDF = compraDF.select(F.col(\"cod_org_sup\").alias(\"cod_dim_org_sup\"), \"nm_org_sup\")\\\n",
    "                      .distinct()\\\n",
    "                      .sort(\"cod_dim_org_sup\")\n",
    "\n",
    "dimOrgSupDF.show(truncate = False)"
   ]
  },
  {
   "cell_type": "markdown",
   "id": "65ec2b0d-14a3-4e62-b638-6e8d169b6c19",
   "metadata": {},
   "source": [
    "### Dimensão Modalidade Compra"
   ]
  },
  {
   "cell_type": "code",
   "execution_count": 50,
   "id": "ad26ed48-7899-403d-b6ac-9fe0634bb497",
   "metadata": {},
   "outputs": [
    {
     "name": "stdout",
     "output_type": "stream",
     "text": [
      "+----------------+--------------------------------+\n",
      "|cod_dim_mod_comp|nm_mod_comp                     |\n",
      "+----------------+--------------------------------+\n",
      "|1               |Concorrência                    |\n",
      "|2               |Concorrência - Registro de Preço|\n",
      "|3               |Concorrência Internacional      |\n",
      "|4               |Convite                         |\n",
      "|5               |Dispensa de Licitação           |\n",
      "|6               |Inexigibilidade de Licitação    |\n",
      "|7               |Pregão                          |\n",
      "|8               |Pregão - Registro de Preço      |\n",
      "|9               |Sem Informação                  |\n",
      "|10              |Tomada de Preços                |\n",
      "+----------------+--------------------------------+\n",
      "\n"
     ]
    }
   ],
   "source": [
    "dimModalidadeCompraDF = compraDF.select(\"mod_comp\")\\\n",
    "                                .distinct()\\\n",
    "                                .sort(\"mod_comp\")\\\n",
    "                                .withColumn(\"cod_dim_mod_comp\", F.monotonically_increasing_id()+1)\\\n",
    "                                .select(\"cod_dim_mod_comp\", F.col(\"mod_comp\").alias(\"nm_mod_comp\"))\n",
    "\n",
    "dimModalidadeCompraDF.show(truncate=False)"
   ]
  },
  {
   "cell_type": "markdown",
   "id": "98da7863-dc83-4ff2-b13f-3111f8000228",
   "metadata": {},
   "source": [
    "### Dimensão Tempo"
   ]
  },
  {
   "cell_type": "code",
   "execution_count": 51,
   "id": "d35a9f15-0484-4efc-8840-4cd62a6e4027",
   "metadata": {},
   "outputs": [
    {
     "name": "stdout",
     "output_type": "stream",
     "text": [
      "+------------+----------------+----------------+------------+------------+------------+------------+----+-----------+-----------+-----------+\n",
      "|cod_dim_data|dia_semana_reduz|dia_semana_compl|nm_mes_reduz|nm_mes_compl|nm_tri_reduz|nm_tri_compl| ano|sig_mes_ano|num_mes_ano|ano_num_mes|\n",
      "+------------+----------------+----------------+------------+------------+------------+------------+----+-----------+-----------+-----------+\n",
      "|  2005-01-01|             Sáb|          Sábado|         jan|     Janeiro|          T1|1º trimestre|2005|   jan/2005|    01/2005|     200501|\n",
      "|  2005-02-01|             Ter|     Terça-feira|         fev|   Fevereiro|          T1|1º trimestre|2005|   fev/2005|    02/2005|     200502|\n",
      "|  2005-03-01|             Ter|     Terça-feira|         mar|       Março|          T1|1º trimestre|2005|   mar/2005|    03/2005|     200503|\n",
      "|  2005-04-01|             Sex|     Sexta-feira|         abr|       Abril|          T2|2º trimestre|2005|   abr/2005|    04/2005|     200504|\n",
      "|  2005-05-01|             Dom|         Domingo|         mai|        Maio|          T2|2º trimestre|2005|   mai/2005|    05/2005|     200505|\n",
      "+------------+----------------+----------------+------------+------------+------------+------------+----+-----------+-----------+-----------+\n",
      "only showing top 5 rows\n",
      "\n"
     ]
    }
   ],
   "source": [
    "dimTempoDF = spark.range(7000)\\\n",
    "                  .withColumn(\"dataIni\", F.to_date(F.lit(\"01/01/2005\"), \"dd/MM/yyyy\"))\\\n",
    "                  .withColumn(\"dia\", F.col(\"id\").cast(IntegerType()))\\\n",
    "                  .selectExpr(\"date_add(dataIni, dia) data\", \"dataIni\",\"dia\")\\\n",
    "                  .where(F.dayofmonth(F.col(\"data\")) == 1)\\\n",
    "                  .select(\n",
    "                              F.col(\"data\").alias(\"cod_dim_data\"),\n",
    "                              F.to_csv(F.struct(F.col(\"data\")), {'dateFormat':'E', 'locale':'PT-BR'}).alias(\"dia_semana_reduz\"),\n",
    "                              F.to_csv(F.struct(F.col(\"data\")), {'dateFormat':'EEEE', 'locale':'PT-BR'}).alias(\"dia_semana_compl\"),\n",
    "                              F.to_csv(F.struct(F.col(\"data\")), {'dateFormat':'MMM', 'locale':'PT-BR'}).alias(\"nm_mes_reduz\"),\n",
    "                              F.to_csv(F.struct(F.col(\"data\")), {'dateFormat':'MMMM', 'locale':'PT-BR'}).alias(\"nm_mes_compl\"),\n",
    "                              F.to_csv(F.struct(F.col(\"data\")), {'dateFormat':'QQQ', 'locale':'PT-BR'}).alias(\"nm_tri_reduz\"),\n",
    "                              F.to_csv(F.struct(F.col(\"data\")), {'dateFormat':'QQQQ', 'locale':'PT-BR'}).alias(\"nm_tri_compl\"),\n",
    "                              F.year(F.col(\"data\")).alias(\"ano\"),\n",
    "                              F.concat_ws(\"/\",F.to_csv(F.struct(F.col(\"data\")), {'dateFormat':'MMM', 'locale':'PT-BR'}),F.year(F.col(\"data\"))).alias(\"sig_mes_ano\"),\n",
    "                              F.concat_ws(\"/\",F.date_format(F.col(\"data\"), \"MM\"),F.year(col(\"data\"))).alias(\"num_mes_ano\"),\n",
    "                              F.concat_ws(\"\",F.year(F.col(\"data\")), F.date_format(col(\"data\"), \"MM\")).alias(\"ano_num_mes\")\n",
    "                         )\n",
    "\n",
    "\n",
    "\n",
    "dimTempoDF.show(5)"
   ]
  },
  {
   "cell_type": "markdown",
   "id": "0e7dd9ee-a2c3-492d-bf9d-704df58505f9",
   "metadata": {},
   "source": [
    "### Criação da Tabela Fato"
   ]
  },
  {
   "cell_type": "markdown",
   "id": "4f98fbff-72c4-47fd-b904-bd5d47b356d3",
   "metadata": {},
   "source": [
    "Granularidade por mês"
   ]
  },
  {
   "cell_type": "markdown",
   "id": "38914fe6-26de-490a-a1b0-79cd4f354af0",
   "metadata": {},
   "source": [
    "Tratamento de Dados"
   ]
  },
  {
   "cell_type": "code",
   "execution_count": 52,
   "id": "5bbd512a-a90a-4906-b100-be2df98cc4c3",
   "metadata": {},
   "outputs": [
    {
     "name": "stdout",
     "output_type": "stream",
     "text": [
      "+---------------+----------------+------------+----------+-----------+\n",
      "|cod_dim_org_sup|cod_dim_mod_comp|cod_dim_data|in_dif_vlr|vl_fim_comp|\n",
      "+---------------+----------------+------------+----------+-----------+\n",
      "|          26000|               5|  2019-12-01|         0|  230559.60|\n",
      "|          52000|               8|  2020-01-01|         0|    6000.00|\n",
      "|          26000|               7|  2020-01-01|         0|   17000.00|\n",
      "|          52000|               6|  2019-12-01|         1|  400000.00|\n",
      "|          39000|               7|  2020-01-01|         0|  416143.91|\n",
      "+---------------+----------------+------------+----------+-----------+\n",
      "only showing top 5 rows\n",
      "\n"
     ]
    }
   ],
   "source": [
    "cpDF = compraDF.select(\"cod_org_sup\",\n",
    "                       \"mod_comp\",\n",
    "                       \"dt_ass_cont\",\n",
    "                       \"vl_ini_comp\",\n",
    "                       \"vl_fim_comp\"\n",
    "                      )\\\n",
    "               .withColumn(\"cod_dim_data\", F.trunc(F.col(\"dt_ass_cont\"),\"Month\"))\n",
    "                                        \n",
    "\n",
    "\n",
    "\n",
    "exprJoinFT = (dimModalidadeCompraDF.nm_mod_comp == cpDF[\"mod_comp\"])\n",
    "\n",
    "\n",
    "\n",
    "completoDF = cpDF.join(dimModalidadeCompraDF, exprJoinFT, \"left\")\\\n",
    "                 .withColumn(\"in_dif_vlr\", (F.col(\"vl_ini_comp\") != F.col(\"vl_fim_comp\")).cast(IntegerType()))\\\n",
    "                 .select(\n",
    "                        F.col(\"cod_org_sup\").alias(\"cod_dim_org_sup\"),\n",
    "                        \"cod_dim_mod_comp\",\n",
    "                        \"cod_dim_data\",\n",
    "                        \"in_dif_vlr\",\n",
    "                        \"vl_fim_comp\"\n",
    "                     )\n",
    "\n",
    "\n",
    "\n",
    "completoDF.show(5)"
   ]
  },
  {
   "cell_type": "markdown",
   "id": "7d032c7c-73ee-43fd-8704-388a0f80dea2",
   "metadata": {},
   "source": [
    "### Aplicação dos Métodos groupBy e agg Para Criação da Tabela Fato"
   ]
  },
  {
   "cell_type": "code",
   "execution_count": 53,
   "id": "0b80a80e-0df5-43b7-a5c6-0d2a2b000551",
   "metadata": {},
   "outputs": [
    {
     "name": "stdout",
     "output_type": "stream",
     "text": [
      "+---------------+----------------+------------+--------+------------+------------+--------------+\n",
      "|cod_dim_org_sup|cod_dim_mod_comp|cod_dim_data|qtd_comp|qtd_dif_vlrs|vlr_ttl_comp|  med_ttl_comp|\n",
      "+---------------+----------------+------------+--------+------------+------------+--------------+\n",
      "|          25000|               8|  2019-07-01|       1|           1|    35280.00|  35280.000000|\n",
      "|          26000|               9|  2020-02-01|       9|           0| 14217685.12|1579742.791111|\n",
      "|          25000|               6|  2019-04-01|       2|           0|   135148.13|  67574.065000|\n",
      "|          22000|               6|  2020-06-01|       5|           0|  4336976.13| 867395.226000|\n",
      "|          26000|               2|  2020-03-01|       1|           0|   523662.35| 523662.350000|\n",
      "+---------------+----------------+------------+--------+------------+------------+--------------+\n",
      "only showing top 5 rows\n",
      "\n"
     ]
    }
   ],
   "source": [
    "fatoCompraDF = completoDF.groupBy(\"cod_dim_org_sup\", \"cod_dim_mod_comp\", \"cod_dim_data\")\\\n",
    "                         .agg(\n",
    "                                F.count(\"*\").alias(\"qtd_comp\"),\n",
    "                                F.sum(\"in_dif_vlr\").alias(\"qtd_dif_vlrs\"),\n",
    "                                F.sum(\"vl_fim_comp\").alias(\"vlr_ttl_comp\"),\n",
    "                                F.avg(\"vl_fim_comp\").alias(\"med_ttl_comp\")\n",
    "                             )\n",
    "\n",
    "\n",
    "fatoCompraDF.show(5)"
   ]
  },
  {
   "cell_type": "markdown",
   "id": "e1902147-e217-42ed-b1c3-bdf46bf47e3e",
   "metadata": {},
   "source": [
    "Fazer esse trabalho em outro notebook - Pois é muito extenso."
   ]
  },
  {
   "cell_type": "markdown",
   "id": "ee1895b3-81b6-4d49-90b9-6d4156265e4e",
   "metadata": {},
   "source": [
    "completoExrcDF.join(dimUGCompletoDF,[\"cod_dim_ug\"],\"left\")\\\n",
    "              .join(dimTempoDF,[\"cod_dim_data\"],\"left\")\\\n",
    "              .where(\"ano = 2018 and nm_tri_reduz='T3' \").show()"
   ]
  },
  {
   "cell_type": "markdown",
   "id": "449a5b8b-bb38-43d7-8672-ae8df46b4221",
   "metadata": {},
   "source": [
    "## Criação do Cubo OLAP"
   ]
  },
  {
   "cell_type": "markdown",
   "id": "8f516039-4183-44a3-b783-f01e6a4ad341",
   "metadata": {},
   "source": [
    "Cubo OLAP é interessante para fazer consultas rápidas, mas é feita uma análise combinatótia com todas as possibilidades. o que aumenta muito a necessidade de armazenamento."
   ]
  },
  {
   "cell_type": "code",
   "execution_count": 55,
   "id": "7cef8e8b-2674-47ac-82d7-e1cb2f2fec37",
   "metadata": {},
   "outputs": [
    {
     "name": "stdout",
     "output_type": "stream",
     "text": [
      "+----------------+---------------+------------+------------+-----------+----+--------+------------+------------+--------------+----------+--------------------+\n",
      "|cod_dim_mod_comp|cod_dim_org_sup|nm_mes_reduz|nm_tri_reduz|num_mes_ano| ano|qtd_comp|qtd_dif_vlrs|vlr_ttl_comp|  med_ttl_comp|nm_org_sup|         nm_mod_comp|\n",
      "+----------------+---------------+------------+------------+-----------+----+--------+------------+------------+--------------+----------+--------------------+\n",
      "|               1|           null|        null|        null|    01/2020|null|      23|           4| 88096617.27|3830287.707391|      null|        Concorrência|\n",
      "|               2|           null|        null|        null|    01/2020|null|       1|           0|   475400.00| 475400.000000|      null|Concorrência - Re...|\n",
      "|               3|           null|        null|        null|    01/2020|null|       1|           0|   290232.94| 290232.940000|      null|Concorrência Inte...|\n",
      "|               4|           null|        null|        null|    01/2020|null|      13|           4|  1562601.74| 120200.133846|      null|             Convite|\n",
      "|               5|           null|        null|        null|    01/2020|null|     402|          32|711322616.46|1769459.244925|      null|Dispensa de Licit...|\n",
      "|               6|           null|        null|        null|    01/2020|null|     216|          10|181281412.02| 839265.796389|      null|Inexigibilidade d...|\n",
      "|               7|           null|        null|        null|    01/2020|null|     674|          98|671602142.25| 996442.347552|      null|              Pregão|\n",
      "|               8|           null|        null|        null|    01/2020|null|     757|          27|397249853.37| 524768.630608|      null|Pregão - Registro...|\n",
      "|               9|           null|        null|        null|    01/2020|null|     230|          15|584006675.71|2539159.459609|      null|      Sem Informação|\n",
      "|              10|           null|        null|        null|    01/2020|null|      86|          34| 59812127.77| 695489.857791|      null|    Tomada de Preços|\n",
      "+----------------+---------------+------------+------------+-----------+----+--------+------------+------------+--------------+----------+--------------------+\n",
      "\n"
     ]
    },
    {
     "data": {
      "text/plain": [
       "16607"
      ]
     },
     "execution_count": 55,
     "metadata": {},
     "output_type": "execute_result"
    }
   ],
   "source": [
    "cuboCompraDF = completoDF.join(dimTempoDF, [\"cod_dim_data\"], \"left\")\\\n",
    "                         .cube(\n",
    "                                \"cod_dim_org_sup\",\n",
    "                                \"cod_dim_mod_comp\",\n",
    "                                \"nm_mes_reduz\",\n",
    "                                \"nm_tri_reduz\",\n",
    "                                \"num_mes_ano\",\n",
    "                                \"ano\"\n",
    "                              )\\\n",
    "                         .agg(\n",
    "                                F.count(\"*\").alias(\"qtd_comp\"),\n",
    "                                F.sum(\"in_dif_vlr\").alias(\"qtd_dif_vlrs\"),\n",
    "                                F.sum(\"vl_fim_comp\").alias(\"vlr_ttl_comp\"),\n",
    "                                F.avg(\"vl_fim_comp\").alias(\"med_ttl_comp\")\n",
    "                             )\\\n",
    "                         .sort(\n",
    "                                \"cod_dim_org_sup\",\n",
    "                                \"cod_dim_mod_comp\",\n",
    "                                \"nm_mes_reduz\",\n",
    "                                \"nm_tri_reduz\",\n",
    "                                \"num_mes_ano\",\n",
    "                                \"ano\"\n",
    "                              )\\\n",
    "                         .join(dimOrgSupDF, [\"cod_dim_org_sup\"], \"left\")\\\n",
    "                         .join(dimModalidadeCompraDF, [\"cod_dim_mod_comp\"], \"left\")\n",
    "\n",
    "cuboCompraDF.where(F.expr(\n",
    "                   \"\"\"\n",
    "                            cod_dim_org_sup is null\n",
    "                        and cod_dim_mod_comp is not null\n",
    "                        and nm_mes_reduz is null\n",
    "                        and nm_tri_reduz is null\n",
    "                        and num_mes_ano = '01/2020'\n",
    "                        and ano is null\n",
    "                   \"\"\")\n",
    "                  )\\\n",
    "        .show(100)\n",
    "\n",
    "cuboCompraDF.count()"
   ]
  },
  {
   "cell_type": "code",
   "execution_count": 56,
   "id": "845f77c8-ad1e-47d4-8adc-6dfd26ca65ad",
   "metadata": {},
   "outputs": [
    {
     "name": "stderr",
     "output_type": "stream",
     "text": [
      "[Stage 286:>                                                        (0 + 1) / 1]\r"
     ]
    },
    {
     "name": "stdout",
     "output_type": "stream",
     "text": [
      "+----------------+---------------+------------+------------+-----------+----+--------+------------+------------+---------------+--------------------+------------+\n",
      "|cod_dim_mod_comp|cod_dim_org_sup|nm_mes_reduz|nm_tri_reduz|num_mes_ano| ano|qtd_comp|qtd_dif_vlrs|vlr_ttl_comp|   med_ttl_comp|          nm_org_sup| nm_mod_comp|\n",
      "+----------------+---------------+------------+------------+-----------+----+--------+------------+------------+---------------+--------------------+------------+\n",
      "|               1|          36000|         mar|          T1|    03/2020|2020|       1|           1|  2948887.93| 2948887.930000| Ministério da Saúde|Concorrência|\n",
      "|               1|          54000|        null|          T1|    01/2020|2020|       3|           0|  8934265.79| 2978088.596667|Ministério do Tur...|Concorrência|\n",
      "|               1|          39000|        null|          T2|       null|2020|       1|           1|  5617410.14| 5617410.140000|Ministério da Inf...|Concorrência|\n",
      "|               1|           null|        null|        null|    06/2020|2020|       3|           0|  6699639.09| 2233213.030000|                null|Concorrência|\n",
      "|               1|          39000|         abr|        null|    04/2020|2020|       1|           1|  5617410.14| 5617410.140000|Ministério da Inf...|Concorrência|\n",
      "|               1|          54000|        null|        null|       null|2020|       3|           0|  8934265.79| 2978088.596667|Ministério do Tur...|Concorrência|\n",
      "|               1|           null|         mar|        null|    03/2020|2020|       6|           3| 32063640.29| 5343940.048333|                null|Concorrência|\n",
      "|               1|          52000|         jan|        null|    01/2020|2020|       7|           2| 44139625.85| 6305660.835714|Ministério da Defesa|Concorrência|\n",
      "|               1|          52000|        null|        null|    06/2020|2020|       3|           0|  6699639.09| 2233213.030000|Ministério da Defesa|Concorrência|\n",
      "|               1|          25000|         mai|        null|    05/2020|2020|       1|           0| 48649029.00|48649029.000000|Ministério da Eco...|Concorrência|\n",
      "|               1|          52000|         abr|        null|       null|2020|       3|           0| 10737297.06| 3579099.020000|Ministério da Defesa|Concorrência|\n",
      "|               1|          30000|         mai|        null|    05/2020|2020|       1|           0|  7875396.04| 7875396.040000|Ministério da Jus...|Concorrência|\n",
      "|               1|          36000|         abr|        null|       null|2020|       1|           0|  1400960.75| 1400960.750000| Ministério da Saúde|Concorrência|\n",
      "|               1|          39000|         abr|        null|       null|2020|       1|           1|  5617410.14| 5617410.140000|Ministério da Inf...|Concorrência|\n",
      "|               1|          26000|         fev|          T1|       null|2020|       3|           1| 10342833.79| 3447611.263333|Ministério da Edu...|Concorrência|\n",
      "|               1|          52000|        null|          T1|    02/2020|2020|       2|           0|  8907975.20| 4453987.600000|Ministério da Defesa|Concorrência|\n",
      "|               1|           null|         jan|          T1|       null|2020|      23|           4| 88096617.27| 3830287.707391|                null|Concorrência|\n",
      "|               1|           null|         fev|          T1|    02/2020|2020|       5|           1| 19250808.99| 3850161.798000|                null|Concorrência|\n",
      "|               1|          53000|        null|        null|       null|2020|       1|           0|  5264755.60| 5264755.600000|Ministério do Des...|Concorrência|\n",
      "|               1|          26000|         jan|        null|    01/2020|2020|      12|           1| 27943011.99| 2328584.332500|Ministério da Edu...|Concorrência|\n",
      "+----------------+---------------+------------+------------+-----------+----+--------+------------+------------+---------------+--------------------+------------+\n",
      "only showing top 20 rows\n",
      "\n"
     ]
    },
    {
     "name": "stderr",
     "output_type": "stream",
     "text": [
      "                                                                                \r"
     ]
    }
   ],
   "source": [
    "cuboCompraDF.where(\"ano = 2020 and nm_mod_comp='Concorrência'\").show()"
   ]
  },
  {
   "cell_type": "code",
   "execution_count": 63,
   "id": "09c9fa1a-50ff-4519-889e-c6d71dc0c080",
   "metadata": {},
   "outputs": [
    {
     "name": "stderr",
     "output_type": "stream",
     "text": [
      "[Stage 427:>                                                        (0 + 1) / 1]\r"
     ]
    },
    {
     "name": "stdout",
     "output_type": "stream",
     "text": [
      "+----------------+---------------+------------+------------+-----------+----+--------+------------+-------------+--------------+--------------------+-----------+\n",
      "|cod_dim_mod_comp|cod_dim_org_sup|nm_mes_reduz|nm_tri_reduz|num_mes_ano| ano|qtd_comp|qtd_dif_vlrs| vlr_ttl_comp|  med_ttl_comp|          nm_org_sup|nm_mod_comp|\n",
      "+----------------+---------------+------------+------------+-----------+----+--------+------------+-------------+--------------+--------------------+-----------+\n",
      "|               7|          26000|        null|          T1|       null|2020|     381|          70| 275418171.97| 722882.341129|Ministério da Edu...|     Pregão|\n",
      "|               7|           null|         jan|          T1|       null|2020|     674|          98| 671602142.25| 996442.347552|                null|     Pregão|\n",
      "|               7|           null|        null|          T1|       null|2020|    1460|         195|2050997534.52|1404792.831863|                null|     Pregão|\n",
      "|               7|           null|        null|          T1|    01/2020|2020|     674|          98| 671602142.25| 996442.347552|                null|     Pregão|\n",
      "|               7|           null|         jan|          T1|    01/2020|2020|     674|          98| 671602142.25| 996442.347552|                null|     Pregão|\n",
      "+----------------+---------------+------------+------------+-----------+----+--------+------------+-------------+--------------+--------------------+-----------+\n",
      "\n"
     ]
    },
    {
     "name": "stderr",
     "output_type": "stream",
     "text": [
      "                                                                                \r"
     ]
    }
   ],
   "source": [
    "cuboCompraDF.where(\"ano = 2020 AND qtd_comp >= 3  AND nm_tri_reduz='T1' AND qtd_dif_vlrs > 50 AND nm_mod_comp = 'Pregão'\").show()"
   ]
  },
  {
   "cell_type": "markdown",
   "id": "1ad8999c-ba29-48b0-9581-7ac257c039eb",
   "metadata": {},
   "source": [
    "### Biblioteca Window"
   ]
  },
  {
   "cell_type": "code",
   "execution_count": 65,
   "id": "4f15b557-8b68-4230-9607-a63e64146b1c",
   "metadata": {},
   "outputs": [
    {
     "name": "stdout",
     "output_type": "stream",
     "text": [
      "+-------+-----------+-----------+----------------+----------+--------------+-----------+\n",
      "|nr_cont|dt_ass_cont|vl_fim_comp|num_linha_compra|ttl_compra|  med_vlr_comp|vl_fim_comp|\n",
      "+-------+-----------+-----------+----------------+----------+--------------+-----------+\n",
      "|  12017| 2017-08-23|  181630.29|               1|         2|  93617.565000|  181630.29|\n",
      "|  12018| 2018-12-31|  240000.00|               1|         5| 127432.400000|  240000.00|\n",
      "|  12018| 2020-01-06|  300000.00|               3|         5| 127432.400000|  300000.00|\n",
      "|  12019| 2019-12-30| 3973000.00|               3|        38| 588064.347368| 3973000.00|\n",
      "|  12019| 2020-01-07|  728058.36|               5|        38| 588064.347368|  728058.36|\n",
      "|  12019| 2019-12-27| 6371351.36|               6|        38| 588064.347368| 6371351.36|\n",
      "|  12019| 2019-11-26| 1023718.08|              10|        38| 588064.347368| 1023718.08|\n",
      "|  12019| 2019-12-26| 2000000.00|              11|        38| 588064.347368| 2000000.00|\n",
      "|  12019| 2018-09-11| 2322242.40|              19|        38| 588064.347368| 2322242.40|\n",
      "|  12019| 2020-03-16|  650000.00|              22|        38| 588064.347368|  650000.00|\n",
      "|  12019| 2019-11-18|  797409.50|              31|        38| 588064.347368|  797409.50|\n",
      "|  12019| 2019-01-01|  900000.00|              32|        38| 588064.347368|  900000.00|\n",
      "|  12020| 2020-01-17| 1260000.00|              24|      1081|1186489.256420| 1260000.00|\n",
      "|  12020| 2020-01-06| 1246379.59|              35|      1081|1186489.256420| 1246379.59|\n",
      "|  12020| 2020-01-13| 1754326.55|              44|      1081|1186489.256420| 1754326.55|\n",
      "|  12020| 2020-01-23| 2703065.44|              57|      1081|1186489.256420| 2703065.44|\n",
      "|  12020| 2020-01-20| 7220864.38|              58|      1081|1186489.256420| 7220864.38|\n",
      "|  12020| 2020-01-07| 7343540.97|              60|      1081|1186489.256420| 7343540.97|\n",
      "|  12020| 2020-01-20|10459000.00|              61|      1081|1186489.256420|10459000.00|\n",
      "|  12020| 2020-01-23| 2232000.00|              71|      1081|1186489.256420| 2232000.00|\n",
      "|  12020| 2020-01-13| 1220340.06|              72|      1081|1186489.256420| 1220340.06|\n",
      "|  12020| 2020-01-14| 3897197.74|              73|      1081|1186489.256420| 3897197.74|\n",
      "|  12020| 2020-01-15| 3739893.75|              88|      1081|1186489.256420| 3739893.75|\n",
      "|  12020| 2020-01-10| 1500518.05|              90|      1081|1186489.256420| 1500518.05|\n",
      "|  12020| 2019-12-26| 7330545.02|              91|      1081|1186489.256420| 7330545.02|\n",
      "|  12020| 2020-01-02| 1565189.84|              95|      1081|1186489.256420| 1565189.84|\n",
      "|  12020| 2020-01-15| 2499589.18|             112|      1081|1186489.256420| 2499589.18|\n",
      "|  12020| 2020-01-23| 2621855.47|             115|      1081|1186489.256420| 2621855.47|\n",
      "|  12020| 2020-01-13| 1225296.38|             139|      1081|1186489.256420| 1225296.38|\n",
      "|  12020| 2020-01-09| 6908825.80|             147|      1081|1186489.256420| 6908825.80|\n",
      "|  12020| 2020-01-03| 1335399.78|             148|      1081|1186489.256420| 1335399.78|\n",
      "|  12020| 2020-01-02| 1289698.80|             153|      1081|1186489.256420| 1289698.80|\n",
      "|  12020| 2020-01-13| 7141692.51|             161|      1081|1186489.256420| 7141692.51|\n",
      "|  12020| 2020-01-07| 1847234.19|             169|      1081|1186489.256420| 1847234.19|\n",
      "|  12020| 2020-01-06| 2135658.29|             170|      1081|1186489.256420| 2135658.29|\n",
      "|  12020| 2020-01-07| 1379998.08|             172|      1081|1186489.256420| 1379998.08|\n",
      "|  12020| 2020-01-27| 1194716.10|             175|      1081|1186489.256420| 1194716.10|\n",
      "|  12020| 2020-01-07| 1529469.75|             177|      1081|1186489.256420| 1529469.75|\n",
      "|  12020| 2020-01-20| 8449811.54|             184|      1081|1186489.256420| 8449811.54|\n",
      "|  12020| 2020-01-09|38809936.00|             190|      1081|1186489.256420|38809936.00|\n",
      "|  12020| 2020-01-02| 5631400.00|             195|      1081|1186489.256420| 5631400.00|\n",
      "|  12020| 2020-01-15| 1559217.23|             198|      1081|1186489.256420| 1559217.23|\n",
      "|  12020| 2020-01-13| 5841093.35|             200|      1081|1186489.256420| 5841093.35|\n",
      "|  12020| 2020-01-06| 6501954.94|             201|      1081|1186489.256420| 6501954.94|\n",
      "|  12020| 2020-01-02| 1680000.00|             207|      1081|1186489.256420| 1680000.00|\n",
      "|  12020| 2020-01-06| 1320350.83|             211|      1081|1186489.256420| 1320350.83|\n",
      "|  12020| 2020-01-15| 1676646.60|             241|      1081|1186489.256420| 1676646.60|\n",
      "|  12020| 2020-01-27| 1199268.76|             247|      1081|1186489.256420| 1199268.76|\n",
      "|  12020| 2020-01-29| 1353300.00|             253|      1081|1186489.256420| 1353300.00|\n",
      "|  12020| 2020-01-07| 3706605.04|             259|      1081|1186489.256420| 3706605.04|\n",
      "+-------+-----------+-----------+----------------+----------+--------------+-----------+\n",
      "only showing top 50 rows\n",
      "\n"
     ]
    }
   ],
   "source": [
    "from pyspark.sql.window import Window\n",
    "\n",
    "jan01 = Window.partitionBy(\"nr_cont\").orderBy(\"nr_cont\")\n",
    "\n",
    "\n",
    "compraComWindow01DF = compraDF.withColumn(\"num_linha_compra\", F.row_number().over(jan01))\\\n",
    "                              .withColumn(\"ttl_compra\", F.count(\"*\").over(jan01))\\\n",
    "                              .withColumn(\"med_vlr_comp\", F.avg(\"vl_fim_comp\").over(jan01))\\\n",
    "                              .where(\"nr_cont <> 112020\")\\\n",
    "                              .where(\"med_vlr_comp < vl_fim_comp\")\n",
    "                              \n",
    "\n",
    "compraComWindow01DF.select(\"nr_cont\",\n",
    "                           \"dt_ass_cont\",\n",
    "                           \"vl_fim_comp\",\n",
    "                           \"num_linha_compra\",\n",
    "                           \"ttl_compra\",\n",
    "                           \"med_vlr_comp\",\"vl_fim_comp\").show(50)"
   ]
  },
  {
   "cell_type": "code",
   "execution_count": 66,
   "id": "cd8e1f6b-9a5d-461b-a4b4-f59b25637965",
   "metadata": {},
   "outputs": [
    {
     "name": "stdout",
     "output_type": "stream",
     "text": [
      "+-------+-----------+-----------+-------------+------------+-------------+\n",
      "|nr_cont|dt_ass_cont|vl_fim_comp|soma_vlr_comp|med_vlr_comp|desv_vlr_comp|\n",
      "+-------+-----------+-----------+-------------+------------+-------------+\n",
      "|  12016| 2020-06-03|   32812.80|     32812.80|    32812.80|         0.00|\n",
      "|  12017| 2017-02-15|    5604.84|      5604.84|     5604.84|         0.00|\n",
      "|  12017| 2017-08-23|  181630.29|    187235.13|    93617.57|     88012.73|\n",
      "|  12018| 2018-06-27|   36576.00|     36576.00|    36576.00|         0.00|\n",
      "|  12018| 2018-11-14|   34000.00|     70576.00|    35288.00|      1288.00|\n",
      "|  12018| 2018-12-31|  240000.00|    310576.00|   103525.33|     96507.89|\n",
      "|  12018| 2019-08-14|   26586.00|    337162.00|    84290.50|     89973.70|\n",
      "|  12018| 2020-01-06|  300000.00|    637162.00|   127432.40|    117987.74|\n",
      "|  12019| 2018-09-11| 2322242.40|   2322242.40|  2322242.40|         0.00|\n",
      "|  12019| 2019-01-01|  900000.00|   3222242.40|  1611121.20|    711121.20|\n",
      "+-------+-----------+-----------+-------------+------------+-------------+\n",
      "only showing top 10 rows\n",
      "\n"
     ]
    }
   ],
   "source": [
    "jan02 = Window.partitionBy(\"nr_cont\").orderBy(\"dt_ass_cont\")\n",
    "\n",
    "\n",
    "\n",
    "aux02DF = compraDF.withColumn(\"soma_vlr_comp\", sum(\"vl_fim_comp\").over(jan02))\\\n",
    "                  .withColumn(\"med_vlr_comp\", F.avg(\"vl_fim_comp\").over(jan02).cast(DecimalType(16,2)))\\\n",
    "                  .withColumn(\"desv_vlr_comp\", F.stddev_pop(\"vl_fim_comp\").over(jan02).cast(DecimalType(16,2)))\n",
    "\n",
    "\n",
    "\n",
    "aux02DF.select(\"nr_cont\",\n",
    "               \"dt_ass_cont\",\n",
    "               \"vl_fim_comp\",\n",
    "               \"soma_vlr_comp\",\n",
    "               \"med_vlr_comp\",\n",
    "               \"desv_vlr_comp\").show(10)"
   ]
  },
  {
   "cell_type": "code",
   "execution_count": 67,
   "id": "3367171a-2d5f-465d-9646-4d6ea9d2ba0b",
   "metadata": {
    "jp-MarkdownHeadingCollapsed": true,
    "tags": []
   },
   "outputs": [
    {
     "name": "stdout",
     "output_type": "stream",
     "text": [
      "+-------+-----------+-----------+--------------------+-----------------+-------------+\n",
      "|nr_cont|dt_ass_cont|vl_fim_comp|soma_vlr_acumul_comp|soma_vlr_ttl_comp|perc_evolucao|\n",
      "+-------+-----------+-----------+--------------------+-----------------+-------------+\n",
      "|  12016| 2020-06-03|   32812.80|            32812.80|         32812.80|         1.00|\n",
      "|  12017| 2017-02-15|    5604.84|             5604.84|        187235.13|         0.03|\n",
      "|  12017| 2017-08-23|  181630.29|           187235.13|        187235.13|         1.00|\n",
      "|  12018| 2018-06-27|   36576.00|            36576.00|        637162.00|         0.06|\n",
      "|  12018| 2018-11-14|   34000.00|            70576.00|        637162.00|         0.11|\n",
      "|  12018| 2018-12-31|  240000.00|           310576.00|        637162.00|         0.49|\n",
      "|  12018| 2019-08-14|   26586.00|           337162.00|        637162.00|         0.53|\n",
      "|  12018| 2020-01-06|  300000.00|           637162.00|        637162.00|         1.00|\n",
      "|  12019| 2018-09-11| 2322242.40|          2322242.40|      22346445.20|         0.10|\n",
      "|  12019| 2019-01-01|  900000.00|          3222242.40|      22346445.20|         0.14|\n",
      "+-------+-----------+-----------+--------------------+-----------------+-------------+\n",
      "only showing top 10 rows\n",
      "\n"
     ]
    }
   ],
   "source": [
    "aux02DF = compraDF.withColumn(\"soma_vlr_acumul_comp\", sum(\"vl_fim_comp\").over(jan02).cast(DecimalType(16,2)))\\\n",
    "                  .withColumn(\"soma_vlr_ttl_comp\", sum(\"vl_fim_comp\").over(jan01).cast(DecimalType(16,2)))\\\n",
    "                  .sort(\"nr_cont\", \"dt_ass_cont\")\\\n",
    "                  .withColumn(\"perc_evolucao\", (F.col(\"soma_vlr_acumul_comp\") / F.col(\"soma_vlr_ttl_comp\")).cast(DecimalType(16,2)))\n",
    "\n",
    "\n",
    "\n",
    "aux02DF.select(\"nr_cont\",\n",
    "               \"dt_ass_cont\",\n",
    "               \"vl_fim_comp\",\n",
    "               \"soma_vlr_acumul_comp\",\n",
    "               \"soma_vlr_ttl_comp\",\n",
    "               \"perc_evolucao\").show(10)"
   ]
  },
  {
   "cell_type": "markdown",
   "id": "67056666-561f-4233-9c4f-7d3b78d60748",
   "metadata": {},
   "source": [
    "Exercício 02: utilizar biblioteca Window"
   ]
  },
  {
   "cell_type": "code",
   "execution_count": 78,
   "id": "60bcfc31-9252-42b5-8eb3-462049f4b7e4",
   "metadata": {},
   "outputs": [],
   "source": [
    "from pyspark.sql.window import Window\n",
    "\n",
    "wind = Window.partitionBy(\"nm_org_sup\").orderBy(\"nm_org_sup\")\n",
    "\n",
    "\n",
    "compraComWindowExercDF = compraDF.withColumn(\"reg_compras\", F.row_number().over(wind))\\\n",
    "                              .withColumn(\"med_vlr_comp\", F.avg(\"vl_fim_comp\").over(wind))\\\n",
    "                              .where(\"med_vlr_comp < vl_fim_comp\")\n",
    "                            "
   ]
  },
  {
   "cell_type": "code",
   "execution_count": 86,
   "id": "13935415-a21d-4bc8-ae45-dbc88f5297c2",
   "metadata": {},
   "outputs": [
    {
     "ename": "AssertionError",
     "evalue": "all exprs should be Column",
     "output_type": "error",
     "traceback": [
      "\u001b[0;31m---------------------------------------------------------------------------\u001b[0m",
      "\u001b[0;31mAssertionError\u001b[0m                            Traceback (most recent call last)",
      "Input \u001b[0;32mIn [86]\u001b[0m, in \u001b[0;36m<cell line: 1>\u001b[0;34m()\u001b[0m\n\u001b[0;32m----> 1\u001b[0m \u001b[43mcompraComWindowExercDF\u001b[49m\u001b[38;5;241;43m.\u001b[39;49m\u001b[43magg\u001b[49m\u001b[43m(\u001b[49m\u001b[43m \u001b[49m\u001b[38;5;124;43m\"\u001b[39;49m\u001b[38;5;124;43mnm_org_sup\u001b[39;49m\u001b[38;5;124;43m\"\u001b[39;49m\u001b[43m,\u001b[49m\n\u001b[1;32m      2\u001b[0m \u001b[43m                               \u001b[49m\u001b[38;5;124;43m\"\u001b[39;49m\u001b[38;5;124;43mvl_fim_comp\u001b[39;49m\u001b[38;5;124;43m\"\u001b[39;49m\u001b[43m,\u001b[49m\n\u001b[1;32m      3\u001b[0m \u001b[43m                               \u001b[49m\u001b[38;5;124;43m\"\u001b[39;49m\u001b[38;5;124;43mmed_vlr_comp\u001b[39;49m\u001b[38;5;124;43m\"\u001b[39;49m\u001b[43m,\u001b[49m\n\u001b[1;32m      4\u001b[0m \u001b[43m                               \u001b[49m\u001b[38;5;124;43m\"\u001b[39;49m\u001b[38;5;124;43mvl_fim_comp\u001b[39;49m\u001b[38;5;124;43m\"\u001b[39;49m\u001b[43m,\u001b[49m\n\u001b[1;32m      5\u001b[0m \u001b[43m                               \u001b[49m\u001b[38;5;124;43m\"\u001b[39;49m\u001b[38;5;124;43mreg_compras\u001b[39;49m\u001b[38;5;124;43m\"\u001b[39;49m\u001b[43m)\u001b[49m\\\n\u001b[1;32m      6\u001b[0m                         \u001b[38;5;241m.\u001b[39mshow(\u001b[38;5;241m50\u001b[39m, \u001b[38;5;28;01mFalse\u001b[39;00m)\n",
      "File \u001b[0;32m~/.local/lib/python3.8/site-packages/pyspark/sql/dataframe.py:1832\u001b[0m, in \u001b[0;36mDataFrame.agg\u001b[0;34m(self, *exprs)\u001b[0m\n\u001b[1;32m   1818\u001b[0m \u001b[38;5;28;01mdef\u001b[39;00m \u001b[38;5;21magg\u001b[39m(\u001b[38;5;28mself\u001b[39m, \u001b[38;5;241m*\u001b[39mexprs):\n\u001b[1;32m   1819\u001b[0m     \u001b[38;5;124;03m\"\"\" Aggregate on the entire :class:`DataFrame` without groups\u001b[39;00m\n\u001b[1;32m   1820\u001b[0m \u001b[38;5;124;03m    (shorthand for ``df.groupBy().agg()``).\u001b[39;00m\n\u001b[1;32m   1821\u001b[0m \n\u001b[0;32m   (...)\u001b[0m\n\u001b[1;32m   1830\u001b[0m \u001b[38;5;124;03m    [Row(min(age)=2)]\u001b[39;00m\n\u001b[1;32m   1831\u001b[0m \u001b[38;5;124;03m    \"\"\"\u001b[39;00m\n\u001b[0;32m-> 1832\u001b[0m     \u001b[38;5;28;01mreturn\u001b[39;00m \u001b[38;5;28;43mself\u001b[39;49m\u001b[38;5;241;43m.\u001b[39;49m\u001b[43mgroupBy\u001b[49m\u001b[43m(\u001b[49m\u001b[43m)\u001b[49m\u001b[38;5;241;43m.\u001b[39;49m\u001b[43magg\u001b[49m\u001b[43m(\u001b[49m\u001b[38;5;241;43m*\u001b[39;49m\u001b[43mexprs\u001b[49m\u001b[43m)\u001b[49m\n",
      "File \u001b[0;32m~/.local/lib/python3.8/site-packages/pyspark/sql/group.py:117\u001b[0m, in \u001b[0;36mGroupedData.agg\u001b[0;34m(self, *exprs)\u001b[0m\n\u001b[1;32m    114\u001b[0m     jdf \u001b[38;5;241m=\u001b[39m \u001b[38;5;28mself\u001b[39m\u001b[38;5;241m.\u001b[39m_jgd\u001b[38;5;241m.\u001b[39magg(exprs[\u001b[38;5;241m0\u001b[39m])\n\u001b[1;32m    115\u001b[0m \u001b[38;5;28;01melse\u001b[39;00m:\n\u001b[1;32m    116\u001b[0m     \u001b[38;5;66;03m# Columns\u001b[39;00m\n\u001b[0;32m--> 117\u001b[0m     \u001b[38;5;28;01massert\u001b[39;00m \u001b[38;5;28mall\u001b[39m(\u001b[38;5;28misinstance\u001b[39m(c, Column) \u001b[38;5;28;01mfor\u001b[39;00m c \u001b[38;5;129;01min\u001b[39;00m exprs), \u001b[38;5;124m\"\u001b[39m\u001b[38;5;124mall exprs should be Column\u001b[39m\u001b[38;5;124m\"\u001b[39m\n\u001b[1;32m    118\u001b[0m     jdf \u001b[38;5;241m=\u001b[39m \u001b[38;5;28mself\u001b[39m\u001b[38;5;241m.\u001b[39m_jgd\u001b[38;5;241m.\u001b[39magg(exprs[\u001b[38;5;241m0\u001b[39m]\u001b[38;5;241m.\u001b[39m_jc,\n\u001b[1;32m    119\u001b[0m                         _to_seq(\u001b[38;5;28mself\u001b[39m\u001b[38;5;241m.\u001b[39msql_ctx\u001b[38;5;241m.\u001b[39m_sc, [c\u001b[38;5;241m.\u001b[39m_jc \u001b[38;5;28;01mfor\u001b[39;00m c \u001b[38;5;129;01min\u001b[39;00m exprs[\u001b[38;5;241m1\u001b[39m:]]))\n\u001b[1;32m    120\u001b[0m \u001b[38;5;28;01mreturn\u001b[39;00m DataFrame(jdf, \u001b[38;5;28mself\u001b[39m\u001b[38;5;241m.\u001b[39msql_ctx)\n",
      "\u001b[0;31mAssertionError\u001b[0m: all exprs should be Column"
     ]
    }
   ],
   "source": [
    "compraComWindowExercDF.agg( \"nm_org_sup\",\n",
    "                               \"vl_fim_comp\",\n",
    "                               \"med_vlr_comp\",\n",
    "                               \"vl_fim_comp\",\n",
    "                               \"reg_compras\")\\\n",
    "                        .show(50, False)"
   ]
  },
  {
   "cell_type": "code",
   "execution_count": null,
   "id": "ddf56601-649a-491b-b03d-503dbf902401",
   "metadata": {},
   "outputs": [],
   "source": [
    "\n"
   ]
  }
 ],
 "metadata": {
  "kernelspec": {
   "display_name": "Python 3 (ipykernel)",
   "language": "python",
   "name": "python3"
  },
  "language_info": {
   "codemirror_mode": {
    "name": "ipython",
    "version": 3
   },
   "file_extension": ".py",
   "mimetype": "text/x-python",
   "name": "python",
   "nbconvert_exporter": "python",
   "pygments_lexer": "ipython3",
   "version": "3.8.13"
  },
  "toc-autonumbering": true,
  "toc-showcode": false
 },
 "nbformat": 4,
 "nbformat_minor": 5
}
