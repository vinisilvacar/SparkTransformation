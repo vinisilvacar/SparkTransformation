{
 "cells": [
  {
   "cell_type": "markdown",
   "id": "8afb1756-2118-44ff-8b6b-02e0a0e7b3d7",
   "metadata": {
    "tags": []
   },
   "source": [
    "# Importações básicas"
   ]
  },
  {
   "cell_type": "code",
   "execution_count": 1,
   "id": "06bf5cef-58ff-404b-b444-f81ae3653cd1",
   "metadata": {},
   "outputs": [
    {
     "data": {
      "text/html": [
       "<style>pre { white-space: pre !important; }</style>"
      ],
      "text/plain": [
       "<IPython.core.display.HTML object>"
      ]
     },
     "metadata": {},
     "output_type": "display_data"
    }
   ],
   "source": [
    "from pyspark.sql import SparkSession\n",
    "from pyspark.sql.functions import *\n",
    "import pyspark.sql.functions as F\n",
    "\n",
    "\n",
    "from IPython.core.display import HTML\n",
    "display(HTML(\"<style>pre { white-space: pre !important; }</style>\"))"
   ]
  },
  {
   "cell_type": "markdown",
   "id": "ae869793-5ba7-4bf4-a258-0c80d655dc4d",
   "metadata": {},
   "source": [
    "# Iniciar a sessão Spark\n",
    "\n"
   ]
  },
  {
   "cell_type": "code",
   "execution_count": 2,
   "id": "2dbd93d0-93dd-49a3-84c2-3ce7f89c52e0",
   "metadata": {},
   "outputs": [
    {
     "name": "stderr",
     "output_type": "stream",
     "text": [
      "Using Spark's default log4j profile: org/apache/spark/log4j-defaults.properties\n",
      "Setting default log level to \"WARN\".\n",
      "To adjust logging level use sc.setLogLevel(newLevel). For SparkR, use setLogLevel(newLevel).\n",
      "22/09/03 09:45:58 WARN NativeCodeLoader: Unable to load native-hadoop library for your platform... using builtin-java classes where applicable\n"
     ]
    }
   ],
   "source": [
    "spark = SparkSession.builder\\\n",
    "                    .config(\"spark.master\",\"local[*]\")\\\n",
    "                    .appName(\"Tranformações - Aula x\")\\\n",
    "                    .getOrCreate()\n",
    "\n",
    "spark.sparkContext.setLogLevel(\"ERROR\")"
   ]
  },
  {
   "cell_type": "markdown",
   "id": "48601b51-02c2-42fc-8dab-6c08d0101574",
   "metadata": {},
   "source": [
    "# Tranformações de dataframe"
   ]
  },
  {
   "cell_type": "markdown",
   "id": "964f1dfb-4543-46c9-9c7a-a86e6e2849c6",
   "metadata": {},
   "source": [
    "## Criação de dataframe spark"
   ]
  },
  {
   "cell_type": "code",
   "execution_count": 3,
   "id": "c85f754a-4997-4c73-8a0a-157977b125fa",
   "metadata": {},
   "outputs": [],
   "source": [
    "# cria array com o conteúdo a ser posto no dataframe\n",
    "registrosEmpregados = [\n",
    "    (\"Abgail Correa\"     ,\"18/09/1985\",\"F\",\"Engheira de Dados\" ,2,True ,True ,11250.95),\n",
    "    (\"André dos Santos\"  ,\"02/02/1983\",\"M\",\"Assessor RH\"       ,1,False,True ,9846.33),\n",
    "    (\"Bruna Souza\"       ,\"05/12/1994\",\"F\",\"Assessora Vendas\"  ,3,True ,True ,8960.47),\n",
    "    (\"Bernado Nogueira\"  ,\"05/06/1998\",\"M\",\"Assessor de TI\"    ,2,False,True ,9862.32),\n",
    "    (\"Carlos Bonfim\"     ,\"26/01/1979\",None,\"Gerentes de TI\"   ,2,True ,False,21641.84),\n",
    "    (\"Cristina Batista\"  ,\"17/11/1989\",\"F\",\"Cientista de Dados\",2,False,True ,13945.09),\n",
    "    (\"Daniel Silva\"      ,\"12/09/1978\",\"M\",\"Assessor Vendas\"   ,3,True ,True ,9016.14),\n",
    "    (\"Darlene Campos\"    ,\"19/11/1991\",\"F\",\"Gerente de RH\"     ,1,False,False,20365.66),\n",
    "    (\"Fabiana Monteiro\"  ,\"22/04/1988\",\"F\",\"Gerente de Vendas\" ,3,True ,False,15360.70),\n",
    "    (\"Francisco Oliveira\",\"19/01/1989\",None,\"Analista de Dados\",2,False,True ,10563.61)\n",
    "]\n",
    "\n",
    "colunas = [\"nome\",\"data_nasc\",\"sexo\",\"func\",\"setor\",\"ind_prev_priv\",\"ind_ponto_elt\",\"sal_bruto\"]\n",
    "\n",
    "empDF = spark.createDataFrame(registrosEmpregados).toDF(*colunas)"
   ]
  },
  {
   "cell_type": "code",
   "execution_count": 4,
   "id": "ce39b9d7-7603-41b0-a848-6b5cdc93f9cd",
   "metadata": {},
   "outputs": [
    {
     "name": "stderr",
     "output_type": "stream",
     "text": [
      "[Stage 0:>                                                          (0 + 1) / 1]\r"
     ]
    },
    {
     "name": "stdout",
     "output_type": "stream",
     "text": [
      "+------------------+----------+----+------------------+-----+-------------+-------------+---------+\n",
      "|              nome| data_nasc|sexo|              func|setor|ind_prev_priv|ind_ponto_elt|sal_bruto|\n",
      "+------------------+----------+----+------------------+-----+-------------+-------------+---------+\n",
      "|     Abgail Correa|18/09/1985|   F| Engheira de Dados|    2|         true|         true| 11250.95|\n",
      "|  André dos Santos|02/02/1983|   M|       Assessor RH|    1|        false|         true|  9846.33|\n",
      "|       Bruna Souza|05/12/1994|   F|  Assessora Vendas|    3|         true|         true|  8960.47|\n",
      "|  Bernado Nogueira|05/06/1998|   M|    Assessor de TI|    2|        false|         true|  9862.32|\n",
      "|     Carlos Bonfim|26/01/1979|null|    Gerentes de TI|    2|         true|        false| 21641.84|\n",
      "|  Cristina Batista|17/11/1989|   F|Cientista de Dados|    2|        false|         true| 13945.09|\n",
      "|      Daniel Silva|12/09/1978|   M|   Assessor Vendas|    3|         true|         true|  9016.14|\n",
      "|    Darlene Campos|19/11/1991|   F|     Gerente de RH|    1|        false|        false| 20365.66|\n",
      "|  Fabiana Monteiro|22/04/1988|   F| Gerente de Vendas|    3|         true|        false|  15360.7|\n",
      "|Francisco Oliveira|19/01/1989|null| Analista de Dados|    2|        false|         true| 10563.61|\n",
      "+------------------+----------+----+------------------+-----+-------------+-------------+---------+\n",
      "\n"
     ]
    },
    {
     "name": "stderr",
     "output_type": "stream",
     "text": [
      "                                                                                \r"
     ]
    }
   ],
   "source": [
    "empDF.show()"
   ]
  },
  {
   "cell_type": "code",
   "execution_count": 5,
   "id": "9b9d9e02-d77d-4156-94d0-aaa7bbf84689",
   "metadata": {},
   "outputs": [
    {
     "name": "stdout",
     "output_type": "stream",
     "text": [
      "root\n",
      " |-- nome: string (nullable = true)\n",
      " |-- data_nasc: string (nullable = true)\n",
      " |-- sexo: string (nullable = true)\n",
      " |-- func: string (nullable = true)\n",
      " |-- setor: long (nullable = true)\n",
      " |-- ind_prev_priv: boolean (nullable = true)\n",
      " |-- ind_ponto_elt: boolean (nullable = true)\n",
      " |-- sal_bruto: double (nullable = true)\n",
      "\n"
     ]
    }
   ],
   "source": [
    "empDF.printSchema()"
   ]
  },
  {
   "cell_type": "markdown",
   "id": "f99d990c-bea6-4e27-ab8b-49de20aa469c",
   "metadata": {
    "tags": []
   },
   "source": [
    "Criar um dataframe chamado setorDF(referente aos setores da empresa)\n",
    " \n",
    " O dataframe deverá conter os seguintes valores e estrutura:\n",
    " \n",
    "+---------+----------+\n",
    "|cod_setor|nome_setor|\n",
    "+---------+----------+\n",
    "|        1+        RH|\n",
    "+---------+----------+\n",
    "|        2+        TI|\n",
    "+---------+----------+\n",
    "|        3+    Vendas|\n",
    "+---------+----------+"
   ]
  },
  {
   "cell_type": "code",
   "execution_count": 19,
   "id": "4f342c58-cfea-4d11-8687-98b7961dff44",
   "metadata": {},
   "outputs": [],
   "source": [
    "# Atividade 01\n",
    "setores = [\n",
    "    (1,\"RH\"),\n",
    "    (2,\"TI\"),\n",
    "    (3,\"Vendas\")\n",
    "]\n",
    "\n",
    "colunas = [\"cod_setor\",\"nome_setor\"]\n",
    "\n",
    "setorDF = spark.createDataFrame(setores).toDF(*colunas)"
   ]
  },
  {
   "cell_type": "code",
   "execution_count": 41,
   "id": "b934abc8-e04c-41f4-978b-bb32ce69d679",
   "metadata": {},
   "outputs": [
    {
     "name": "stdout",
     "output_type": "stream",
     "text": [
      "root\n",
      " |-- cod_setor: long (nullable = true)\n",
      " |-- nome_setor: string (nullable = true)\n",
      "\n"
     ]
    }
   ],
   "source": [
    "setorDF.printSchema()"
   ]
  },
  {
   "cell_type": "code",
   "execution_count": 8,
   "id": "e45d601f-b11c-4ae1-a739-357a132f831a",
   "metadata": {},
   "outputs": [
    {
     "name": "stdout",
     "output_type": "stream",
     "text": [
      "+---------+----------+\n",
      "|cod_setor|nome_setor|\n",
      "+---------+----------+\n",
      "|        1|        RH|\n",
      "|        2|        TI|\n",
      "|        3|    Vendas|\n",
      "+---------+----------+\n",
      "\n"
     ]
    }
   ],
   "source": [
    "setorDF.show()"
   ]
  },
  {
   "cell_type": "markdown",
   "id": "f2739d4a-9483-4237-a85d-037623a76ad4",
   "metadata": {},
   "source": [
    "## Reorganização de registros (orderBy e sort)"
   ]
  },
  {
   "cell_type": "markdown",
   "id": "61d1cafd-0de9-4f1d-8855-e64355b0d274",
   "metadata": {},
   "source": [
    "### crescente"
   ]
  },
  {
   "cell_type": "code",
   "execution_count": 9,
   "id": "7915dc18-b9c1-4c12-ad35-229ae7665aaa",
   "metadata": {},
   "outputs": [
    {
     "name": "stdout",
     "output_type": "stream",
     "text": [
      "+------------------+----------+----+------------------+-----+-------------+-------------+---------+\n",
      "|              nome| data_nasc|sexo|              func|setor|ind_prev_priv|ind_ponto_elt|sal_bruto|\n",
      "+------------------+----------+----+------------------+-----+-------------+-------------+---------+\n",
      "|     Abgail Correa|18/09/1985|   F| Engheira de Dados|    2|         true|         true| 11250.95|\n",
      "|  André dos Santos|02/02/1983|   M|       Assessor RH|    1|        false|         true|  9846.33|\n",
      "|  Bernado Nogueira|05/06/1998|   M|    Assessor de TI|    2|        false|         true|  9862.32|\n",
      "|       Bruna Souza|05/12/1994|   F|  Assessora Vendas|    3|         true|         true|  8960.47|\n",
      "|     Carlos Bonfim|26/01/1979|null|    Gerentes de TI|    2|         true|        false| 21641.84|\n",
      "|  Cristina Batista|17/11/1989|   F|Cientista de Dados|    2|        false|         true| 13945.09|\n",
      "|      Daniel Silva|12/09/1978|   M|   Assessor Vendas|    3|         true|         true|  9016.14|\n",
      "|    Darlene Campos|19/11/1991|   F|     Gerente de RH|    1|        false|        false| 20365.66|\n",
      "|  Fabiana Monteiro|22/04/1988|   F| Gerente de Vendas|    3|         true|        false|  15360.7|\n",
      "|Francisco Oliveira|19/01/1989|null| Analista de Dados|    2|        false|         true| 10563.61|\n",
      "+------------------+----------+----+------------------+-----+-------------+-------------+---------+\n",
      "\n"
     ]
    }
   ],
   "source": [
    "empOrdCresSalDF = empDF.orderBy(\"nome\")\n",
    "\n",
    "empOrdCresSalDF.show()"
   ]
  },
  {
   "cell_type": "code",
   "execution_count": 10,
   "id": "376a2545-3da8-4df0-b147-33da0e91dc4a",
   "metadata": {},
   "outputs": [
    {
     "name": "stdout",
     "output_type": "stream",
     "text": [
      "+------------------+----------+----+------------------+-----+-------------+-------------+---------+\n",
      "|              nome| data_nasc|sexo|              func|setor|ind_prev_priv|ind_ponto_elt|sal_bruto|\n",
      "+------------------+----------+----+------------------+-----+-------------+-------------+---------+\n",
      "|       Bruna Souza|05/12/1994|   F|  Assessora Vendas|    3|         true|         true|  8960.47|\n",
      "|      Daniel Silva|12/09/1978|   M|   Assessor Vendas|    3|         true|         true|  9016.14|\n",
      "|  André dos Santos|02/02/1983|   M|       Assessor RH|    1|        false|         true|  9846.33|\n",
      "|  Bernado Nogueira|05/06/1998|   M|    Assessor de TI|    2|        false|         true|  9862.32|\n",
      "|Francisco Oliveira|19/01/1989|null| Analista de Dados|    2|        false|         true| 10563.61|\n",
      "|     Abgail Correa|18/09/1985|   F| Engheira de Dados|    2|         true|         true| 11250.95|\n",
      "|  Cristina Batista|17/11/1989|   F|Cientista de Dados|    2|        false|         true| 13945.09|\n",
      "|  Fabiana Monteiro|22/04/1988|   F| Gerente de Vendas|    3|         true|        false|  15360.7|\n",
      "|    Darlene Campos|19/11/1991|   F|     Gerente de RH|    1|        false|        false| 20365.66|\n",
      "|     Carlos Bonfim|26/01/1979|null|    Gerentes de TI|    2|         true|        false| 21641.84|\n",
      "+------------------+----------+----+------------------+-----+-------------+-------------+---------+\n",
      "\n"
     ]
    }
   ],
   "source": [
    "empOrdCresSalDF = empDF.orderBy(\"sal_bruto\")\n",
    "\n",
    "empOrdCresSalDF.show()"
   ]
  },
  {
   "cell_type": "markdown",
   "id": "1de9a5e7-411e-4309-8108-4eaad3873d47",
   "metadata": {},
   "source": [
    "### Decrecente"
   ]
  },
  {
   "cell_type": "code",
   "execution_count": 11,
   "id": "b54c42ac-f4b8-4c84-b6bb-29de886fd335",
   "metadata": {},
   "outputs": [
    {
     "name": "stdout",
     "output_type": "stream",
     "text": [
      "+------------------+----------+----+------------------+-----+-------------+-------------+---------+\n",
      "|              nome| data_nasc|sexo|              func|setor|ind_prev_priv|ind_ponto_elt|sal_bruto|\n",
      "+------------------+----------+----+------------------+-----+-------------+-------------+---------+\n",
      "|     Carlos Bonfim|26/01/1979|null|    Gerentes de TI|    2|         true|        false| 21641.84|\n",
      "|    Darlene Campos|19/11/1991|   F|     Gerente de RH|    1|        false|        false| 20365.66|\n",
      "|  Fabiana Monteiro|22/04/1988|   F| Gerente de Vendas|    3|         true|        false|  15360.7|\n",
      "|  Cristina Batista|17/11/1989|   F|Cientista de Dados|    2|        false|         true| 13945.09|\n",
      "|     Abgail Correa|18/09/1985|   F| Engheira de Dados|    2|         true|         true| 11250.95|\n",
      "|Francisco Oliveira|19/01/1989|null| Analista de Dados|    2|        false|         true| 10563.61|\n",
      "|  Bernado Nogueira|05/06/1998|   M|    Assessor de TI|    2|        false|         true|  9862.32|\n",
      "|  André dos Santos|02/02/1983|   M|       Assessor RH|    1|        false|         true|  9846.33|\n",
      "|      Daniel Silva|12/09/1978|   M|   Assessor Vendas|    3|         true|         true|  9016.14|\n",
      "|       Bruna Souza|05/12/1994|   F|  Assessora Vendas|    3|         true|         true|  8960.47|\n",
      "+------------------+----------+----+------------------+-----+-------------+-------------+---------+\n",
      "\n"
     ]
    }
   ],
   "source": [
    "empOrdCresSalDF = empDF.sort(F.desc(\"sal_bruto\"))\n",
    "\n",
    "empOrdCresSalDF.show()"
   ]
  },
  {
   "cell_type": "markdown",
   "id": "02f86dd7-5724-4167-bc6a-c34a6d0945c8",
   "metadata": {},
   "source": [
    "### ordenação com valores nulos"
   ]
  },
  {
   "cell_type": "markdown",
   "id": "54800e14-eb9a-40d9-8edb-85c0d76e8626",
   "metadata": {},
   "source": [
    "#### Ordenação descrescemte com os nulos nos primeiros registros"
   ]
  },
  {
   "cell_type": "code",
   "execution_count": 12,
   "id": "ac5ebda3-27d2-4ad7-a468-9efbdfd0a5eb",
   "metadata": {},
   "outputs": [
    {
     "name": "stdout",
     "output_type": "stream",
     "text": [
      "+------------------+----------+----+------------------+-----+-------------+-------------+---------+\n",
      "|              nome| data_nasc|sexo|              func|setor|ind_prev_priv|ind_ponto_elt|sal_bruto|\n",
      "+------------------+----------+----+------------------+-----+-------------+-------------+---------+\n",
      "|      Daniel Silva|12/09/1978|   M|   Assessor Vendas|    3|         true|         true|  9016.14|\n",
      "|  Bernado Nogueira|05/06/1998|   M|    Assessor de TI|    2|        false|         true|  9862.32|\n",
      "|  André dos Santos|02/02/1983|   M|       Assessor RH|    1|        false|         true|  9846.33|\n",
      "|  Cristina Batista|17/11/1989|   F|Cientista de Dados|    2|        false|         true| 13945.09|\n",
      "|       Bruna Souza|05/12/1994|   F|  Assessora Vendas|    3|         true|         true|  8960.47|\n",
      "|     Abgail Correa|18/09/1985|   F| Engheira de Dados|    2|         true|         true| 11250.95|\n",
      "|    Darlene Campos|19/11/1991|   F|     Gerente de RH|    1|        false|        false| 20365.66|\n",
      "|  Fabiana Monteiro|22/04/1988|   F| Gerente de Vendas|    3|         true|        false|  15360.7|\n",
      "|     Carlos Bonfim|26/01/1979|null|    Gerentes de TI|    2|         true|        false| 21641.84|\n",
      "|Francisco Oliveira|19/01/1989|null| Analista de Dados|    2|        false|         true| 10563.61|\n",
      "+------------------+----------+----+------------------+-----+-------------+-------------+---------+\n",
      "\n"
     ]
    }
   ],
   "source": [
    "empOrdDecrSexNullLastDF = empDF.orderBy(F.desc_nulls_last (\"sexo\"))\n",
    "\n",
    "empOrdDecrSexNullLastDF.show()\n"
   ]
  },
  {
   "cell_type": "markdown",
   "id": "79b28c95-2272-4d52-9c00-2c9be71d75b8",
   "metadata": {},
   "source": [
    "#### Ordenação crescente com os nulos nos primeiros registros\n"
   ]
  },
  {
   "cell_type": "code",
   "execution_count": 13,
   "id": "16d17f23-96a2-47ec-938d-bfae38cbc844",
   "metadata": {},
   "outputs": [
    {
     "name": "stdout",
     "output_type": "stream",
     "text": [
      "+------------------+----------+----+------------------+-----+-------------+-------------+---------+\n",
      "|              nome| data_nasc|sexo|              func|setor|ind_prev_priv|ind_ponto_elt|sal_bruto|\n",
      "+------------------+----------+----+------------------+-----+-------------+-------------+---------+\n",
      "|     Carlos Bonfim|26/01/1979|null|    Gerentes de TI|    2|         true|        false| 21641.84|\n",
      "|Francisco Oliveira|19/01/1989|null| Analista de Dados|    2|        false|         true| 10563.61|\n",
      "|    Darlene Campos|19/11/1991|   F|     Gerente de RH|    1|        false|        false| 20365.66|\n",
      "|     Abgail Correa|18/09/1985|   F| Engheira de Dados|    2|         true|         true| 11250.95|\n",
      "|  Fabiana Monteiro|22/04/1988|   F| Gerente de Vendas|    3|         true|        false|  15360.7|\n",
      "|       Bruna Souza|05/12/1994|   F|  Assessora Vendas|    3|         true|         true|  8960.47|\n",
      "|  Cristina Batista|17/11/1989|   F|Cientista de Dados|    2|        false|         true| 13945.09|\n",
      "|  André dos Santos|02/02/1983|   M|       Assessor RH|    1|        false|         true|  9846.33|\n",
      "|  Bernado Nogueira|05/06/1998|   M|    Assessor de TI|    2|        false|         true|  9862.32|\n",
      "|      Daniel Silva|12/09/1978|   M|   Assessor Vendas|    3|         true|         true|  9016.14|\n",
      "+------------------+----------+----+------------------+-----+-------------+-------------+---------+\n",
      "\n"
     ]
    }
   ],
   "source": [
    "empOrdCrescSexNullFirstDF = empDF.orderBy(asc_nulls_first(\"sexo\"))\n",
    "\n",
    "empOrdCrescSexNullFirstDF.show()\n"
   ]
  },
  {
   "cell_type": "markdown",
   "id": "18ea8fc3-0003-411c-be1e-bccb6d3a249e",
   "metadata": {},
   "source": [
    "#### Ordenação crescente com os nulos nos últimos registros\n"
   ]
  },
  {
   "cell_type": "code",
   "execution_count": 14,
   "id": "1c90a5e0-50f5-4836-bba8-6ceb20916ad9",
   "metadata": {},
   "outputs": [
    {
     "name": "stdout",
     "output_type": "stream",
     "text": [
      "+------------------+----------+----+------------------+-----+-------------+-------------+---------+\n",
      "|              nome| data_nasc|sexo|              func|setor|ind_prev_priv|ind_ponto_elt|sal_bruto|\n",
      "+------------------+----------+----+------------------+-----+-------------+-------------+---------+\n",
      "|  Cristina Batista|17/11/1989|   F|Cientista de Dados|    2|        false|         true| 13945.09|\n",
      "|     Abgail Correa|18/09/1985|   F| Engheira de Dados|    2|         true|         true| 11250.95|\n",
      "|    Darlene Campos|19/11/1991|   F|     Gerente de RH|    1|        false|        false| 20365.66|\n",
      "|       Bruna Souza|05/12/1994|   F|  Assessora Vendas|    3|         true|         true|  8960.47|\n",
      "|  Fabiana Monteiro|22/04/1988|   F| Gerente de Vendas|    3|         true|        false|  15360.7|\n",
      "|  Bernado Nogueira|05/06/1998|   M|    Assessor de TI|    2|        false|         true|  9862.32|\n",
      "|      Daniel Silva|12/09/1978|   M|   Assessor Vendas|    3|         true|         true|  9016.14|\n",
      "|  André dos Santos|02/02/1983|   M|       Assessor RH|    1|        false|         true|  9846.33|\n",
      "|     Carlos Bonfim|26/01/1979|null|    Gerentes de TI|    2|         true|        false| 21641.84|\n",
      "|Francisco Oliveira|19/01/1989|null| Analista de Dados|    2|        false|         true| 10563.61|\n",
      "+------------------+----------+----+------------------+-----+-------------+-------------+---------+\n",
      "\n"
     ]
    }
   ],
   "source": [
    "empOrdCrescSexNullLastDF = empDF.orderBy(col(\"sexo\").asc_nulls_last())\n",
    "\n",
    "empOrdCrescSexNullLastDF.show()"
   ]
  },
  {
   "cell_type": "markdown",
   "id": "1c81c323-0e3d-4dac-afbf-31a6d68e6369",
   "metadata": {},
   "source": [
    "## Exclusão e inclusão de colunas"
   ]
  },
  {
   "cell_type": "markdown",
   "id": "3a54a856-c5e3-402b-9173-f4fba00e55fe",
   "metadata": {},
   "source": [
    "### Exclusão"
   ]
  },
  {
   "cell_type": "markdown",
   "id": "0334b0cb-b5bc-4954-94e3-76fcb99ba20d",
   "metadata": {},
   "source": [
    "#### select"
   ]
  },
  {
   "cell_type": "code",
   "execution_count": 15,
   "id": "d08eb4a7-c9fc-42f4-bcf3-1e8d2e8e6206",
   "metadata": {},
   "outputs": [
    {
     "name": "stdout",
     "output_type": "stream",
     "text": [
      "+------------------+----------+----+------------------+-----+-------------+-------------+---------+\n",
      "|              nome| data_nasc|sexo|              func|setor|ind_prev_priv|ind_ponto_elt|sal_bruto|\n",
      "+------------------+----------+----+------------------+-----+-------------+-------------+---------+\n",
      "|  Cristina Batista|17/11/1989|   F|Cientista de Dados|    2|        false|         true| 13945.09|\n",
      "|     Abgail Correa|18/09/1985|   F| Engheira de Dados|    2|         true|         true| 11250.95|\n",
      "|    Darlene Campos|19/11/1991|   F|     Gerente de RH|    1|        false|        false| 20365.66|\n",
      "|       Bruna Souza|05/12/1994|   F|  Assessora Vendas|    3|         true|         true|  8960.47|\n",
      "|  Fabiana Monteiro|22/04/1988|   F| Gerente de Vendas|    3|         true|        false|  15360.7|\n",
      "|  Bernado Nogueira|05/06/1998|   M|    Assessor de TI|    2|        false|         true|  9862.32|\n",
      "|      Daniel Silva|12/09/1978|   M|   Assessor Vendas|    3|         true|         true|  9016.14|\n",
      "|  André dos Santos|02/02/1983|   M|       Assessor RH|    1|        false|         true|  9846.33|\n",
      "|     Carlos Bonfim|26/01/1979|null|    Gerentes de TI|    2|         true|        false| 21641.84|\n",
      "|Francisco Oliveira|19/01/1989|null| Analista de Dados|    2|        false|         true| 10563.61|\n",
      "+------------------+----------+----+------------------+-----+-------------+-------------+---------+\n",
      "\n"
     ]
    }
   ],
   "source": [
    "empOrdCrescSexNullLastDF = empDF.orderBy(col(\"sexo\").asc_nulls_last())\n",
    "\n",
    "empOrdCrescSexNullLastDF.show()"
   ]
  },
  {
   "cell_type": "markdown",
   "id": "66cea73b-ef32-4094-8acd-5176b45d207d",
   "metadata": {},
   "source": [
    "#### Drop"
   ]
  },
  {
   "cell_type": "code",
   "execution_count": 16,
   "id": "b5d7d3b4-84eb-4b85-aa77-b56033cb9757",
   "metadata": {},
   "outputs": [
    {
     "name": "stdout",
     "output_type": "stream",
     "text": [
      "+------------------+----------+-------------+-------------+---------+\n",
      "|              nome| data_nasc|ind_prev_priv|ind_ponto_elt|sal_bruto|\n",
      "+------------------+----------+-------------+-------------+---------+\n",
      "|     Abgail Correa|18/09/1985|         true|         true| 11250.95|\n",
      "|  André dos Santos|02/02/1983|        false|         true|  9846.33|\n",
      "|       Bruna Souza|05/12/1994|         true|         true|  8960.47|\n",
      "|  Bernado Nogueira|05/06/1998|        false|         true|  9862.32|\n",
      "|     Carlos Bonfim|26/01/1979|         true|        false| 21641.84|\n",
      "|  Cristina Batista|17/11/1989|        false|         true| 13945.09|\n",
      "|      Daniel Silva|12/09/1978|         true|         true|  9016.14|\n",
      "|    Darlene Campos|19/11/1991|        false|        false| 20365.66|\n",
      "|  Fabiana Monteiro|22/04/1988|         true|        false|  15360.7|\n",
      "|Francisco Oliveira|19/01/1989|        false|         true| 10563.61|\n",
      "+------------------+----------+-------------+-------------+---------+\n",
      "\n"
     ]
    }
   ],
   "source": [
    "empAlt02DF = empDF.drop('sexo', 'setor', 'func')\n",
    "\n",
    "empAlt02DF.show()"
   ]
  },
  {
   "cell_type": "code",
   "execution_count": 17,
   "id": "52777b32-7d58-4a5b-9206-29f6751e32b6",
   "metadata": {},
   "outputs": [
    {
     "name": "stdout",
     "output_type": "stream",
     "text": [
      "+------------------+----------+----+-----+-------------+-------------+---------+\n",
      "|              nome| data_nasc|sexo|setor|ind_prev_priv|ind_ponto_elt|sal_bruto|\n",
      "+------------------+----------+----+-----+-------------+-------------+---------+\n",
      "|     Abgail Correa|18/09/1985|   F|    2|         true|         true| 11250.95|\n",
      "|  André dos Santos|02/02/1983|   M|    1|        false|         true|  9846.33|\n",
      "|       Bruna Souza|05/12/1994|   F|    3|         true|         true|  8960.47|\n",
      "|  Bernado Nogueira|05/06/1998|   M|    2|        false|         true|  9862.32|\n",
      "|     Carlos Bonfim|26/01/1979|null|    2|         true|        false| 21641.84|\n",
      "|  Cristina Batista|17/11/1989|   F|    2|        false|         true| 13945.09|\n",
      "|      Daniel Silva|12/09/1978|   M|    3|         true|         true|  9016.14|\n",
      "|    Darlene Campos|19/11/1991|   F|    1|        false|        false| 20365.66|\n",
      "|  Fabiana Monteiro|22/04/1988|   F|    3|         true|        false|  15360.7|\n",
      "|Francisco Oliveira|19/01/1989|null|    2|        false|         true| 10563.61|\n",
      "+------------------+----------+----+-----+-------------+-------------+---------+\n",
      "\n"
     ]
    }
   ],
   "source": [
    "empAlt02DF = empDF.drop('none', 'func')\n",
    "\n",
    "empAlt02DF.show()"
   ]
  },
  {
   "cell_type": "raw",
   "id": "17a823b8-ea8a-4d97-b722-69eadf62aa93",
   "metadata": {},
   "source": [
    "A partir do dataframe empDF, gerar dois dataframes com as seguintes configurações:\n",
    "\n",
    "emp2ColDF:\n",
    "root\n",
    "|-- nome: string (nullable = true)\n",
    "|-- func: string (nullable = true)\n",
    "\n",
    "\n",
    "emp4ColDF:\n",
    "root\n",
    "|-- nome: string (nullable = true)\n",
    "|-- data_nasc: string (nullable = true)\n",
    "|-- sexo: string (nullable = true)\n",
    "|-- func: string (nullable = true)\n",
    "|-- setor: long (nullable = true)\n",
    "|-- ind_ponto_elt: boolean (nullable = true)\n",
    "|-- sal_bruto: double (nullable = true)"
   ]
  },
  {
   "cell_type": "code",
   "execution_count": 18,
   "id": "e477db05-732d-47b0-ac8f-66130f5c6c72",
   "metadata": {},
   "outputs": [
    {
     "name": "stdout",
     "output_type": "stream",
     "text": [
      "+------------------+------------------+\n",
      "|              nome|              func|\n",
      "+------------------+------------------+\n",
      "|     Abgail Correa| Engheira de Dados|\n",
      "|  André dos Santos|       Assessor RH|\n",
      "|       Bruna Souza|  Assessora Vendas|\n",
      "|  Bernado Nogueira|    Assessor de TI|\n",
      "|     Carlos Bonfim|    Gerentes de TI|\n",
      "|  Cristina Batista|Cientista de Dados|\n",
      "|      Daniel Silva|   Assessor Vendas|\n",
      "|    Darlene Campos|     Gerente de RH|\n",
      "|  Fabiana Monteiro| Gerente de Vendas|\n",
      "|Francisco Oliveira| Analista de Dados|\n",
      "+------------------+------------------+\n",
      "\n",
      "root\n",
      " |-- nome: string (nullable = true)\n",
      " |-- func: string (nullable = true)\n",
      "\n",
      "+------------------+----------+----+------------------+-----+-------------+---------+\n",
      "|              nome| data_nasc|sexo|              func|setor|ind_ponto_elt|sal_bruto|\n",
      "+------------------+----------+----+------------------+-----+-------------+---------+\n",
      "|     Abgail Correa|18/09/1985|   F| Engheira de Dados|    2|         true| 11250.95|\n",
      "|  André dos Santos|02/02/1983|   M|       Assessor RH|    1|         true|  9846.33|\n",
      "|       Bruna Souza|05/12/1994|   F|  Assessora Vendas|    3|         true|  8960.47|\n",
      "|  Bernado Nogueira|05/06/1998|   M|    Assessor de TI|    2|         true|  9862.32|\n",
      "|     Carlos Bonfim|26/01/1979|null|    Gerentes de TI|    2|        false| 21641.84|\n",
      "|  Cristina Batista|17/11/1989|   F|Cientista de Dados|    2|         true| 13945.09|\n",
      "|      Daniel Silva|12/09/1978|   M|   Assessor Vendas|    3|         true|  9016.14|\n",
      "|    Darlene Campos|19/11/1991|   F|     Gerente de RH|    1|        false| 20365.66|\n",
      "|  Fabiana Monteiro|22/04/1988|   F| Gerente de Vendas|    3|        false|  15360.7|\n",
      "|Francisco Oliveira|19/01/1989|null| Analista de Dados|    2|         true| 10563.61|\n",
      "+------------------+----------+----+------------------+-----+-------------+---------+\n",
      "\n",
      "root\n",
      " |-- nome: string (nullable = true)\n",
      " |-- data_nasc: string (nullable = true)\n",
      " |-- sexo: string (nullable = true)\n",
      " |-- func: string (nullable = true)\n",
      " |-- setor: long (nullable = true)\n",
      " |-- ind_ponto_elt: boolean (nullable = true)\n",
      " |-- sal_bruto: double (nullable = true)\n",
      "\n"
     ]
    }
   ],
   "source": [
    "#Atividade 2\n",
    "\n",
    "emp2ColDF = empDF.select('nome', 'func')\n",
    "emp2ColDF.show()\n",
    "emp2ColDF.printSchema()\n",
    "\n",
    "emp4ColDF = empDF.select('nome', 'data_nasc', 'sexo', 'func', 'setor', 'ind_ponto_elt', 'sal_bruto')\n",
    "emp4ColDF.show()\n",
    "emp4ColDF.printSchema()"
   ]
  },
  {
   "cell_type": "code",
   "execution_count": 21,
   "id": "4c9f6c99-9bde-4505-99e1-3dadec6585d3",
   "metadata": {},
   "outputs": [
    {
     "name": "stdout",
     "output_type": "stream",
     "text": [
      "root\n",
      " |-- nome: string (nullable = true)\n",
      " |-- data_nasc: string (nullable = true)\n",
      " |-- sexo: string (nullable = true)\n",
      " |-- func: string (nullable = true)\n",
      " |-- setor: long (nullable = true)\n",
      " |-- ind_prev_priv: boolean (nullable = true)\n",
      " |-- ind_ponto_elt: boolean (nullable = true)\n",
      " |-- sal_bruto: double (nullable = true)\n",
      "\n"
     ]
    }
   ],
   "source": [
    "empDF.printSchema()"
   ]
  },
  {
   "cell_type": "markdown",
   "id": "5558b822-e759-430f-b507-439c5125704f",
   "metadata": {},
   "source": [
    "### Inclusão"
   ]
  },
  {
   "cell_type": "markdown",
   "id": "e16f178d-7508-4673-8624-428a3687a150",
   "metadata": {
    "tags": []
   },
   "source": [
    "#### withColumn"
   ]
  },
  {
   "cell_type": "code",
   "execution_count": 26,
   "id": "121a1e06-1f4b-4d9a-af1b-d2541b6c2735",
   "metadata": {
    "tags": []
   },
   "outputs": [
    {
     "name": "stdout",
     "output_type": "stream",
     "text": [
      "+------------------+----------+----+------------------+-----+-------------+-------------+---------+-------+\n",
      "|              nome| data_nasc|sexo|              func|setor|ind_prev_priv|ind_ponto_elt|sal_bruto|cod_emp|\n",
      "+------------------+----------+----+------------------+-----+-------------+-------------+---------+-------+\n",
      "|     Abgail Correa|18/09/1985|   F| Engheira de Dados|    2|         true|         true| 11250.95|      1|\n",
      "|  André dos Santos|02/02/1983|   M|       Assessor RH|    1|        false|         true|  9846.33|      2|\n",
      "|  Bernado Nogueira|05/06/1998|   M|    Assessor de TI|    2|        false|         true|  9862.32|      3|\n",
      "|       Bruna Souza|05/12/1994|   F|  Assessora Vendas|    3|         true|         true|  8960.47|      4|\n",
      "|     Carlos Bonfim|26/01/1979|null|    Gerentes de TI|    2|         true|        false| 21641.84|      5|\n",
      "|  Cristina Batista|17/11/1989|   F|Cientista de Dados|    2|        false|         true| 13945.09|      6|\n",
      "|      Daniel Silva|12/09/1978|   M|   Assessor Vendas|    3|         true|         true|  9016.14|      7|\n",
      "|    Darlene Campos|19/11/1991|   F|     Gerente de RH|    1|        false|        false| 20365.66|      8|\n",
      "|  Fabiana Monteiro|22/04/1988|   F| Gerente de Vendas|    3|         true|        false|  15360.7|      9|\n",
      "|Francisco Oliveira|19/01/1989|null| Analista de Dados|    2|        false|         true| 10563.61|     10|\n",
      "+------------------+----------+----+------------------+-----+-------------+-------------+---------+-------+\n",
      "\n"
     ]
    }
   ],
   "source": [
    "empComCodDF = empDF.sort(\"nome\")\\\n",
    "                   .withColumn(\"cod_emp\", F.monotonically_increasing_id()+1) #Exige dois parâmetros (nome coluna e lógica a ser aplicada)\n",
    "\n",
    "\n",
    "empComCodDF.show()"
   ]
  },
  {
   "cell_type": "markdown",
   "id": "b52967fe-255b-4d0d-b26a-2a188fd87e06",
   "metadata": {},
   "source": [
    "#### withColumn + when(transformação em uma coluna já existentes)"
   ]
  },
  {
   "cell_type": "code",
   "execution_count": 31,
   "id": "9e4ebd72-20cd-416f-832c-2b0882b0cff7",
   "metadata": {},
   "outputs": [
    {
     "name": "stdout",
     "output_type": "stream",
     "text": [
      "+------------------+----------+----+------------------+-----+-------------+-------------+---------+\n",
      "|              nome| data_nasc|sexo|              func|setor|ind_prev_priv|ind_ponto_elt|sal_bruto|\n",
      "+------------------+----------+----+------------------+-----+-------------+-------------+---------+\n",
      "|     Abgail Correa|18/09/1985|   F| Engheira de Dados|    2|         true|         true| 11250.95|\n",
      "|  André dos Santos|02/02/1983|   M|       Assessor RH|    1|        false|         true|  9846.33|\n",
      "|       Bruna Souza|05/12/1994|   F|  Assessora Vendas|    3|         true|         true|  8960.47|\n",
      "|  Bernado Nogueira|05/06/1998|   M|    Assessor de TI|    2|        false|         true|  9862.32|\n",
      "|     Carlos Bonfim|26/01/1979|   M|    Gerentes de TI|    2|         true|        false| 21641.84|\n",
      "|  Cristina Batista|17/11/1989|   F|Cientista de Dados|    2|        false|         true| 13945.09|\n",
      "|      Daniel Silva|12/09/1978|   M|   Assessor Vendas|    3|         true|         true|  9016.14|\n",
      "|    Darlene Campos|19/11/1991|   F|     Gerente de RH|    1|        false|        false| 20365.66|\n",
      "|  Fabiana Monteiro|22/04/1988|   F| Gerente de Vendas|    3|         true|        false|  15360.7|\n",
      "|Francisco Oliveira|19/01/1989|   M| Analista de Dados|    2|        false|         true| 10563.61|\n",
      "+------------------+----------+----+------------------+-----+-------------+-------------+---------+\n",
      "\n"
     ]
    }
   ],
   "source": [
    "empSemNulosDF = empDF.withColumn(\"sexo\", F.when(\n",
    "                                                 F.col(\"sexo\").isNull(), \n",
    "                                                 F.lit(\"M\")\n",
    "                                                )\n",
    "                                          .otherwise(F.col(\"sexo\")) #Caso não atenda as condições acima, \n",
    "                                                                     #ele vai manter os dados que já estavam anterioremente.\n",
    "                                )\n",
    "empSemNulosDF.show()"
   ]
  },
  {
   "cell_type": "markdown",
   "id": "d2fed4e8-48c2-4bbc-b76d-7b1b569878cd",
   "metadata": {},
   "source": [
    "#### select + alias"
   ]
  },
  {
   "cell_type": "code",
   "execution_count": 40,
   "id": "c3c701d4-c914-454f-abf9-ddaa9f942e73",
   "metadata": {},
   "outputs": [
    {
     "name": "stdout",
     "output_type": "stream",
     "text": [
      "+------------------+----------+----+------------------+-----+-------------+-------------+---------+------------------+------------------+\n",
      "|              nome| data_nasc|sexo|              func|setor|ind_prev_priv|ind_ponto_elt|sal_bruto|           sal_liq|           dif_sal|\n",
      "+------------------+----------+----+------------------+-----+-------------+-------------+---------+------------------+------------------+\n",
      "|     Abgail Correa|18/09/1985|   F| Engheira de Dados|    2|         true|         true| 11250.95|          8100.684|3150.2660000000005|\n",
      "|  André dos Santos|02/02/1983|   M|       Assessor RH|    1|        false|         true|  9846.33| 7089.357599999999|2756.9724000000006|\n",
      "|       Bruna Souza|05/12/1994|   F|  Assessora Vendas|    3|         true|         true|  8960.47|6451.5383999999995|         2508.9316|\n",
      "|  Bernado Nogueira|05/06/1998|   M|    Assessor de TI|    2|        false|         true|  9862.32|         7100.8704|         2761.4496|\n",
      "|     Carlos Bonfim|26/01/1979|null|    Gerentes de TI|    2|         true|        false| 21641.84|        15582.1248| 6059.715200000001|\n",
      "|  Cristina Batista|17/11/1989|   F|Cientista de Dados|    2|        false|         true| 13945.09|        10040.4648|3904.6252000000004|\n",
      "|      Daniel Silva|12/09/1978|   M|   Assessor Vendas|    3|         true|         true|  9016.14|         6491.6208|2524.5191999999997|\n",
      "|    Darlene Campos|19/11/1991|   F|     Gerente de RH|    1|        false|        false| 20365.66|        14663.2752|         5702.3848|\n",
      "|  Fabiana Monteiro|22/04/1988|   F| Gerente de Vendas|    3|         true|        false|  15360.7|         11059.704| 4300.996000000001|\n",
      "|Francisco Oliveira|19/01/1989|null| Analista de Dados|    2|        false|         true| 10563.61|         7605.7992|         2957.8108|\n",
      "+------------------+----------+----+------------------+-----+-------------+-------------+---------+------------------+------------------+\n",
      "\n"
     ]
    }
   ],
   "source": [
    "empComSalLiqDF = empDF.select(\"*\", (F.col(\"sal_bruto\") * 0.72).alias(\"sal_liq\"))\\\n",
    "                      .withColumn(\"dif_sal\", F.col(\"sal_bruto\") - F.col(\"sal_liq\"))\n",
    "\n",
    "empComSalLiqDF.show()"
   ]
  },
  {
   "cell_type": "markdown",
   "id": "eb920b1c-903b-4179-b28d-b32891258dcc",
   "metadata": {},
   "source": [
    "#### join"
   ]
  },
  {
   "cell_type": "code",
   "execution_count": 52,
   "id": "a3d01fe3-14e1-45d0-8470-8dce6a960104",
   "metadata": {},
   "outputs": [
    {
     "name": "stdout",
     "output_type": "stream",
     "text": [
      "+------------------+----------+----+------------------+-------------+-------------+---------+----------+\n",
      "|              nome| data_nasc|sexo|              func|ind_prev_priv|ind_ponto_elt|sal_bruto|nome_setor|\n",
      "+------------------+----------+----+------------------+-------------+-------------+---------+----------+\n",
      "|  André dos Santos|02/02/1983|   M|       Assessor RH|        false|         true|  9846.33|        RH|\n",
      "|    Darlene Campos|19/11/1991|   F|     Gerente de RH|        false|        false| 20365.66|        RH|\n",
      "|     Abgail Correa|18/09/1985|   F| Engheira de Dados|         true|         true| 11250.95|        TI|\n",
      "|  Bernado Nogueira|05/06/1998|   M|    Assessor de TI|        false|         true|  9862.32|        TI|\n",
      "|     Carlos Bonfim|26/01/1979|null|    Gerentes de TI|         true|        false| 21641.84|        TI|\n",
      "|  Cristina Batista|17/11/1989|   F|Cientista de Dados|        false|         true| 13945.09|        TI|\n",
      "|Francisco Oliveira|19/01/1989|null| Analista de Dados|        false|         true| 10563.61|        TI|\n",
      "|       Bruna Souza|05/12/1994|   F|  Assessora Vendas|         true|         true|  8960.47|    Vendas|\n",
      "|      Daniel Silva|12/09/1978|   M|   Assessor Vendas|         true|         true|  9016.14|    Vendas|\n",
      "|  Fabiana Monteiro|22/04/1988|   F| Gerente de Vendas|         true|        false|  15360.7|    Vendas|\n",
      "+------------------+----------+----+------------------+-------------+-------------+---------+----------+\n",
      "\n"
     ]
    }
   ],
   "source": [
    "exprJoin01 = (empDF.setor == setorDF['cod_setor'])\n",
    "\n",
    "empComSetorDF = empDF.join(setorDF, exprJoin01, \"left\")\\\n",
    "                     .drop('cod_setor', 'setor') # Apagando as colunas do DF\n",
    "#empComSetorDF = empComSetorDF.drop('cod_setor', 'setor')\n",
    "\n",
    "empComSetorDF.show()"
   ]
  },
  {
   "cell_type": "markdown",
   "id": "a1cf1138-d598-45d6-ba5f-275c2fd2c5d0",
   "metadata": {},
   "source": [
    "<h4 style=\"color:yellow\">Exercício 03: inclusão de colunas</h4>"
   ]
  },
  {
   "cell_type": "markdown",
   "id": "0510ebab-c8e0-4c81-a61d-a4979474aa5c",
   "metadata": {},
   "source": [
    "1 -  Criar um dataframe chamado estCivilEmpDF(referente aos estados civis dos empregados da empresa)\n",
    "\n",
    " O dataframe deverá conter os seguintes valores e estrutura:\n",
    "\n",
    "+-------+------------------+-------------+\n",
    "|cod_emp|              nome|cod_est_civil|\n",
    "+-------+------------------+-------------+\n",
    "|      1|     Abgail Correa|            1|\n",
    "|      2|  André dos Santos|            2|\n",
    "|      3|  Bernado Nogueira|            1|\n",
    "|      4|       Bruna Souza|            3|\n",
    "|      5|     Carlos Bonfim|            2|\n",
    "|      6|  Cristina Batista|            1|\n",
    "|      7|      Daniel Silva|            2|\n",
    "|      8|    Darlene Campos|            2|\n",
    "|      9|  Fabiana Monteiro|            1|\n",
    "|     10|Francisco Oliveira|            3|\n",
    "+-------+------------------+-------------+"
   ]
  },
  {
   "cell_type": "code",
   "execution_count": 57,
   "id": "a5591330-6d45-45a8-ac98-d5f811c90adf",
   "metadata": {},
   "outputs": [],
   "source": [
    "# cria array com o conteúdo a ser posto no dataframe\n",
    "registrosEmpregados = [\n",
    "    (\"1\", \"Abgail Correa\"     ,1),\n",
    "    (\"2\", \"André dos Santos\"  ,2),\n",
    "    (\"4\", \"Bruna Souza\"       ,3),\n",
    "    (\"3\", \"Bernado Nogueira\"  ,1),\n",
    "    (\"5\", \"Carlos Bonfim\"     ,2),\n",
    "    (\"6\", \"Cristina Batista\"  ,1),\n",
    "    (\"7\", \"Daniel Silva\"      ,2),\n",
    "    (\"8\", \"Darlene Campos\"    ,2),\n",
    "    (\"9\", \"Fabiana Monteiro\"  ,1),\n",
    "    (\"10\", \"Francisco Oliveira\",3)\n",
    "]\n",
    "\n",
    "colunas = [\"cod_emp\",\"nome\",\"cod_est_civil\"]\n",
    "\n",
    "estCivilEmpDF = spark.createDataFrame(registrosEmpregados).toDF(*colunas)"
   ]
  },
  {
   "cell_type": "markdown",
   "id": "a638d4ec-1cb9-49d0-bbab-31e0d7afbe6a",
   "metadata": {},
   "source": [
    "2 - Criar um dataframe chamado empComEstCivilDF a partir da união dos dataframes empComCodDF e estCivilEmpDF"
   ]
  },
  {
   "cell_type": "code",
   "execution_count": 70,
   "id": "7ec689c6-ffde-41cc-9476-8b6ada1ea060",
   "metadata": {},
   "outputs": [
    {
     "name": "stdout",
     "output_type": "stream",
     "text": [
      "+-------+------------------+----------+----+------------------+-----+-------------+-------------+---------+------------------+-------------+\n",
      "|cod_emp|              nome| data_nasc|sexo|              func|setor|ind_prev_priv|ind_ponto_elt|sal_bruto|              nome|cod_est_civil|\n",
      "+-------+------------------+----------+----+------------------+-----+-------------+-------------+---------+------------------+-------------+\n",
      "|      1|     Abgail Correa|18/09/1985|   F| Engheira de Dados|    2|         true|         true| 11250.95|     Abgail Correa|            1|\n",
      "|      2|  André dos Santos|02/02/1983|   M|       Assessor RH|    1|        false|         true|  9846.33|  André dos Santos|            2|\n",
      "|      3|  Bernado Nogueira|05/06/1998|   M|    Assessor de TI|    2|        false|         true|  9862.32|  Bernado Nogueira|            1|\n",
      "|      4|       Bruna Souza|05/12/1994|   F|  Assessora Vendas|    3|         true|         true|  8960.47|       Bruna Souza|            3|\n",
      "|      5|     Carlos Bonfim|26/01/1979|null|    Gerentes de TI|    2|         true|        false| 21641.84|     Carlos Bonfim|            2|\n",
      "|      6|  Cristina Batista|17/11/1989|   F|Cientista de Dados|    2|        false|         true| 13945.09|  Cristina Batista|            1|\n",
      "|      7|      Daniel Silva|12/09/1978|   M|   Assessor Vendas|    3|         true|         true|  9016.14|      Daniel Silva|            2|\n",
      "|      8|    Darlene Campos|19/11/1991|   F|     Gerente de RH|    1|        false|        false| 20365.66|    Darlene Campos|            2|\n",
      "|      9|  Fabiana Monteiro|22/04/1988|   F| Gerente de Vendas|    3|         true|        false|  15360.7|  Fabiana Monteiro|            1|\n",
      "|     10|Francisco Oliveira|19/01/1989|null| Analista de Dados|    2|        false|         true| 10563.61|Francisco Oliveira|            3|\n",
      "+-------+------------------+----------+----+------------------+-----+-------------+-------------+---------+------------------+-------------+\n",
      "\n"
     ]
    }
   ],
   "source": [
    "exprJoin = (empComCodDF.cod_emp == estCivilEmpDF['cod_emp'])\n",
    "\n",
    "#empComEstCivilDF = empComCodDF.join(estCivilEmpDF, exprJoin, \"left\")\\\n",
    "                             # .drop(estCivilEmpDF.cod_emp, estCivilEmpDF.nome)\n",
    "\n",
    "\n",
    "empComEstCivilDF = empComCodDF.join(estCivilEmpDF, [\"cod_emp\"], \"left\")\n",
    "            \n",
    "#empComSetorDF = empDF.join(setorDF, exprJoin01, \"left\")\\\n",
    "                     #.drop('cod_setor', 'setor') # Apagando as colunas do DF\n",
    "    \n",
    "empComEstCivilDF.show()"
   ]
  },
  {
   "cell_type": "code",
   "execution_count": 58,
   "id": "486b5695-083e-4de3-b10a-c600fe072a75",
   "metadata": {},
   "outputs": [
    {
     "name": "stdout",
     "output_type": "stream",
     "text": [
      "+------------------+----------+----+------------------+-----+-------------+-------------+---------+-------+\n",
      "|              nome| data_nasc|sexo|              func|setor|ind_prev_priv|ind_ponto_elt|sal_bruto|cod_emp|\n",
      "+------------------+----------+----+------------------+-----+-------------+-------------+---------+-------+\n",
      "|     Abgail Correa|18/09/1985|   F| Engheira de Dados|    2|         true|         true| 11250.95|      1|\n",
      "|  André dos Santos|02/02/1983|   M|       Assessor RH|    1|        false|         true|  9846.33|      2|\n",
      "|  Bernado Nogueira|05/06/1998|   M|    Assessor de TI|    2|        false|         true|  9862.32|      3|\n",
      "|       Bruna Souza|05/12/1994|   F|  Assessora Vendas|    3|         true|         true|  8960.47|      4|\n",
      "|     Carlos Bonfim|26/01/1979|null|    Gerentes de TI|    2|         true|        false| 21641.84|      5|\n",
      "|  Cristina Batista|17/11/1989|   F|Cientista de Dados|    2|        false|         true| 13945.09|      6|\n",
      "|      Daniel Silva|12/09/1978|   M|   Assessor Vendas|    3|         true|         true|  9016.14|      7|\n",
      "|    Darlene Campos|19/11/1991|   F|     Gerente de RH|    1|        false|        false| 20365.66|      8|\n",
      "|  Fabiana Monteiro|22/04/1988|   F| Gerente de Vendas|    3|         true|        false|  15360.7|      9|\n",
      "|Francisco Oliveira|19/01/1989|null| Analista de Dados|    2|        false|         true| 10563.61|     10|\n",
      "+------------------+----------+----+------------------+-----+-------------+-------------+---------+-------+\n",
      "\n"
     ]
    }
   ],
   "source": [
    "empComCodDF.show()"
   ]
  },
  {
   "cell_type": "code",
   "execution_count": 59,
   "id": "72be3ee6-1aa2-47fe-ba64-eb5de1402a39",
   "metadata": {},
   "outputs": [
    {
     "name": "stdout",
     "output_type": "stream",
     "text": [
      "+-------+------------------+-------------+\n",
      "|cod_emp|              nome|cod_est_civil|\n",
      "+-------+------------------+-------------+\n",
      "|      1|     Abgail Correa|            1|\n",
      "|      2|  André dos Santos|            2|\n",
      "|      4|       Bruna Souza|            3|\n",
      "|      3|  Bernado Nogueira|            1|\n",
      "|      5|     Carlos Bonfim|            2|\n",
      "|      6|  Cristina Batista|            1|\n",
      "|      7|      Daniel Silva|            2|\n",
      "|      8|    Darlene Campos|            2|\n",
      "|      9|  Fabiana Monteiro|            1|\n",
      "|     10|Francisco Oliveira|            3|\n",
      "+-------+------------------+-------------+\n",
      "\n"
     ]
    }
   ],
   "source": [
    "estCivilEmpDF.show()"
   ]
  },
  {
   "cell_type": "markdown",
   "id": "3c02f95b-2f87-4622-8a7b-ebcb0f76a942",
   "metadata": {},
   "source": [
    "## Exclusão e inclusão de linhas"
   ]
  },
  {
   "cell_type": "markdown",
   "id": "ffb9db4e-85eb-430c-9b3c-ff3741781eae",
   "metadata": {},
   "source": [
    "### Exclusão"
   ]
  },
  {
   "cell_type": "markdown",
   "id": "a25c1487-cc6e-4978-821f-c531ed3fe238",
   "metadata": {},
   "source": [
    "#### where e filter"
   ]
  },
  {
   "cell_type": "code",
   "execution_count": 81,
   "id": "80c10ef1-aa61-4d5f-a102-006440596ee7",
   "metadata": {},
   "outputs": [
    {
     "name": "stdout",
     "output_type": "stream",
     "text": [
      "+----------------+----------+----+------------------+-----+-------------+-------------+---------+\n",
      "|            nome| data_nasc|sexo|              func|setor|ind_prev_priv|ind_ponto_elt|sal_bruto|\n",
      "+----------------+----------+----+------------------+-----+-------------+-------------+---------+\n",
      "|   Abgail Correa|18/09/1985|   F| Engheira de Dados|    2|         true|         true| 11250.95|\n",
      "|     Bruna Souza|05/12/1994|   F|  Assessora Vendas|    3|         true|         true|  8960.47|\n",
      "|Cristina Batista|17/11/1989|   F|Cientista de Dados|    2|        false|         true| 13945.09|\n",
      "|  Darlene Campos|19/11/1991|   F|     Gerente de RH|    1|        false|        false| 20365.66|\n",
      "|Fabiana Monteiro|22/04/1988|   F| Gerente de Vendas|    3|         true|        false|  15360.7|\n",
      "+----------------+----------+----+------------------+-----+-------------+-------------+---------+\n",
      "\n"
     ]
    }
   ],
   "source": [
    "empMulheresDF = empDF.where(col(\"sexo\") == 'F')\n",
    "\n",
    "empMulheresDF.show()"
   ]
  },
  {
   "cell_type": "code",
   "execution_count": 92,
   "id": "488e615c-36c9-498e-8dd0-998d07a780b6",
   "metadata": {},
   "outputs": [
    {
     "name": "stdout",
     "output_type": "stream",
     "text": [
      "+----+---------+----+----+-----+-------------+-------------+---------+\n",
      "|nome|data_nasc|sexo|func|setor|ind_prev_priv|ind_ponto_elt|sal_bruto|\n",
      "+----+---------+----+----+-----+-------------+-------------+---------+\n",
      "+----+---------+----+----+-----+-------------+-------------+---------+\n",
      "\n"
     ]
    }
   ],
   "source": [
    "#empMulheresComPrevDF = empMulheresDF.where(col(\"ind_prev_priv\") == 'true')\n",
    "\n",
    "#empMulheresComPrevDF = empMulheresDF.filter(\"ind_prev_priv\")\n",
    "\n",
    "empMulheresComPrevDF = empMulheresDF.filter(~col(\"ind_prev_priv\")) #Negação\n",
    "\n",
    "empMulheresComPrevDF.show()"
   ]
  },
  {
   "cell_type": "code",
   "execution_count": 89,
   "id": "82ced7db-71f2-46bf-bad3-c473dac4e78a",
   "metadata": {},
   "outputs": [
    {
     "name": "stdout",
     "output_type": "stream",
     "text": [
      "+-----------+----------+----+----------------+-----+-------------+-------------+---------+\n",
      "|       nome| data_nasc|sexo|            func|setor|ind_prev_priv|ind_ponto_elt|sal_bruto|\n",
      "+-----------+----------+----+----------------+-----+-------------+-------------+---------+\n",
      "|Bruna Souza|05/12/1994|   F|Assessora Vendas|    3|         true|         true|  8960.47|\n",
      "+-----------+----------+----+----------------+-----+-------------+-------------+---------+\n",
      "\n"
     ]
    }
   ],
   "source": [
    "#empMulheresDF = empDF.where(\"sexo = 'F' AND sal_bruto < 10000\") #Consulta SQL\n",
    "\n",
    "empMulheresDF = empDF.where(\"\"\" sexo = 'F' \n",
    "                            AND sal_bruto < 10000\n",
    "                            \"\"\") \n",
    "\n",
    "empMulheresDF.show()"
   ]
  },
  {
   "cell_type": "markdown",
   "id": "d9802d10-1a20-4171-b12f-ded39a93a04d",
   "metadata": {},
   "source": [
    "#### limit"
   ]
  },
  {
   "cell_type": "code",
   "execution_count": 96,
   "id": "e5bebc79-cc89-489a-8870-55337236f739",
   "metadata": {},
   "outputs": [
    {
     "name": "stdout",
     "output_type": "stream",
     "text": [
      "+------------+----------+----+----------------+-----+-------------+-------------+---------+\n",
      "|        nome| data_nasc|sexo|            func|setor|ind_prev_priv|ind_ponto_elt|sal_bruto|\n",
      "+------------+----------+----+----------------+-----+-------------+-------------+---------+\n",
      "| Bruna Souza|05/12/1994|   F|Assessora Vendas|    3|         true|         true|  8960.47|\n",
      "|Daniel Silva|12/09/1978|   M| Assessor Vendas|    3|         true|         true|  9016.14|\n",
      "+------------+----------+----+----------------+-----+-------------+-------------+---------+\n",
      "\n"
     ]
    }
   ],
   "source": [
    "empComDoisMenorSalDF = empDF.sort(\"sal_bruto\")\\\n",
    "                            .limit(2)\n",
    "\n",
    "empComDoisMenorSalDF.show()"
   ]
  },
  {
   "cell_type": "markdown",
   "id": "b3e1f649-ab40-4161-88c3-2865a266c8c7",
   "metadata": {},
   "source": [
    "#### distict + select"
   ]
  },
  {
   "cell_type": "code",
   "execution_count": 103,
   "id": "63f6cfb4-0f51-43c7-8d15-b061a6bde9fe",
   "metadata": {},
   "outputs": [
    {
     "name": "stdout",
     "output_type": "stream",
     "text": [
      "+----+-------------+\n",
      "|sexo|ind_prev_priv|\n",
      "+----+-------------+\n",
      "|null|         true|\n",
      "|null|        false|\n",
      "|   F|         true|\n",
      "|   F|        false|\n",
      "|   M|         true|\n",
      "|   M|        false|\n",
      "+----+-------------+\n",
      "\n"
     ]
    }
   ],
   "source": [
    "domSexoDF = empDF.select(\"sexo\", \"ind_prev_priv\")\\\n",
    "                 .distinct()\\\n",
    "                 .sort(\"sexo\", F.desc(\"ind_prev_priv\"))\n",
    "                 #.sort(F.col(\"sexo\").desc(), F.desc(\"ind_prev_priv\"))\n",
    "\n",
    "domSexoDF.show()"
   ]
  },
  {
   "cell_type": "markdown",
   "id": "4cf8d729-7f76-43d0-adc1-9b84cfcba066",
   "metadata": {},
   "source": [
    "<h4 style=\"color:yellow\">Exercício 04: exclusão de linhas (registros) </h4>"
   ]
  },
  {
   "cell_type": "markdown",
   "id": "cf1f895b-ec54-46f7-b02f-c9f6e6934ead",
   "metadata": {},
   "source": [
    "a) a partir do dataframe empDF, criar dataframe contendo os nomes, as datas de nascimento e as funções dos empregados que \n",
    "trabalham no setor 2\n",
    "\n",
    "b) a partir do dataframe empDF, criar dataframe contendo os nomes e os salários dos 3 empregados do \n",
    "sexo masculino com os maiores salários"
   ]
  },
  {
   "cell_type": "code",
   "execution_count": 108,
   "id": "1a3b771b-d491-45a4-a3fd-85ac6d17c24a",
   "metadata": {},
   "outputs": [
    {
     "name": "stdout",
     "output_type": "stream",
     "text": [
      "+------------------+----------+------------------+\n",
      "|              nome| data_nasc|              func|\n",
      "+------------------+----------+------------------+\n",
      "|     Abgail Correa|18/09/1985| Engheira de Dados|\n",
      "|  Bernado Nogueira|05/06/1998|    Assessor de TI|\n",
      "|     Carlos Bonfim|26/01/1979|    Gerentes de TI|\n",
      "|  Cristina Batista|17/11/1989|Cientista de Dados|\n",
      "|Francisco Oliveira|19/01/1989| Analista de Dados|\n",
      "+------------------+----------+------------------+\n",
      "\n"
     ]
    }
   ],
   "source": [
    "empFuncDF = empDF.select(\"nome\", \"data_nasc\", \"func\")\\\n",
    "                 .where(col(\"setor\") == 2)\n",
    "\n",
    "empFuncDF.show()"
   ]
  },
  {
   "cell_type": "code",
   "execution_count": 111,
   "id": "072e0902-ad18-43ac-bdfb-5317a4cf0c24",
   "metadata": {},
   "outputs": [
    {
     "name": "stdout",
     "output_type": "stream",
     "text": [
      "+----------------+---------+\n",
      "|            nome|sal_bruto|\n",
      "+----------------+---------+\n",
      "|Bernado Nogueira|  9862.32|\n",
      "|André dos Santos|  9846.33|\n",
      "|    Daniel Silva|  9016.14|\n",
      "+----------------+---------+\n",
      "\n"
     ]
    }
   ],
   "source": [
    "emp3MascMaiorSalDF = empDF.select(\"nome\", \"sal_bruto\")\\\n",
    "                 .where(col(\"sexo\") == 'M')\\\n",
    "                 .sort(desc(\"sal_bruto\"))\n",
    "\n",
    "emp3MascMaiorSalDF.show()"
   ]
  },
  {
   "cell_type": "markdown",
   "id": "b665090d-ec86-4d3e-aff8-95d23a18562a",
   "metadata": {},
   "source": [
    "### Inclusão"
   ]
  },
  {
   "cell_type": "markdown",
   "id": "80f32c3e-b424-411f-97c1-4db6045105fd",
   "metadata": {},
   "source": [
    "#### Criação de um novo dataframe"
   ]
  },
  {
   "cell_type": "code",
   "execution_count": 114,
   "id": "b4d35ef8-62ec-47d9-8000-2bd822bc3e0d",
   "metadata": {},
   "outputs": [],
   "source": [
    "# cria array com o conteúdo a ser posto no dataframe\n",
    "registrosAdicEmpregados = [\n",
    "    (\"Ana Carvalho\"  ,\"16/08/1983\",\"F\",\"Coordenadora de Análise de dado\" ,2,True ,True ,18754.38),\n",
    "    (\"Fabio Martins\" ,\"20/02/1979\",\"M\",\"Coordenador de RH\"               ,1,False,True ,17465.54),\n",
    "    (\"Yasmin Botelho\",\"05/12/2001\",\"F\",\"Coordenadora de Vendas\"          ,3,True ,True ,17970.46),\n",
    "]\n",
    "\n",
    "colunas = [\"nome\",\"data_nasc\",\"sexo\",\"func\",\"setor\",\"ind_prev_priv\",\"ind_ponto_elt\",\"sal_bruto\"]\n",
    "\n",
    "empAdicDF = spark.createDataFrame(registrosAdicEmpregados).toDF(*colunas)"
   ]
  },
  {
   "cell_type": "markdown",
   "id": "dcb6d618-b6be-4f5f-969b-1668b8b31391",
   "metadata": {},
   "source": [
    "#### union"
   ]
  },
  {
   "cell_type": "code",
   "execution_count": 116,
   "id": "0752a6b6-225f-4039-b70f-e1b3f0f53558",
   "metadata": {},
   "outputs": [
    {
     "name": "stdout",
     "output_type": "stream",
     "text": [
      "+------------------+----------+----+--------------------+-----+-------------+-------------+---------+\n",
      "|              nome| data_nasc|sexo|                func|setor|ind_prev_priv|ind_ponto_elt|sal_bruto|\n",
      "+------------------+----------+----+--------------------+-----+-------------+-------------+---------+\n",
      "|     Abgail Correa|18/09/1985|   F|   Engheira de Dados|    2|         true|         true| 11250.95|\n",
      "|  André dos Santos|02/02/1983|   M|         Assessor RH|    1|        false|         true|  9846.33|\n",
      "|       Bruna Souza|05/12/1994|   F|    Assessora Vendas|    3|         true|         true|  8960.47|\n",
      "|  Bernado Nogueira|05/06/1998|   M|      Assessor de TI|    2|        false|         true|  9862.32|\n",
      "|     Carlos Bonfim|26/01/1979|null|      Gerentes de TI|    2|         true|        false| 21641.84|\n",
      "|  Cristina Batista|17/11/1989|   F|  Cientista de Dados|    2|        false|         true| 13945.09|\n",
      "|      Daniel Silva|12/09/1978|   M|     Assessor Vendas|    3|         true|         true|  9016.14|\n",
      "|    Darlene Campos|19/11/1991|   F|       Gerente de RH|    1|        false|        false| 20365.66|\n",
      "|  Fabiana Monteiro|22/04/1988|   F|   Gerente de Vendas|    3|         true|        false|  15360.7|\n",
      "|Francisco Oliveira|19/01/1989|null|   Analista de Dados|    2|        false|         true| 10563.61|\n",
      "|      Ana Carvalho|16/08/1983|   F|Coordenadora de A...|    2|         true|         true| 18754.38|\n",
      "|     Fabio Martins|20/02/1979|   M|   Coordenador de RH|    1|        false|         true| 17465.54|\n",
      "|    Yasmin Botelho|05/12/2001|   F|Coordenadora de V...|    3|         true|         true| 17970.46|\n",
      "+------------------+----------+----+--------------------+-----+-------------+-------------+---------+\n",
      "\n"
     ]
    }
   ],
   "source": [
    "uniaoDF = empDF.union(empAdicDF)\n",
    "\n",
    "uniaoDF.show()"
   ]
  },
  {
   "cell_type": "code",
   "execution_count": 119,
   "id": "d5286990-b9e1-42b7-add8-46311cf7fe37",
   "metadata": {},
   "outputs": [],
   "source": [
    "registrosAdicEmpregados = [\n",
    "    (\"Frank Alex\", \"18/06/1979\", \"M\", \"Engenheiro de Dados\", 2, True, True)\n",
    "]\n",
    "\n",
    "colunas = [\"nome\",\"data_nasc\",\"sexo\",\"func\",\"setor\",\"ind_prev_priv\",\"ind_ponto_elt\"]\n",
    "\n",
    "empAdic02DF = spark.createDataFrame(registrosAdicEmpregados).toDF(*colunas)"
   ]
  },
  {
   "cell_type": "code",
   "execution_count": 120,
   "id": "75fd5dac-9a24-480a-97ae-5ce14e483af2",
   "metadata": {},
   "outputs": [
    {
     "name": "stdout",
     "output_type": "stream",
     "text": [
      "+------------------+----------+----+--------------------+-----+-------------+-------------+---------+\n",
      "|              nome| data_nasc|sexo|                func|setor|ind_prev_priv|ind_ponto_elt|sal_bruto|\n",
      "+------------------+----------+----+--------------------+-----+-------------+-------------+---------+\n",
      "|     Abgail Correa|18/09/1985|   F|   Engheira de Dados|    2|         true|         true| 11250.95|\n",
      "|  André dos Santos|02/02/1983|   M|         Assessor RH|    1|        false|         true|  9846.33|\n",
      "|       Bruna Souza|05/12/1994|   F|    Assessora Vendas|    3|         true|         true|  8960.47|\n",
      "|  Bernado Nogueira|05/06/1998|   M|      Assessor de TI|    2|        false|         true|  9862.32|\n",
      "|     Carlos Bonfim|26/01/1979|null|      Gerentes de TI|    2|         true|        false| 21641.84|\n",
      "|  Cristina Batista|17/11/1989|   F|  Cientista de Dados|    2|        false|         true| 13945.09|\n",
      "|      Daniel Silva|12/09/1978|   M|     Assessor Vendas|    3|         true|         true|  9016.14|\n",
      "|    Darlene Campos|19/11/1991|   F|       Gerente de RH|    1|        false|        false| 20365.66|\n",
      "|  Fabiana Monteiro|22/04/1988|   F|   Gerente de Vendas|    3|         true|        false|  15360.7|\n",
      "|Francisco Oliveira|19/01/1989|null|   Analista de Dados|    2|        false|         true| 10563.61|\n",
      "|      Ana Carvalho|16/08/1983|   F|Coordenadora de A...|    2|         true|         true| 18754.38|\n",
      "|     Fabio Martins|20/02/1979|   M|   Coordenador de RH|    1|        false|         true| 17465.54|\n",
      "|    Yasmin Botelho|05/12/2001|   F|Coordenadora de V...|    3|         true|         true| 17970.46|\n",
      "|        Frank Alex|18/06/1979|   M| Engenheiro de Dados|    2|         true|         true|     null|\n",
      "+------------------+----------+----+--------------------+-----+-------------+-------------+---------+\n",
      "\n"
     ]
    }
   ],
   "source": [
    "uniao02DF = uniaoDF.union(empAdic02DF.withColumn(\"sal_bruto\", F.lit(None)))\n",
    "\n",
    "uniao02DF.show()"
   ]
  },
  {
   "cell_type": "markdown",
   "id": "1ddab0b8-4576-4787-aca2-b404f622da25",
   "metadata": {},
   "source": [
    "<h4 style=\"color:yellow\">Exercício 05: exclusão de linhas (registros)</h4>"
   ]
  },
  {
   "cell_type": "code",
   "execution_count": null,
   "id": "3be23dbc-5e35-498b-a1bb-c8105308ac9a",
   "metadata": {
    "jp-MarkdownHeadingCollapsed": true,
    "tags": []
   },
   "outputs": [],
   "source": [
    "# a) criar dataframe com dois novos registros, porém com apenas os campos\n",
    "# listados abaixo:\n",
    "\n",
    "###root\n",
    "### |-- nome: string (nullable = true)\n",
    "### |-- data_nasc: string (nullable = true)\n",
    "### |-- sexo: string (nullable = true)\n",
    "### |-- func: string (nullable = true)\n",
    "### |-- setor: long (nullable = true)\n",
    "### |-- ind_prev_priv: boolean (nullable = true)\n",
    "### |-- ind_ponto_elt: boolean (nullable = true)\n",
    "\n",
    "# b) cria array com o conteúdo a ser posto no dataframe\n",
    "\n",
    "# c) Após criar o dataframe, efetuar a união do dataframes uniaoDF com ele e observar o que acontece\n"
   ]
  },
  {
   "cell_type": "code",
   "execution_count": 122,
   "id": "40c2f7d9-84bc-4232-afe4-e4efb025eabf",
   "metadata": {},
   "outputs": [],
   "source": [
    "registrosAdic03Empregados = [\n",
    "    (\"Vinicius Carvalho\"  ,\"06/10/1995\",\"M\",\"Analista de Dados\" ,1,True ,True),\n",
    "    (\"João Luiz Alves\",\"05/03/2000\",\"M\",\"Estagiário de Dados\"   ,3,True ,True),\n",
    "]\n",
    "\n",
    "colunas = [\"nome\",\"data_nasc\",\"sexo\",\"func\",\"setor\",\"ind_prev_priv\",\"ind_ponto_elt\"]\n",
    "\n",
    "empAdic03DF = spark.createDataFrame(registrosAdic03Empregados).toDF(*colunas)"
   ]
  },
  {
   "cell_type": "code",
   "execution_count": 124,
   "id": "32ae7379-9da9-4222-9dfa-22d712834ef9",
   "metadata": {},
   "outputs": [
    {
     "name": "stdout",
     "output_type": "stream",
     "text": [
      "+------------------+----------+----+--------------------+-----+-------------+-------------+---------+\n",
      "|              nome| data_nasc|sexo|                func|setor|ind_prev_priv|ind_ponto_elt|sal_bruto|\n",
      "+------------------+----------+----+--------------------+-----+-------------+-------------+---------+\n",
      "|     Abgail Correa|18/09/1985|   F|   Engheira de Dados|    2|         true|         true| 11250.95|\n",
      "|  André dos Santos|02/02/1983|   M|         Assessor RH|    1|        false|         true|  9846.33|\n",
      "|       Bruna Souza|05/12/1994|   F|    Assessora Vendas|    3|         true|         true|  8960.47|\n",
      "|  Bernado Nogueira|05/06/1998|   M|      Assessor de TI|    2|        false|         true|  9862.32|\n",
      "|     Carlos Bonfim|26/01/1979|null|      Gerentes de TI|    2|         true|        false| 21641.84|\n",
      "|  Cristina Batista|17/11/1989|   F|  Cientista de Dados|    2|        false|         true| 13945.09|\n",
      "|      Daniel Silva|12/09/1978|   M|     Assessor Vendas|    3|         true|         true|  9016.14|\n",
      "|    Darlene Campos|19/11/1991|   F|       Gerente de RH|    1|        false|        false| 20365.66|\n",
      "|  Fabiana Monteiro|22/04/1988|   F|   Gerente de Vendas|    3|         true|        false|  15360.7|\n",
      "|Francisco Oliveira|19/01/1989|null|   Analista de Dados|    2|        false|         true| 10563.61|\n",
      "|      Ana Carvalho|16/08/1983|   F|Coordenadora de A...|    2|         true|         true| 18754.38|\n",
      "|     Fabio Martins|20/02/1979|   M|   Coordenador de RH|    1|        false|         true| 17465.54|\n",
      "|    Yasmin Botelho|05/12/2001|   F|Coordenadora de V...|    3|         true|         true| 17970.46|\n",
      "| Vinicius Carvalho|06/10/1995|   M|   Analista de Dados|    1|         true|         true|     null|\n",
      "|   João Luiz Alves|05/03/2000|   M| Estagiário de Dados|    3|         true|         true|     null|\n",
      "+------------------+----------+----+--------------------+-----+-------------+-------------+---------+\n",
      "\n"
     ]
    }
   ],
   "source": [
    "uniao03DF = uniaoDF.union(empAdic03DF.withColumn(\"sal_bruto\", F.lit(None)))\n",
    "\n",
    "uniao03DF.show()"
   ]
  }
 ],
 "metadata": {
  "kernelspec": {
   "display_name": "Python 3 (ipykernel)",
   "language": "python",
   "name": "python3"
  },
  "language_info": {
   "codemirror_mode": {
    "name": "ipython",
    "version": 3
   },
   "file_extension": ".py",
   "mimetype": "text/x-python",
   "name": "python",
   "nbconvert_exporter": "python",
   "pygments_lexer": "ipython3",
   "version": "3.8.13"
  },
  "toc-autonumbering": true
 },
 "nbformat": 4,
 "nbformat_minor": 5
}
